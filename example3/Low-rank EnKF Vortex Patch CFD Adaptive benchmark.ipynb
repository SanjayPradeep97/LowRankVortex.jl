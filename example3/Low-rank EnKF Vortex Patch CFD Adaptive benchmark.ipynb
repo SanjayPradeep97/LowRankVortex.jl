{
 "cells": [
  {
   "cell_type": "code",
   "execution_count": 2,
   "metadata": {},
   "outputs": [],
   "source": [
    "using Revise\n",
    "using LowRankVortex\n",
    "using TransportBasedInference\n",
    "using LinearAlgebra\n",
    "using Statistics\n",
    "using PotentialFlow\n",
    "import PotentialFlow.Plates: Plate, Points, Blobs\n",
    "import PotentialFlow.Motions: reset_velocity!\n",
    "import PotentialFlow.Elements\n",
    "import PotentialFlow.Properties: @property\n",
    "using JLD\n",
    "using BenchmarkTools\n",
    "using ProgressMeter\n",
    "using Interpolations\n",
    "using Distributions"
   ]
  },
  {
   "cell_type": "code",
   "execution_count": 3,
   "metadata": {},
   "outputs": [],
   "source": [
    "using Plots\n",
    "default(fontfamily = \"Computer Modern\",\n",
    "        tickfont = font(\"Computer Modern\", 9), \n",
    "        titlefont = font(\"Computer Modern\", 14), \n",
    "        guidefont = font(\"Computer Modern\", 12),\n",
    "        legendfont = font(\"Computer Modern\", 10),\n",
    "        grid = false)\n",
    "pyplot()\n",
    "using LaTeXStrings"
   ]
  },
  {
   "cell_type": "markdown",
   "metadata": {},
   "source": [
    "### Routines for the plots"
   ]
  },
  {
   "cell_type": "code",
   "execution_count": 4,
   "metadata": {},
   "outputs": [
    {
     "data": {
      "text/plain": [
       "routine_plotCx (generic function with 1 method)"
      ]
     },
     "execution_count": 4,
     "metadata": {},
     "output_type": "execute_result"
    }
   ],
   "source": [
    "function routine_spectrum(Λ::Array{Float64,1})\n",
    "    Λ = sort(abs.(Λ); rev = true)\n",
    "\n",
    "    plt = plot(layout = grid(1,3), legend = false, margin = 5*Plots.px, size = (600, 300))\n",
    "\n",
    "    scatter!(plt[1,1], collect(1:length(Λ)), Λ, \n",
    "          yscale = :log10, xlabel = L\"i\", ylabel = L\"\\lambda_i\")\n",
    "    scatter!(plt[1,2], collect(1:length(Λ)), cumsum(Λ)./sum(Λ),\n",
    "           xlabel = L\"i\", ylabel = \"Normalized cumulative energy\")\n",
    "    scatter!(plt[1,3], Λ[1:end-1] - Λ[2:end], \n",
    "          yscale = :log10, xlabel = L\"i\", ylabel = L\"\\lambda_i - \\lambda_{i+1}\")\n",
    "    return plt\n",
    "end\n",
    "\n",
    "function routine_plotCx(state, Cx::Matrix{Float64}, rx::Int64, config::VortexConfig, X::StepRangeLen, Y::StepRangeLen; withvortices::Bool=true)\n",
    "    \n",
    "    U, S, _ = svd(Symmetric(Cx))\n",
    "    source = state_to_lagrange(state, config)\n",
    "    \n",
    "    # Default julia colors\n",
    "    cur_colors = theme_palette(:auto)\n",
    "    \n",
    "    nlines = rx ÷ 3 + 1\n",
    "    if mod(rx, 3) == 0\n",
    "        nlines -= 1\n",
    "    end\n",
    "    \n",
    "    plt = plot(layout = grid(nlines, 3))\n",
    "    \n",
    "    for i = 1:rx\n",
    "        idxlines = (i÷3) + 1\n",
    "        idxcols  = i - 3*(i÷3) \n",
    "        if mod(i, 3) == 0\n",
    "            idxlines -= 1\n",
    "            idxcols = 3\n",
    "        end\n",
    "        \n",
    "        if withvortices == true\n",
    "            for j=1:config.Nv\n",
    "                # Put circles to show strength change\n",
    "                scatter!(plt[idxlines, idxcols], \n",
    "                      [state[(j-1)*3+1]],\n",
    "                      [state[(j-1)*3+2]],\n",
    "                      markersize = 50*abs.(U[3*j,i]), markerstrokecolor = cur_colors[i],\n",
    "                      markeralpha = 1.0, \n",
    "                      markerstrokewidth = 3,\n",
    "                      markercolor = :white, legend = false)\n",
    "            end\n",
    "#             plot!(plt[idxlines, idxcols], source, markersize = 12, markeralpha = 0.5, \n",
    "#                   color = cgrad(reverse(colormap(\"RdBu\")[10:end-10])),\n",
    "#                   clim = (-1.0, 1.0), label = [\"Vortices\" \"Sources\"], legend = false, colorbar = false)\n",
    "            plot!(plt[idxlines, idxcols],  xlim = (-2.0, 2.0), xticks = -2.0:1.0:2.0, \n",
    "                  ylim = (0, 1.2*maximum(imag.(config.zs))))\n",
    "\n",
    "            for j=1:config.Nv\n",
    "                # Put arrows to indicate directions of change\n",
    "                plot!(plt[idxlines, idxcols], \n",
    "                      [state[(j-1)*3+1], state[(j-1)*3+1] - U[(j-1)*3+1,i]],\n",
    "                      [state[(j-1)*3+2], state[(j-1)*3+2] - U[(j-1)*3+2,i]], \n",
    "                      linewidth = 2, arrow=(:closed, 0.5), arrowsize = 0.5, color = cur_colors[i], legend = false)\n",
    "                plot!(plt[idxlines, idxcols], \n",
    "                      [state[(j-1)*3+1], state[(j-1)*3+1] + U[(j-1)*3+1,i]],\n",
    "                      [state[(j-1)*3+2], state[(j-1)*3+2] + U[(j-1)*3+2,i]], \n",
    "                      linewidth = 2, arrow=(:closed, 0.5), arrowsize = 0.5, color = cur_colors[i], legend = false)\n",
    "            end\n",
    "        end\n",
    "    end\n",
    "    plt\n",
    "end"
   ]
  },
  {
   "cell_type": "code",
   "execution_count": 5,
   "metadata": {},
   "outputs": [
    {
     "data": {
      "text/plain": [
       "routine_plot (generic function with 1 method)"
      ]
     },
     "execution_count": 5,
     "metadata": {},
     "output_type": "execute_result"
    }
   ],
   "source": [
    "function routine_plot(state, config::VortexConfig)\n",
    "    source = state_to_lagrange(state, config)\n",
    "    plt = plot(layout = grid(1,2))\n",
    "    \n",
    "    zc = mean(getfield.(source[1], :z))\n",
    "    plot!(plt[1,1], size = (1000, 400), xlabel = L\"x\", ylabel = L\"y\")\n",
    "    plot!(plt[1,1], xlims = (-2.0, 10.0), \n",
    "                      ylim = (-2, 2))\n",
    "    plot!(plt[1,1], source, ratio = 1.0, legend = false, markersize = 5, color = cgrad([:blue; :white; :red]))\n",
    "    scatter!(plt[1,1], real.(config.ss), imag.(config.ss), markersize = 5, color = colorant\"orangered2\")\n",
    "    \n",
    "    plot!(plt[1,2], xlims = (real(zc) - 2.0, real(zc) + 2.0), \n",
    "                      ylim = (-2, 2))\n",
    "    plot!(plt[1,2], source, ratio = 1.0, legend = false, markersize = 5, color = cgrad([:blue; :white; :red]))\n",
    "\n",
    "end"
   ]
  },
  {
   "cell_type": "code",
   "execution_count": 6,
   "metadata": {},
   "outputs": [
    {
     "data": {
      "text/plain": [
       "vortex_patch"
      ]
     },
     "execution_count": 6,
     "metadata": {},
     "output_type": "execute_result"
    }
   ],
   "source": [
    "\"\"\"\n",
    "    vortex_patch!(vort,zc,Γ,radius,nring[,δ=0])\n",
    "\n",
    "Create a circular patch of vortex blobs, returned in `vort`. The centroid of the patch is at `zc`, its strength\n",
    "(circulation) is `Γ`, and its radius is `radius`. The patch consists of `nring` rings; if `nring = 1`, the patch\n",
    "consists of only a single vortex blob at the centroid. Each blob is assigned radius `δ`, which is 0 by default.\n",
    "\"\"\"\n",
    "function vortex_patch!(vort,zc,Γ,radius,nring::Int;δ=0)\n",
    "    Δr = radius/(nring-1/2)\n",
    "    dΓ = Γ/(1+8*nring*(nring-1)/2)\n",
    "    @show dΓ\n",
    "    push!(vort,Vortex.Blob(zc,dΓ,δ))\n",
    "    for ir in 1:nring-1\n",
    "        nθ = 8*ir\n",
    "        for j = 0:nθ-1\n",
    "            push!(vort,Vortex.Blob(zc + ir*Δr*exp(im*2π*j/nθ),dΓ,δ))\n",
    "        end\n",
    "    end\n",
    "    return vort\n",
    "end\n",
    "\n",
    "\"\"\"\n",
    "    vortex_patch(zc,Γ,radius,nring[,δ=0]) -> Vector{Vortex.Blob}\n",
    "\n",
    "Create a circular patch of vortex blobs. The centroid of the patch is at `zc`, its strength\n",
    "(circulation) is `Γ`, and its radius is `radius`. The patch consists of `nring` rings; if `nring = 1`, the patch\n",
    "consists of only a single vortex blob at the centroid. Each blob is assigned radius `δ`, which is 0 by default.\n",
    "\"\"\"\n",
    "vortex_patch(zc,Γ,radius,nring::Int;δ=0) = vortex_patch!(Vortex.Blob{Float64,Float64}[],zc,Γ,radius,nring,δ=δ)"
   ]
  },
  {
   "cell_type": "markdown",
   "metadata": {},
   "source": [
    "### Configuration setup"
   ]
  },
  {
   "cell_type": "code",
   "execution_count": 7,
   "metadata": {},
   "outputs": [
    {
     "data": {
      "text/plain": [
       "(0.0, 12.0)"
      ]
     },
     "execution_count": 7,
     "metadata": {},
     "output_type": "execute_result"
    }
   ],
   "source": [
    "#\n",
    "Δtgif = 0.5\n",
    "\n",
    "# Pressure sensors\n",
    "Δs = 0.5\n",
    "sensors = complex.(collect(-1.5:Δs:11.0))\n",
    "Ny = length(sensors)\n",
    "\n",
    "\n",
    "rpatch = 0.5 # initial radius of the vortex patch\n",
    "dpatch = 1.5 # initial distance between patch centroids\n",
    "Γpatch = 6.0 # strength of patch.\n",
    "Upatch = Γpatch/(2*π*dpatch)\n",
    "Nring = 4  # number of rings in each patch.\n",
    "# The uncertainty is set to a small fraction 10% of the Δr between two consecutive rings\n",
    "σr =  0.1*rpatch/(Nring-1/2)\n",
    "σΓ =  1e-2\n",
    "# Δt = 0.01#0.005*π^2*d0^2/abs(Γ0) # set the time step\n",
    "\n",
    "\n",
    "config_data = let Nv = 1+(8*(Nring-1)*Nring)÷2, \n",
    "             ss = sensors, Δt = 5e-3, δ = 5e-2,\n",
    "             ϵX = 1e-4, ϵΓ = 1e-4,\n",
    "             β = 1.0,\n",
    "             ϵY = 1e-1\n",
    "    VortexConfig(Nv, ss, Δt, δ, ϵX, ϵΓ, β, ϵY)\n",
    "end\n",
    "\n",
    "Nv = config_data.Nv\n",
    "\n",
    "xgrid = range(-2, 10, length= 800)\n",
    "ygrid = range(-2, 2, length=100)\n",
    "\n",
    "t0 = 0.0\n",
    "tf = 12.0\n",
    "tspan = (t0, tf)"
   ]
  },
  {
   "cell_type": "code",
   "execution_count": 8,
   "metadata": {},
   "outputs": [
    {
     "name": "stdout",
     "output_type": "stream",
     "text": [
      "dΓ = 0.12244897959183673\n"
     ]
    }
   ],
   "source": [
    "blobsmean = vortex_patch(im*dpatch/2, Γpatch, rpatch, Nring, δ = config_data.δ)\n",
    "\n",
    "zmean = getfield.(blobsmean, :z)\n",
    "Γmean = getfield.(blobsmean, :S);"
   ]
  },
  {
   "cell_type": "code",
   "execution_count": 9,
   "metadata": {},
   "outputs": [
    {
     "data": {
      "text/plain": [
       "SyntheticData([0.0, 0.005, 0.01, 0.015, 0.02, 0.025, 0.03, 0.035, 0.04, 0.045  …  11.955, 11.96, 11.965, 11.97, 11.975, 11.98, 11.985, 11.99, 11.995, 12.0], 0.005, [0.0], [0.0 0.0 … 0.0 0.0], [0.20666625031920313 0.20586312335318369 … 0.01270008482244937 0.012691520986275705; 0.1742425891635577 0.1739152849704368 … 0.014284036091272545 0.014273872098890915; … ; 0.010299914791860725 0.010299173780658437 … 0.06942864330844263 0.06951685503790611; 0.00948066569936639 0.009479346992547167 … 0.05526044098983389 0.05532486199339147])"
      ]
     },
     "execution_count": 9,
     "metadata": {},
     "output_type": "execute_result"
    }
   ],
   "source": [
    "Re = 300\n",
    "gridRe = 3\n",
    "\n",
    "idxCFD = Int64[]\n",
    "\n",
    "ssCFD = -1.5:0.01:11\n",
    "NCFD = length(ssCFD)\n",
    "\n",
    "for (i, xi) in enumerate(ssCFD)\n",
    "    if sum(xi .∈ config_data.ss) == 1\n",
    "        push!(idxCFD, copy(i))\n",
    "    elseif sum(xi .∈ config_data.ss) == 2\n",
    "        error()\n",
    "    end\n",
    "end\n",
    "\n",
    "@assert ssCFD[idxCFD] == config_data.ss \"Error in the selected sensors\"\n",
    "\n",
    "fullpress = load(\"/media/mat/HDD/VortexPatch.jl/notebooks/data/pressure_vortex_patch_CFD_t_\"*\n",
    "    string(ceil(Int64, tspan[end]))*\"_Re_\"*string(ceil(Int64, Re))*\n",
    "                 \"_gridRe_\"*string(ceil(Int64, gridRe))*\"_rpatch_\"*string(ceil(Int64, 100*rpatch))*\n",
    "                 \"_dpatch_\"*string(ceil(Int64, 100*dpatch))*\n",
    "                 \"_Gpatch_\"*string(ceil(Int64, 100*Γpatch))*\".jld\")[\"p\"]\n",
    "\n",
    "# fullpress = load(\"/media/mat/HDD/VortexPatch.jl/notebooks/data/\"*\n",
    "#     \"pressure_vortex_patch_CFD__t_12Re_300_gridRe_3_rpatch_30_dpatch_200_Gpatch_600.jld\")[\"p\"]\n",
    "\n",
    "# pressure_vortex_patch_CFD__t_12_Re_300_gridRe_3_rpatch_40_dpatch_100_Gpatch_600\n",
    "\n",
    "# pressure_vortex_patch_CFD__t_12Re_300_gridRe_3_rpatch_30_dpatch_200_Gpatch_600\n",
    "\n",
    "yt = fullpress[idxCFD, :]\n",
    "\n",
    "\n",
    "ΔtCFD = 5e-3\n",
    "data = SyntheticData(collect(0.0:ΔtCFD:12.0), ΔtCFD, zeros(1), zeros(1, length(collect(0.0:ΔtCFD:12.0))), yt)"
   ]
  },
  {
   "cell_type": "markdown",
   "metadata": {},
   "source": [
    "### Setup the sequential filter"
   ]
  },
  {
   "cell_type": "code",
   "execution_count": 10,
   "metadata": {},
   "outputs": [
    {
     "data": {
      "text/plain": [
       "VortexConfig(49, ComplexF64[-1.5 + 0.0im, -1.0 + 0.0im, -0.5 + 0.0im, 0.0 + 0.0im, 0.5 + 0.0im, 1.0 + 0.0im, 1.5 + 0.0im, 2.0 + 0.0im, 2.5 + 0.0im, 3.0 + 0.0im  …  6.5 + 0.0im, 7.0 + 0.0im, 7.5 + 0.0im, 8.0 + 0.0im, 8.5 + 0.0im, 9.0 + 0.0im, 9.5 + 0.0im, 10.0 + 0.0im, 10.5 + 0.0im, 11.0 + 0.0im], 0.005, 0.05, 0.0001, 0.0001, 1.0, 0.1)"
      ]
     },
     "execution_count": 10,
     "metadata": {},
     "output_type": "execute_result"
    }
   ],
   "source": [
    "# config = let Nv = Nclusters*Nset, Ns = 1, zs = [2.0*im], Qs = [1.0], U = complex(1.0), \n",
    "#              ss = sensors, Δt = 1e-2, δ = 1e-2,\n",
    "#              ϵX = 5e-3, ϵΓ = 5e-3, ϵQ = 5e-3,\n",
    "#              β = 1.0,\n",
    "#              ϵY = 1e-2\n",
    "#     VortexConfig(Nv, Ns, zs, Qs, U, ss, Δt, δ, ϵX, ϵΓ, ϵQ, β, ϵY)\n",
    "# end\n",
    "\n",
    "config = deepcopy(config_data)"
   ]
  },
  {
   "cell_type": "code",
   "execution_count": 11,
   "metadata": {},
   "outputs": [
    {
     "data": {
      "text/plain": [
       "AdditiveInflation(26, [0.0, 0.0, 0.0, 0.0, 0.0, 0.0, 0.0, 0.0, 0.0, 0.0  …  0.0, 0.0, 0.0, 0.0, 0.0, 0.0, 0.0, 0.0, 0.0, 0.0], [0.010000000000000002 0.0 … 0.0 0.0; 0.0 0.010000000000000002 … 0.0 0.0; … ; 0.0 0.0 … 0.010000000000000002 0.0; 0.0 0.0 … 0.0 0.010000000000000002], [0.1 0.0 … 0.0 0.0; 0.0 0.1 … 0.0 0.0; … ; 0.0 0.0 … 0.1 0.0; 0.0 0.0 … 0.0 0.1])"
      ]
     },
     "execution_count": 11,
     "metadata": {},
     "output_type": "execute_result"
    }
   ],
   "source": [
    "# ϵX0 = 0.001\n",
    "# ϵΓ0 = 0.001\n",
    "# ϵQ0 = 0.001\n",
    "\n",
    "# ϵ0 = RecipeInflation([ϵX0; ϵΓ0; ϵQ0])\n",
    "\n",
    "ϵy = AdditiveInflation(Ny, zeros(Ny), config.ϵY)"
   ]
  },
  {
   "cell_type": "code",
   "execution_count": 13,
   "metadata": {},
   "outputs": [
    {
     "data": {
      "text/plain": [
       "Stochastic EnKF  with filtered = true\n"
      ]
     },
     "execution_count": 13,
     "metadata": {},
     "output_type": "execute_result"
    }
   ],
   "source": [
    "enkf = StochEnKF(x-> x, ϵy, config.Δt, config.Δt; isfiltered = true)"
   ]
  },
  {
   "cell_type": "code",
   "execution_count": 14,
   "metadata": {},
   "outputs": [
    {
     "data": {
      "text/plain": [
       "147"
      ]
     },
     "execution_count": 14,
     "metadata": {},
     "output_type": "execute_result"
    }
   ],
   "source": [
    "Nelist = [100; 80; 60; 50; 40; 30; 25; 20; 15; 12; 10; 8]\n",
    "Nrun = 50\n",
    "Ny = length(config.ss)\n",
    "Nx = 3*config.Nv"
   ]
  },
  {
   "cell_type": "code",
   "execution_count": 15,
   "metadata": {},
   "outputs": [
    {
     "name": "stdout",
     "output_type": "stream",
     "text": [
      "Ne = 12\n",
      "(Ne, k) = (12, 1)\n",
      "(Ne, k) = (12, 2)\n",
      "(Ne, k) = (12, 3)\n",
      "(Ne, k) = (12, 4)\n",
      "(Ne, k) = (12, 5)\n",
      "(Ne, k) = (12, 6)\n",
      "(Ne, k) = (12, 7)\n",
      "(Ne, k) = (12, 8)\n",
      "(Ne, k) = (12, 9)\n",
      "(Ne, k) = (12, 10)\n",
      "(Ne, k) = (12, 11)\n",
      "(Ne, k) = (12, 12)\n",
      "(Ne, k) = (12, 13)\n",
      "(Ne, k) = (12, 14)\n",
      "(Ne, k) = (12, 15)\n",
      "(Ne, k) = (12, 16)\n",
      "(Ne, k) = (12, 17)\n",
      "(Ne, k) = (12, 18)\n",
      "(Ne, k) = (12, 19)\n",
      "(Ne, k) = (12, 20)\n",
      "(Ne, k) = (12, 21)\n",
      "(Ne, k) = (12, 22)\n",
      "(Ne, k) = (12, 23)\n",
      "(Ne, k) = (12, 24)\n",
      "(Ne, k) = (12, 25)\n",
      "(Ne, k) = (12, 26)\n",
      "(Ne, k) = (12, 27)\n",
      "(Ne, k) = (12, 28)\n",
      "(Ne, k) = (12, 29)\n",
      "(Ne, k) = (12, 30)\n",
      "(Ne, k) = (12, 31)\n",
      "(Ne, k) = (12, 32)\n",
      "(Ne, k) = (12, 33)\n",
      "(Ne, k) = (12, 34)\n",
      "(Ne, k) = (12, 35)\n",
      "(Ne, k) = (12, 36)\n",
      "(Ne, k) = (12, 37)\n",
      "(Ne, k) = (12, 38)\n",
      "(Ne, k) = (12, 39)\n",
      "(Ne, k) = (12, 40)\n",
      "(Ne, k) = (12, 41)\n",
      "(Ne, k) = (12, 42)\n",
      "(Ne, k) = (12, 43)\n",
      "(Ne, k) = (12, 44)\n",
      "(Ne, k) = (12, 45)\n",
      "(Ne, k) = (12, 46)\n",
      "(Ne, k) = (12, 47)\n",
      "(Ne, k) = (12, 48)\n",
      "(Ne, k) = (12, 49)\n",
      "(Ne, k) = (12, 50)\n",
      "Ne = 10\n",
      "(Ne, k) = (10, 1)\n",
      "(Ne, k) = (10, 2)\n",
      "(Ne, k) = (10, 3)\n",
      "(Ne, k) = (10, 4)\n",
      "(Ne, k) = (10, 5)\n",
      "(Ne, k) = (10, 6)\n",
      "(Ne, k) = (10, 7)\n",
      "(Ne, k) = (10, 8)\n",
      "(Ne, k) = (10, 9)\n",
      "(Ne, k) = (10, 10)\n",
      "(Ne, k) = (10, 11)\n",
      "(Ne, k) = (10, 12)\n",
      "(Ne, k) = (10, 13)\n",
      "(Ne, k) = (10, 14)\n",
      "(Ne, k) = (10, 15)\n",
      "(Ne, k) = (10, 16)\n",
      "(Ne, k) = (10, 17)\n",
      "(Ne, k) = (10, 18)\n",
      "(Ne, k) = (10, 19)\n",
      "(Ne, k) = (10, 20)\n",
      "(Ne, k) = (10, 21)\n",
      "(Ne, k) = (10, 22)\n",
      "(Ne, k) = (10, 23)\n",
      "(Ne, k) = (10, 24)\n",
      "(Ne, k) = (10, 25)\n",
      "(Ne, k) = (10, 26)\n",
      "(Ne, k) = (10, 27)\n",
      "(Ne, k) = (10, 28)\n",
      "(Ne, k) = (10, 29)\n",
      "(Ne, k) = (10, 30)\n",
      "(Ne, k) = (10, 31)\n",
      "(Ne, k) = (10, 32)\n",
      "(Ne, k) = (10, 33)\n",
      "(Ne, k) = (10, 34)\n",
      "(Ne, k) = (10, 35)\n",
      "(Ne, k) = (10, 36)\n",
      "(Ne, k) = (10, 37)\n",
      "(Ne, k) = (10, 38)\n",
      "(Ne, k) = (10, 39)\n",
      "(Ne, k) = (10, 40)\n",
      "(Ne, k) = (10, 41)\n",
      "(Ne, k) = (10, 42)\n",
      "(Ne, k) = (10, 43)\n",
      "(Ne, k) = (10, 44)\n",
      "(Ne, k) = (10, 45)\n",
      "(Ne, k) = (10, 46)\n",
      "(Ne, k) = (10, 47)\n",
      "(Ne, k) = (10, 48)\n",
      "(Ne, k) = (10, 49)\n",
      "(Ne, k) = (10, 50)\n",
      "Ne = 8\n",
      "(Ne, k) = (8, 1)\n"
     ]
    },
    {
     "ename": "LoadError",
     "evalue": "SingularException(26)",
     "output_type": "error",
     "traceback": [
      "SingularException(26)",
      "",
      "Stacktrace:",
      " [1] inv(D::Diagonal{Float64, Vector{Float64}})",
      "   @ LinearAlgebra /buildworker/worker/package_linux64/build/usr/share/julia/stdlib/v1.6/LinearAlgebra/src/diagonal.jl:634",
      " [2] adaptive_symmetric_lowrankvortexassim(algo::StochEnKF, X::Matrix{Float64}, tspan::Tuple{Float64, Float64}, config::VortexConfig, data::SyntheticData; rxdefault::Nothing, rydefault::Nothing, isadaptive::Bool, ratio::Float64, israndomized::Bool, P::Serial)",
      "   @ VortexPatch /media/mat/HDD/VortexPatch.jl/src/adaptive_symmetric_lowrankassimilation.jl:168",
      " [3] top-level scope",
      "   @ ./In[15]:157",
      " [4] eval",
      "   @ ./boot.jl:360 [inlined]",
      " [5] include_string(mapexpr::typeof(REPL.softscope), mod::Module, code::String, filename::String)",
      "   @ Base ./loading.jl:1116"
     ]
    }
   ],
   "source": [
    "for Ne in Nelist\n",
    "    @show Ne\n",
    "\n",
    "    rmse_lowranktab_85 = zeros(Nrun)\n",
    "    rmse_lowranktab_95 = zeros(Nrun)\n",
    "    rmse_lowranktab_99 = zeros(Nrun)\n",
    "    rmse_enkftab = zeros(Nrun)\n",
    "\n",
    "\n",
    "    rx_lowranktab_85 = zeros(Int64, Nrun, ceil(Int64, tf/config.Δt))\n",
    "    ry_lowranktab_85 = zeros(Int64, Nrun, ceil(Int64, tf/config.Δt))\n",
    "\n",
    "    rx_lowranktab_95 = zeros(Int64, Nrun, ceil(Int64, tf/config.Δt))\n",
    "    ry_lowranktab_95 = zeros(Int64, Nrun, ceil(Int64, tf/config.Δt))\n",
    "\n",
    "    rx_lowranktab_99 = zeros(Int64, Nrun, ceil(Int64, tf/config.Δt))\n",
    "    ry_lowranktab_99 = zeros(Int64, Nrun, ceil(Int64, tf/config.Δt))\n",
    "    \n",
    "    for k=1:Nrun\n",
    "        @show Ne, k\n",
    "        # Generate the initial condition\n",
    "        X0 = zeros(Ny+Nx, Ne)\n",
    "\n",
    "        for l=1:Ne\n",
    "            for i=1:config.Nv\n",
    "                # Perturbed position \n",
    "                zi = zmean[i] + σr*randn()*exp(im*π*rand())\n",
    "                X0[Ny + 3*(i-1) + 1, l] = real(zi)\n",
    "                X0[Ny + 3*(i-1) + 2, l] = imag(zi)\n",
    "                # Perturbed circulation\n",
    "                Γi = Γmean[i] + σΓ*randn()\n",
    "                X0[Ny + 3*(i-1) + 3, l] = Γi\n",
    "            end\n",
    "        end\n",
    "\n",
    "        timeidx  = 1601:2401\n",
    "\n",
    "        # Run EnKF\n",
    "        Xf, Xa = symmetric_vortexassim(enkf, deepcopy(X0), tspan, config, data; P = serial)\n",
    "\n",
    "        rmse_enkftab[k] = 0.0\n",
    "\n",
    "\n",
    "#         @show \"start pressure EnkF\"\n",
    "        # Compute the pressure over the time interval\n",
    "        for i in timeidx\n",
    "            @assert config.Δt == data.Δt \n",
    "            idxCFD = deepcopy(i)\n",
    "            X_enkf = deepcopy(Xa[i])\n",
    "            Y_enkf = zeros(NCFD, Ne)\n",
    "\n",
    "            ϵx = RecipeInflation([config.ϵX; config.ϵΓ])\n",
    "            ϵmul = MultiplicativeInflation(config.β)\n",
    "\n",
    "            # Perform state inflation\n",
    "            ϵmul(X_enkf, 1, Nx)\n",
    "            ϵx(X_enkf, 0, Nx, config)\n",
    "            for i=1:Ne\n",
    "                Y_enkf[:,i] .= pressure(collect(ssCFD) .+ 0.0*im, \n",
    "                                   vcat(state_to_lagrange(X_enkf[:,i], config)...), 0.0) .+ config.ϵY*randn(NCFD)\n",
    "            end\n",
    "\n",
    "            q50_enkf = median(Y_enkf; dims = 2)[:,1]\n",
    "            rmse_enkftab[k] += 1/length(timeidx)*deepcopy(norm(fullpress[:,idxCFD]-q50_enkf)/sqrt(length(ssCFD)))\n",
    "        end\n",
    "\n",
    "        save(\"/media/mat/HDD/LowRankVortex.jl/example3/data/metric_vortexpatch_enkf_Ne_\"*string(Ne)*\"_3.jld\", \n",
    "             \"rmse\", deepcopy(rmse_enkftab))\n",
    "\n",
    "\n",
    "        #############################\n",
    "        # Run adaptive low rank EnKF with 0.85\n",
    "\n",
    "        Xflowrank_85, Xalowrank_85, rxhist_85, ryhist_85 = adaptive_symmetric_lowrankvortexassim(enkf, deepcopy(X0), \n",
    "               tspan, config, data; rxdefault = nothing, rydefault = nothing, ratio = 0.85, P = serial, isadaptive = true)\n",
    "\n",
    "        rx_lowranktab_85[k,:] .= deepcopy(rxhist_85)\n",
    "        ry_lowranktab_85[k,:] .= deepcopy(ryhist_85)\n",
    "\n",
    "        rmse_lowranktab_85[k] = 0.0\n",
    "\n",
    "#         @show \"start pressure low rank EnkF\"\n",
    "\n",
    "        # Compute the pressure over the time interval\n",
    "        for i in timeidx\n",
    "            @assert config.Δt == data.Δt \n",
    "            idxCFD = deepcopy(i)\n",
    "            X_lowrank_85 = deepcopy(Xalowrank_85[i])\n",
    "            Y_lowrank_85 = zeros(NCFD, Ne)\n",
    "\n",
    "            ϵx = RecipeInflation([config.ϵX; config.ϵΓ])\n",
    "            ϵmul = MultiplicativeInflation(config.β)\n",
    "\n",
    "            # Perform state inflation\n",
    "            ϵmul(X_lowrank_85, 1, Nx)\n",
    "            ϵx(X_lowrank_85, 0, Nx, config)\n",
    "            for i=1:Ne\n",
    "                Y_lowrank_85[:,i] .= pressure(collect(ssCFD) .+ 0.0*im, \n",
    "                                   vcat(state_to_lagrange(X_lowrank_85[:,i], config)...), 0.0) .+ config.ϵY*randn(NCFD)\n",
    "            end\n",
    "\n",
    "            q50_lowrank_85 = median(Y_lowrank_85; dims = 2)[:,1]\n",
    "            rmse_lowranktab_85[k] += 1/length(timeidx)*deepcopy(norm(fullpress[:,idxCFD]-q50_lowrank_85)/sqrt(length(ssCFD)))\n",
    "        end\n",
    "\n",
    "\n",
    "        save(\"/media/mat/HDD/LowRankVortex.jl/example3/data/metric_vortexpatch_lowrank_Ne_\"*string(Ne)*\"_ratio_\"*string(ceil(Int64, 100*0.85))*\".jld\", \n",
    "             \"rmse\", deepcopy(rmse_lowranktab_85), \n",
    "             \"rxhist\", deepcopy(rx_lowranktab_85), \n",
    "             \"ryhist\", deepcopy(ry_lowranktab_85))\n",
    "\n",
    "        #############################\n",
    "        # Run adaptive low rank EnKF with 0.95\n",
    "\n",
    "        Xflowrank_95, Xalowrank_95, rxhist_95, ryhist_95 = adaptive_symmetric_lowrankvortexassim(enkf, deepcopy(X0), \n",
    "               tspan, config, data; rxdefault = nothing, rydefault = nothing, ratio = 0.95, P = serial, isadaptive = true)\n",
    "\n",
    "        rx_lowranktab_95[k,:] .= deepcopy(rxhist_95)\n",
    "        ry_lowranktab_95[k,:] .= deepcopy(ryhist_95)\n",
    "\n",
    "        rmse_lowranktab_95[k] = 0.0\n",
    "\n",
    "#         @show \"start pressure low rank EnkF\"\n",
    "\n",
    "        # Compute the pressure over the time interval\n",
    "        for i in timeidx\n",
    "            @assert config.Δt == data.Δt \n",
    "            idxCFD = deepcopy(i)\n",
    "            X_lowrank_95 = deepcopy(Xalowrank_95[i])\n",
    "            Y_lowrank_95 = zeros(NCFD, Ne)\n",
    "\n",
    "            ϵx = RecipeInflation([config.ϵX; config.ϵΓ])\n",
    "            ϵmul = MultiplicativeInflation(config.β)\n",
    "\n",
    "            # Perform state inflation\n",
    "            ϵmul(X_lowrank_95, 1, Nx)\n",
    "            ϵx(X_lowrank_95, 0, Nx, config)\n",
    "            for i=1:Ne\n",
    "                Y_lowrank_95[:,i] .= pressure(collect(ssCFD) .+ 0.0*im, \n",
    "                                   vcat(state_to_lagrange(X_lowrank_95[:,i], config)...), 0.0) .+ config.ϵY*randn(NCFD)\n",
    "            end\n",
    "\n",
    "            q50_lowrank_95 = median(Y_lowrank_95; dims = 2)[:,1]\n",
    "            rmse_lowranktab_95[k] += 1/length(timeidx)*deepcopy(norm(fullpress[:,idxCFD]-q50_lowrank_95)/sqrt(length(ssCFD)))\n",
    "        end\n",
    "\n",
    "\n",
    "        save(\"/media/mat/HDD/LowRankVortex.jl/example3/data/metric_vortexpatch_lowrank_Ne_\"*string(Ne)*\"_ratio_\"*string(ceil(Int64, 100*0.95))*\".jld\", \n",
    "             \"rmse\", deepcopy(rmse_lowranktab_95), \n",
    "             \"rxhist\", deepcopy(rx_lowranktab_95), \n",
    "             \"ryhist\", deepcopy(ry_lowranktab_95))\n",
    "\n",
    "\n",
    "        #############################\n",
    "        # Run adaptive low rank EnKF with 0.99\n",
    "\n",
    "        Xflowrank_99, Xalowrank_99, rxhist_99, ryhist_99 = adaptive_symmetric_lowrankvortexassim(enkf, deepcopy(X0), \n",
    "               tspan, config, data; rxdefault = nothing, rydefault = nothing, ratio = 0.99, P = serial, isadaptive = true)\n",
    "\n",
    "        rx_lowranktab_99[k,:] .= deepcopy(rxhist_99)\n",
    "        ry_lowranktab_99[k,:] .= deepcopy(ryhist_99)\n",
    "\n",
    "        rmse_lowranktab_99[k] = 0.0\n",
    "\n",
    "#         @show \"start pressure low rank EnkF\"\n",
    "\n",
    "        # Compute the pressure over the time interval\n",
    "        for i in timeidx\n",
    "            @assert config.Δt == data.Δt \n",
    "            idxCFD = deepcopy(i)\n",
    "            X_lowrank_99 = deepcopy(Xalowrank_99[i])\n",
    "            Y_lowrank_99 = zeros(NCFD, Ne)\n",
    "\n",
    "            ϵx = RecipeInflation([config.ϵX; config.ϵΓ])\n",
    "            ϵmul = MultiplicativeInflation(config.β)\n",
    "\n",
    "            # Perform state inflation\n",
    "            ϵmul(X_lowrank_99, 1, Nx)\n",
    "            ϵx(X_lowrank_99, 0, Nx, config)\n",
    "            for i=1:Ne\n",
    "                Y_lowrank_99[:,i] .= pressure(collect(ssCFD) .+ 0.0*im, \n",
    "                                   vcat(state_to_lagrange(X_lowrank_99[:,i], config)...), 0.0) .+ config.ϵY*randn(NCFD)\n",
    "            end\n",
    "\n",
    "            q50_lowrank_99 = median(Y_lowrank_99; dims = 2)[:,1]\n",
    "            rmse_lowranktab_99[k] += 1/length(timeidx)*deepcopy(norm(fullpress[:,idxCFD]-q50_lowrank_99)/sqrt(length(ssCFD)))\n",
    "        end\n",
    "\n",
    "\n",
    "        save(\"/media/mat/HDD/LowRankVortex.jl/example3/data/metric_vortexpatch_lowrank_Ne_\"*string(Ne)*\"_ratio_\"*string(ceil(Int64, 100*0.99))*\".jld\", \n",
    "             \"rmse\", deepcopy(rmse_lowranktab_99), \n",
    "             \"rxhist\", deepcopy(rx_lowranktab_99), \n",
    "             \"ryhist\", deepcopy(ry_lowranktab_99))\n",
    "    end\n",
    "end"
   ]
  },
  {
   "cell_type": "code",
   "execution_count": null,
   "metadata": {},
   "outputs": [],
   "source": []
  }
 ],
 "metadata": {
  "kernelspec": {
   "display_name": "Julia 1.6.2",
   "language": "julia",
   "name": "julia-1.6"
  },
  "language_info": {
   "file_extension": ".jl",
   "mimetype": "application/julia",
   "name": "julia",
   "version": "1.6.2"
  }
 },
 "nbformat": 4,
 "nbformat_minor": 2
}

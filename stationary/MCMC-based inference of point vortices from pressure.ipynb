{
 "cells": [
  {
   "cell_type": "markdown",
   "id": "7df1d66b",
   "metadata": {},
   "source": [
    "# Inference of free-space vortices from pressure using MCMC"
   ]
  },
  {
   "cell_type": "code",
   "execution_count": 1,
   "id": "43491054",
   "metadata": {},
   "outputs": [],
   "source": [
    "using Revise"
   ]
  },
  {
   "cell_type": "code",
   "execution_count": 2,
   "id": "3aafc837",
   "metadata": {},
   "outputs": [
    {
     "name": "stderr",
     "output_type": "stream",
     "text": [
      "┌ Info: Precompiling LowRankVortex [fdf095b8-6f21-420b-9d49-8e692abb03d1]\n",
      "└ @ Base loading.jl:1664\n"
     ]
    }
   ],
   "source": [
    "using LowRankVortex"
   ]
  },
  {
   "cell_type": "code",
   "execution_count": 3,
   "id": "3284abec",
   "metadata": {},
   "outputs": [],
   "source": [
    "using PotentialFlow"
   ]
  },
  {
   "cell_type": "code",
   "execution_count": 4,
   "id": "9e4ffb11",
   "metadata": {},
   "outputs": [],
   "source": [
    "using CairoMakie\n",
    "#using Plots\n",
    "#pyplot()"
   ]
  },
  {
   "cell_type": "code",
   "execution_count": 5,
   "id": "a639fdf5",
   "metadata": {},
   "outputs": [],
   "source": [
    "using LaTeXStrings"
   ]
  },
  {
   "cell_type": "code",
   "execution_count": 6,
   "id": "bec4e8c2",
   "metadata": {},
   "outputs": [],
   "source": [
    "using Distributions\n",
    "using Random\n",
    "using LinearAlgebra\n",
    "using GaussianMixtures\n",
    "using Statistics"
   ]
  },
  {
   "cell_type": "markdown",
   "id": "c44f9593",
   "metadata": {},
   "source": [
    "### Truth"
   ]
  },
  {
   "cell_type": "code",
   "execution_count": 171,
   "id": "0c8bf215",
   "metadata": {},
   "outputs": [],
   "source": [
    "t = 0.0\n",
    "δ_true = 0.01\n",
    "\n",
    "\n",
    "#=\n",
    "# For placing the vortices randomly\n",
    "=#\n",
    "#=\n",
    "Nv_cluster = 5\n",
    "Nv_per_cluster = 1\n",
    "Nv_true = Nv_cluster*Nv_per_cluster \n",
    "\n",
    "xr = (-1.5,1.5)\n",
    "yr = (-1.0,1.0)\n",
    "Γr = (-2.0,2.0)\n",
    "\n",
    "σx = 0.03\n",
    "σΓ = 0.03\n",
    "zv, Γv = createclusters(Nv_cluster,Nv_per_cluster,xr,yr,Γr,σx,σΓ,each_cluster_radius=1.5*σx)\n",
    "=#\n",
    "\n",
    "#=\n",
    "Prescribed placement\n",
    "=#\n",
    "zv = [0.5+1.0im]\n",
    "Γv = [1.0]\n",
    "#zv = [-1.0+0.75im,0.75+0.5im]  # [-1.0+0.75im,0.75+0.5im]\n",
    "#Γv = [1.2,0.4] #[1.2,-1.0]\n",
    "#zv = [-1.0+0.75im,0.25+0.5im,0.75+0.75im]\n",
    "#Γv = [1.0,-1.2,1.4]\n",
    "Nv_true = length(zv);\n",
    "\n",
    "#=\n",
    "x_true = [-0.7611581857580003,\n",
    "  0.7266716391085539,\n",
    "  0.04730897238217636,\n",
    "  0.4637373841856715,\n",
    "  0.6347931827658125,\n",
    "  1.6466841098688845];\n",
    "  zv, Γv = state_to_positions_and_strengths(x_true)\n",
    "  Nv_true =  length(zv)\n",
    "=#\n"
   ]
  },
  {
   "cell_type": "markdown",
   "id": "38145433",
   "metadata": {},
   "source": [
    "### Create sensors"
   ]
  },
  {
   "cell_type": "code",
   "execution_count": 982,
   "id": "63a27947",
   "metadata": {},
   "outputs": [],
   "source": [
    "# sensors on a grid\n",
    "#=\n",
    "xmin, xmax = -2.5, 2.5\n",
    "xsens = range(xmin,xmax,length=81)\n",
    "ysens = range(xmin,xmax,length=81)\n",
    "zsens = xsens .+ im*ysens';\n",
    "sens = vec(zsens);\n",
    "=#\n",
    "\n",
    "# sensors in a circle\n",
    "rsens = 2.0\n",
    "Nsens = 21\n",
    "θsens = range(0,2π,length=Nsens+1)\n",
    "#sens = rsens*exp.(im*θsens[1:end-1]);\n",
    "\n",
    "# sensors in lines\n",
    "Nsens = 3\n",
    "ϵsens = 0.0\n",
    "lowerrow = range(-1,1,length=Nsens) .+ (-0.5ϵsens .+ ϵsens*rand(Nsens))*im\n",
    "#upperrow = range(-2.0,2.0,length=Nsens) .+ 1.0*im\n",
    "#leftside = im*range(-1.0,3.0,length=Nsens) .- 1.0\n",
    "#rightside = im*range(-1.0,3.0,length=Nsens) .+ 1.0\n",
    "sens = vcat(lowerrow,);  #upperrow);"
   ]
  },
  {
   "cell_type": "markdown",
   "id": "3154cd97",
   "metadata": {},
   "source": [
    "### Set some plotting themes"
   ]
  },
  {
   "cell_type": "code",
   "execution_count": 917,
   "id": "1f569c58",
   "metadata": {},
   "outputs": [],
   "source": [
    "xytheme = Theme(\n",
    "        Axis = (aspect=DataAspect(),xlabel=L\"x\",ylabel=L\"y\"),\n",
    "        palette = (color = Makie.wong_colors(),),\n",
    "        Lines = (cycle = [:color],),\n",
    "        Scatter = (cycle = [:color],)\n",
    "    );\n",
    "\n",
    "sensortheme = Theme(\n",
    "    Axis = (xticks=1:length(sens),xlabel=\"Sensor no.\",ylabel=L\"p-p_\\infty\")\n",
    ");"
   ]
  },
  {
   "cell_type": "markdown",
   "id": "316a9145",
   "metadata": {},
   "source": [
    "#### Set up the observer for the truth data"
   ]
  },
  {
   "cell_type": "code",
   "execution_count": 983,
   "id": "2088ac60",
   "metadata": {},
   "outputs": [],
   "source": [
    "config_true = VortexConfig(Nv_true, δ_true, body=LowRankVortex.NoWall)\n",
    "\n",
    "truez = zv\n",
    "\n",
    "vort = Vortex.Blob.(zv,Γv,δ_true)\n",
    "x_true = lagrange_to_state(vort,config_true)\n",
    "\n",
    "obs_true = PressureObservations(sens,config_true);"
   ]
  },
  {
   "cell_type": "code",
   "execution_count": 984,
   "id": "e8a484ce",
   "metadata": {},
   "outputs": [
    {
     "data": {
      "image/png": "[encoded data removed]"
     },
     "execution_count": 984,
     "metadata": {},
     "output_type": "execute_result"
    }
   ],
   "source": [
    "with_theme(xytheme) do\n",
    "    f = Figure(;resolution = (400, 200))\n",
    "    ax = f[1,1] = Axis(f;limits=(-3,3,-1,2))\n",
    "    show_singularities!(ax,x_true,obs_true)\n",
    "    plot_sensors!(ax,obs_true)\n",
    "    f\n",
    "end"
   ]
  },
  {
   "cell_type": "markdown",
   "id": "43f931f2",
   "metadata": {},
   "source": [
    "### Evaluate the true sensor data and add noise"
   ]
  },
  {
   "cell_type": "code",
   "execution_count": 985,
   "id": "22d7c61d",
   "metadata": {},
   "outputs": [
    {
     "data": {
      "image/png": "[encoded data removed]"
     },
     "execution_count": 985,
     "metadata": {},
     "output_type": "execute_result"
    }
   ],
   "source": [
    "add_noise = false\n",
    "\n",
    "# evaluate data without noise\n",
    "ystar0 = observations(x_true,t,obs_true);\n",
    "\n",
    "# set measurement noise level\n",
    "ϵmeas_data = [2.5e-4,3.75e-4,5e-4,6.25e-4,8e-4,1e-3,1.5e-3,2e-3,3e-3,4e-3];\n",
    "ϵmeas = ϵmeas_data[5] #5e-4 #1e-3\n",
    "\n",
    "Σϵ = Diagonal(ϵmeas^2*ones(length(sens)))\n",
    "\n",
    "noisedist = MvNormal(zero(ystar0),Σϵ)\n",
    "ystar = ystar0\n",
    "if add_noise\n",
    "    ystar += rand(noisedist)\n",
    "end\n",
    "\n",
    "with_theme(sensortheme) do\n",
    "    f = Figure(;resolution = (400, 200))\n",
    "    ax = f[1,1] = Axis(f)\n",
    "    plot_sensor_data!(ax,ystar0,obs_true;sensor_noise=ϵmeas*ones(length(ystar)))\n",
    "    f\n",
    "end"
   ]
  },
  {
   "cell_type": "markdown",
   "id": "ff12a55f",
   "metadata": {},
   "source": [
    "## Vortex estimation"
   ]
  },
  {
   "cell_type": "code",
   "execution_count": 986,
   "id": "7b559084",
   "metadata": {},
   "outputs": [
    {
     "data": {
      "text/plain": [
       "my_logp̃ (generic function with 1 method)"
      ]
     },
     "execution_count": 986,
     "metadata": {},
     "output_type": "execute_result"
    }
   ],
   "source": [
    "Nv_estimator = 1\n",
    "δ = 0.01\n",
    "\n",
    "config_estimator = VortexConfig(Nv_estimator, δ, body=LowRankVortex.NoWall)\n",
    "\n",
    "\n",
    "# ranges to confine the prior mean to\n",
    "xr = (-2,2)\n",
    "yr = (-2,2) #(0.01,2.0)\n",
    "#dΓr = (-4,4)\n",
    "#Γtotr = (0.01,2)\n",
    "Γr = (-2,2)\n",
    "bounds = create_state_bounds(xr,yr,Γr,config_estimator);\n",
    "\n",
    "\n",
    "obs = PressureObservations(sens,config_estimator);\n",
    "\n",
    "# Function for the log of the joint distribution\n",
    "function my_logp̃(x::Vector)\n",
    "    logp̃ = normal_loglikelihood(x,t,ystar,Σϵ,obs)\n",
    "    logp̃ += log_uniform(x,bounds)\n",
    "end"
   ]
  },
  {
   "cell_type": "markdown",
   "id": "0720cb89",
   "metadata": {},
   "source": [
    "### MCMC approach"
   ]
  },
  {
   "cell_type": "code",
   "execution_count": 987,
   "id": "cd0de70d",
   "metadata": {},
   "outputs": [],
   "source": [
    "## Parallel tempering ##\n",
    "# Set the number of chains and the inverse \"temperature\" of each chain\n",
    "nchain = 5\n",
    "β = 5.0.^(range(0,-4,length=nchain));"
   ]
  },
  {
   "cell_type": "code",
   "execution_count": 988,
   "id": "caea09a7",
   "metadata": {},
   "outputs": [],
   "source": [
    "Ntrial = 10000\n",
    "propvarX = 0.01^2 # 0.01^2\n",
    "propvarY = 0.01^2 # 0.01^2\n",
    "propvarΓ = 0.05^2 # 0.01^2\n",
    "propvar = state_covariance(propvarX,propvarY,propvarΓ,config_estimator);\n",
    "\n",
    "# scale the covariance of each chain by its temperature\n",
    "propvars = [propvar/β[i] for i = 1:nchain];"
   ]
  },
  {
   "cell_type": "code",
   "execution_count": 989,
   "id": "1b71780d",
   "metadata": {},
   "outputs": [],
   "source": [
    "#xseed = copy(x_true)\n",
    "xseed = generate_random_state(xr,yr,Γr,obs.config)\n",
    "#xseed = generate_random_state(xr,yr,dΓr,Γtotr,obs.config)\n",
    "xseeds = [xseed for n = 1:nchain]\n",
    "#xseeds = [generate_random_state(xr,yr,Γr,obs.config) for n = 1:nchain]\n",
    "\n",
    "x_data, accept_data, logp_data, swaps, swapaccepts = metropolis(xseeds,Ntrial,my_logp̃,propvars;β=β,process_state=x->state_filter!(x,obs));"
   ]
  },
  {
   "cell_type": "code",
   "execution_count": 990,
   "id": "b25374bd",
   "metadata": {},
   "outputs": [
    {
     "data": {
      "text/plain": [
       "5-element Vector{Float64}:\n",
       " 0.5672865426914617\n",
       " 0.6104779044191162\n",
       " 0.6064787042591482\n",
       " 0.6610677864427115\n",
       " 0.5776844631073785"
      ]
     },
     "execution_count": 990,
     "metadata": {},
     "output_type": "execute_result"
    }
   ],
   "source": [
    "count.(accept_data)/length(accept_data[1])"
   ]
  },
  {
   "cell_type": "code",
   "execution_count": 991,
   "id": "11fa65d2",
   "metadata": {},
   "outputs": [
    {
     "data": {
      "text/plain": [
       "4-element Vector{Float64}:\n",
       " 0.06630686198920586\n",
       " 0.13636363636363635\n",
       " 0.19020866773675763\n",
       " 0.2660016625103907"
      ]
     },
     "execution_count": 991,
     "metadata": {},
     "output_type": "execute_result"
    }
   ],
   "source": [
    "swapaccepts./swaps"
   ]
  },
  {
   "cell_type": "code",
   "execution_count": 992,
   "id": "9955a14f",
   "metadata": {},
   "outputs": [
    {
     "data": {
      "image/png": "[encoded data removed]"
     },
     "execution_count": 992,
     "metadata": {},
     "output_type": "execute_result"
    }
   ],
   "source": [
    "with_theme(xytheme) do\n",
    "    f = Figure()\n",
    "    ax = f[1,1] = Axis(f)\n",
    "    show_singularity_samples!(ax,x_data[1],obs,nskip=1,colormap=:Set1_3)  #colormap=:Set1_3 :RdBu_3)\n",
    "    scatter!(ax,real(truez),imag(truez),marker=:circle,markersize=8,color=:black,strokewidth=1)\n",
    "    plot_sensors!(ax,obs,color=:sienna)\n",
    "    f\n",
    "end"
   ]
  },
  {
   "cell_type": "markdown",
   "id": "007aeb45",
   "metadata": {},
   "source": [
    "#### Build from the first chain "
   ]
  },
  {
   "cell_type": "code",
   "execution_count": 993,
   "id": "b1b53128",
   "metadata": {},
   "outputs": [],
   "source": [
    "#β = 2.0.^(range(0,-3,length=nchain));"
   ]
  },
  {
   "cell_type": "code",
   "execution_count": 994,
   "id": "b5efe853",
   "metadata": {},
   "outputs": [],
   "source": [
    "Ntrial = 600000\n",
    "propvarX = 0.005^2 # 0.01^2\n",
    "propvarY = 0.005^2 # 0.01^2\n",
    "propvarΓ = 0.005^2 # 0.01^2\n",
    "propvar = state_covariance(propvarX,propvarY,propvarΓ,config_estimator);\n",
    "\n",
    "propvars = [propvar/β[i] for i = 1:nchain];"
   ]
  },
  {
   "cell_type": "code",
   "execution_count": 995,
   "id": "e78c7216",
   "metadata": {},
   "outputs": [],
   "source": [
    "xseeds = [x_data[j][:,end] for j = 1:nchain]\n",
    "x_data, accept_data, logp_data, swaps, swapaccepts = metropolis(xseeds,Ntrial,my_logp̃,propvars;β=β,process_state=x->state_filter!(x,obs));"
   ]
  },
  {
   "cell_type": "code",
   "execution_count": 996,
   "id": "16ba0ed0",
   "metadata": {},
   "outputs": [
    {
     "data": {
      "text/plain": [
       "5-element Vector{Float64}:\n",
       " 0.928346905510315\n",
       " 0.933270222432592\n",
       " 0.9268335772214092\n",
       " 0.9211135962880124\n",
       " 0.8796337345542181"
      ]
     },
     "execution_count": 996,
     "metadata": {},
     "output_type": "execute_result"
    }
   ],
   "source": [
    "count.(accept_data)/length(accept_data[1])"
   ]
  },
  {
   "cell_type": "code",
   "execution_count": 997,
   "id": "491f507d",
   "metadata": {},
   "outputs": [
    {
     "data": {
      "text/plain": [
       "4-element Vector{Float64}:\n",
       " 0.0909187495019788\n",
       " 0.14302493193102345\n",
       " 0.2158461210571185\n",
       " 0.28115546274730274"
      ]
     },
     "execution_count": 997,
     "metadata": {},
     "output_type": "execute_result"
    }
   ],
   "source": [
    "swapaccepts./swaps"
   ]
  },
  {
   "cell_type": "markdown",
   "id": "afcc6abc",
   "metadata": {},
   "source": [
    "#### Only save every  `nskip`th sample to remove data correlations"
   ]
  },
  {
   "cell_type": "code",
   "execution_count": 998,
   "id": "b32d5b32",
   "metadata": {},
   "outputs": [],
   "source": [
    "nskip = 100\n",
    "x_decorr_data = x_data[1][:,1:nskip:end];"
   ]
  },
  {
   "cell_type": "code",
   "execution_count": 1000,
   "id": "87e1bf0a",
   "metadata": {},
   "outputs": [
    {
     "data": {
      "image/png": "[encoded data removed]"
     },
     "execution_count": 1000,
     "metadata": {},
     "output_type": "execute_result"
    }
   ],
   "source": [
    "with_theme(xytheme) do\n",
    "    f = Figure()\n",
    "    ax = f[1,1] = Axis(f,limits=(-2.5,2.5,-2.5,2.5))\n",
    "    show_singularity_samples!(ax,x_decorr_data,obs,colormap=:Set1_3) #RdBu_3)\n",
    "    scatter!(ax,real(truez),imag(truez),marker=:circle,markersize=8,color=:black,strokewidth=1)\n",
    "    plot_sensors!(ax,obs,color=:sienna)\n",
    "    f\n",
    "end"
   ]
  },
  {
   "cell_type": "code",
   "execution_count": 1001,
   "id": "4eb65057",
   "metadata": {},
   "outputs": [
    {
     "data": {
      "image/png": "[encoded data removed]"
     },
     "execution_count": 1001,
     "metadata": {},
     "output_type": "execute_result"
    }
   ],
   "source": [
    "data_histogram(x_decorr_data[2,:])"
   ]
  },
  {
   "cell_type": "code",
   "execution_count": 936,
   "id": "59c2f1c5",
   "metadata": {},
   "outputs": [],
   "source": [
    "K = 1\n",
    "gm = classify_by_gmm(K,x_decorr_data);"
   ]
  },
  {
   "cell_type": "code",
   "execution_count": 937,
   "id": "396836c7",
   "metadata": {},
   "outputs": [
    {
     "data": {
      "text/plain": [
       "1-element Vector{Float64}:\n",
       " 1.0"
      ]
     },
     "execution_count": 937,
     "metadata": {},
     "output_type": "execute_result"
    }
   ],
   "source": [
    "weights(gm)"
   ]
  },
  {
   "cell_type": "code",
   "execution_count": 938,
   "id": "71168378",
   "metadata": {},
   "outputs": [
    {
     "data": {
      "text/plain": [
       "3×1 transpose(::Matrix{Float64}) with eltype Float64:\n",
       " 1.1699241618704885\n",
       " 1.480915103534051\n",
       " 1.4153663512032888"
      ]
     },
     "execution_count": 938,
     "metadata": {},
     "output_type": "execute_result"
    }
   ],
   "source": [
    "alpha_threshold = 0.0 # 0.9\n",
    "gmj = gm\n",
    "\n",
    "# take only the top `alpha_threshold` percent\n",
    "maxw = maximum(weights(gmj))\n",
    "idx = weights(gmj).>= alpha_threshold*maxw\n",
    "wts = weights(gmj)[idx]./sum(weights(gmj)[idx])\n",
    "_, best_comp = findmax(wts)\n",
    "\n",
    "Σ = covars(gmj)[idx,:]\n",
    "Σ = [Σ[j] for j = 1:length(Σ)]; # add the blob size to the covariance for vorticity field\n",
    "\n",
    "xm = transpose(means(gmj)[idx,:])"
   ]
  },
  {
   "cell_type": "code",
   "execution_count": 939,
   "id": "7ecd48ff",
   "metadata": {},
   "outputs": [
    {
     "data": {
      "text/plain": [
       "3×1 transpose(::Matrix{Float64}) with eltype Float64:\n",
       " 1.1699241618704885\n",
       " 1.480915103534051\n",
       " 1.4153663512032888"
      ]
     },
     "execution_count": 939,
     "metadata": {},
     "output_type": "execute_result"
    }
   ],
   "source": [
    "LowRankVortex.align_vector_through_flips!(xm,Σ,best_comp,config_estimator)\n",
    "xm"
   ]
  },
  {
   "cell_type": "code",
   "execution_count": 940,
   "id": "b09891fd",
   "metadata": {},
   "outputs": [],
   "source": [
    "#nsens_8em4 = Int[]\n",
    "#Σ_nsens_8em4 = Matrix[]"
   ]
  },
  {
   "cell_type": "code",
   "execution_count": 941,
   "id": "998b0d1a",
   "metadata": {},
   "outputs": [
    {
     "data": {
      "text/plain": [
       "5-element Vector{Int64}:\n",
       " 6\n",
       " 5\n",
       " 4\n",
       " 3\n",
       " 2"
      ]
     },
     "execution_count": 941,
     "metadata": {},
     "output_type": "execute_result"
    }
   ],
   "source": [
    "if (K==1)\n",
    "    push!(Σ_nsens_8em4,copy(Σ[1]))\n",
    "    push!(nsens_8em4,length(sens))\n",
    "end"
   ]
  },
  {
   "cell_type": "code",
   "execution_count": 942,
   "id": "6ca616cc",
   "metadata": {},
   "outputs": [],
   "source": [
    "Σ_0 = state_covariance(δ^2,δ^2,0.0,config_estimator);\n",
    "Σv = [Σ[j] .+ Σ_0 for j = 1:length(Σ)]; # add the blob size to the covariance for vorticity field"
   ]
  },
  {
   "cell_type": "markdown",
   "id": "04c17ce5",
   "metadata": {},
   "source": [
    "#### Contruct the filename descriptor"
   ]
  },
  {
   "cell_type": "code",
   "execution_count": 943,
   "id": "5ab0ad2c",
   "metadata": {},
   "outputs": [
    {
     "data": {
      "text/plain": [
       "\"1vortex-1truth-K1-delta001-2sensor-ds200-top00-noise5em4\""
      ]
     },
     "execution_count": 943,
     "metadata": {},
     "output_type": "execute_result"
    }
   ],
   "source": [
    "ds_string = string(1000+round(Int,100*abs(obs.sens[end]-obs.sens[1])/(length(obs.sens)-1)))[2:end]\n",
    "ns_string = string(length(obs.sens))\n",
    "nv_string = string(obs.config.Nv)\n",
    "K_string = string(K)\n",
    "\n",
    "alpha_string = string(round(Int,100+100*alpha_threshold))[2:3]\n",
    "delta_string = string(round(Int,1000+100*δ_true))[2:4]\n",
    "\n",
    "filename = nv_string*\"vortex-1truth-K\"*K_string*\"-delta\"*delta_string*\"-\"*ns_string*\"sensor-ds\"*ds_string*\"-top\"*alpha_string*\"-noise5em4\""
   ]
  },
  {
   "cell_type": "code",
   "execution_count": 944,
   "id": "3df3104f",
   "metadata": {},
   "outputs": [
    {
     "data": {
      "text/plain": [
       "false"
      ]
     },
     "execution_count": 944,
     "metadata": {},
     "output_type": "execute_result"
    }
   ],
   "source": [
    "plottype = :samples\n",
    "#plottype = :vorticity\n",
    "\n",
    "saveplot = false"
   ]
  },
  {
   "cell_type": "code",
   "execution_count": 945,
   "id": "a3841ccb",
   "metadata": {},
   "outputs": [
    {
     "data": {
      "image/png": "[encoded data removed]"
     },
     "execution_count": 945,
     "metadata": {},
     "output_type": "execute_result"
    }
   ],
   "source": [
    "with_theme(xytheme) do\n",
    "    f = Figure()\n",
    "    ax = f[1,1] = Axis(f)\n",
    "\n",
    "    if plottype == :samples\n",
    "        show_singularity_samples!(ax,x_decorr_data,obs,nskip=1) #colormap=:Set1_3:RdBu_3,nskip=1)\n",
    "        #singularity_ellipses!(ax,xm[:,best_comp],Σ[best_comp],obs,color=:red)\n",
    "        singularity_ellipses!(ax,xm,Σ,wts,obs)\n",
    "    \n",
    "    elseif plottype == :vorticity\n",
    "        lev = range(-1,1,length=14)\n",
    "        plot_expected_sourcefield!(ax,xm,Σv,wts,obs,xlims=(-2,2),ylims=(-1,2.5),colormap=cgrad(:lighttemperaturemap,rev=true),linewidth=2,levels=lev)\n",
    "        #plot_expected_sourcefield!(ax,xm[:,best_comp],Σ[best_comp],obs,ylims=(-1,2.5),colormap=:lighttemperaturemap,linewidth=2,levels=range(-1,1,length=14))\n",
    "\n",
    "        Σ_true = state_covariance(δ_true^2,δ_true^2,0.0,config_true);\n",
    "        plot_expected_sourcefield!(ax,x_true,Σ_true,obs_true,ylims=(-1,2),colormap=cgrad(:lighttemperaturemap,rev=true),linestyle=:dot,linewidth=1,levels=lev)\n",
    "    end\n",
    "\n",
    "    scatter!(ax,real(truez),imag(truez),marker=:circle,markersize=4,color=:black,strokewidth=1)\n",
    "    plot_sensors!(ax,obs,color=:sienna)\n",
    "    ylims!(ax,(-0.5,2.0))\n",
    "    xlims!(ax,(-1.5,1.5))\n",
    "    \n",
    "    fullname = String(plottype)*\"-\"*filename*\".pdf\" \n",
    "    saveplot && save(fullname,f)\n",
    "    f\n",
    "end"
   ]
  },
  {
   "cell_type": "code",
   "execution_count": 946,
   "id": "ca525284",
   "metadata": {},
   "outputs": [
    {
     "data": {
      "image/png": "[encoded data removed]"
     },
     "execution_count": 946,
     "metadata": {},
     "output_type": "execute_result"
    }
   ],
   "source": [
    "best_comp = 1\n",
    "\n",
    "f = Figure(;resolution=(800,300))\n",
    "ga = f[1, 1] = GridLayout()\n",
    "gb = f[1, 2] = GridLayout()\n",
    "\n",
    "axleft = Axis(ga[1,1];xlabel=L\"x\",ylabel=L\"y\",limits=(-3,3,-1,2),aspect=DataAspect(),title=L\"\\textrm{sensors}\")\n",
    "plot_sensors!(axleft,obs)\n",
    "\n",
    "# Sensor plot\n",
    "axcenter = Axis(gb[1,1];xticks=1:length(sens),xlabel=\"Sensor no.\",ylabel=L\"p-p_\\infty\")\n",
    "plot_sensor_data!(axcenter,ystar,xm[:,best_comp],t,obs;sensor_noise=ϵmeas*ones(length(ystar)))\n",
    "axislegend(axcenter,position=:lb)\n",
    "\n",
    "\n",
    "for (label, layout) in zip([\"(a)\", \"(b)\"], [ga, gb])\n",
    "    Label(layout[1, 1, TopLeft()], label,\n",
    "        textsize = 15,\n",
    "        font = \"TeX Heros Italic\",\n",
    "        padding = (0, 5, 5, 0),\n",
    "        halign = :right)\n",
    "end\n",
    "#save(\"basicdata-1vortex-3sensor.pdf\",f)\n",
    "\n",
    "f"
   ]
  },
  {
   "cell_type": "markdown",
   "id": "6c86633c",
   "metadata": {},
   "source": [
    "#### Plotting the pressure"
   ]
  },
  {
   "cell_type": "code",
   "execution_count": 947,
   "id": "453fbf0d",
   "metadata": {},
   "outputs": [
    {
     "data": {
      "image/png": "[encoded data removed]"
     },
     "execution_count": 947,
     "metadata": {},
     "output_type": "execute_result"
    }
   ],
   "source": [
    "l = range(-0.5,0.01,length=21)\n",
    "cl = (-0.5,0.01)\n",
    "f = Figure(;resolution=(1200,300))\n",
    "ga = f[1, 1] = GridLayout()\n",
    "gb = f[1, 2] = GridLayout()\n",
    "gc = f[1, 3] = GridLayout()\n",
    "axleft = Axis(ga[1,1];xlabel=L\"x\",ylabel=L\"y\",limits=(-2,2,-1,2),aspect=DataAspect(),title=L\"\\textrm{truth}\")\n",
    "axright = Axis(gc[1,1];xlabel=L\"x\",ylabel=L\"y\",limits=(-2,2,-1,2),aspect=DataAspect(),title=L\"\\textrm{estimate}\")\n",
    "linkaxes!(axright,axleft)\n",
    "plot_pressure_field!(axleft,x_true,obs_true,levels=range(-0.25,0.2,length=15))\n",
    "plot_pressure_field!(axright,xm[:,best_comp],obs,levels=range(-0.25,0.2,length=15),mode=:relative)\n",
    "\n",
    "# Sensor plot\n",
    "axcenter = Axis(gb[1,1];xticks=1:length(sens),xlabel=\"Sensor no.\",ylabel=L\"p-p_\\infty\") \n",
    "plot_sensor_data!(axcenter,ystar,xm[:,best_comp],t,obs;sensor_noise=ϵmeas*ones(length(ystar)))\n",
    "axislegend(axcenter,position=:lb)\n",
    "\n",
    "\n",
    "for (label, layout) in zip([\"(a)\", \"(b)\", \"(c)\"], [ga, gb, gc])\n",
    "    Label(layout[1, 1, TopLeft()], label,\n",
    "        textsize = 15,\n",
    "        font = \"TeX Heros Italic\",\n",
    "        padding = (0, 5, 5, 0),\n",
    "        halign = :right)\n",
    "end\n",
    "saveplot && save(\"pressure-\"*filename*\".pdf\",f)\n",
    "\n",
    "f"
   ]
  },
  {
   "cell_type": "code",
   "execution_count": 556,
   "id": "f0ebfab3",
   "metadata": {},
   "outputs": [
    {
     "data": {
      "text/plain": [
       "3×3 Matrix{Float64}:\n",
       " 0.0020447   0.00206365  0.00190248\n",
       " 0.00206365  0.00665285  0.00569608\n",
       " 0.00190248  0.00569608  0.00502218"
      ]
     },
     "execution_count": 556,
     "metadata": {},
     "output_type": "execute_result"
    }
   ],
   "source": [
    "Σ_nsens_5em4[1]"
   ]
  },
  {
   "cell_type": "markdown",
   "id": "cbc86aa0",
   "metadata": {},
   "source": [
    "### Plot covariances"
   ]
  },
  {
   "cell_type": "code",
   "execution_count": 501,
   "id": "07c291c9",
   "metadata": {},
   "outputs": [
    {
     "data": {
      "text/plain": [
       "(1, 2, 3)"
      ]
     },
     "execution_count": 501,
     "metadata": {},
     "output_type": "execute_result"
    }
   ],
   "source": [
    "x_id, y_id, Γ_id = get_singularity_ids(1,config_estimator)"
   ]
  },
  {
   "cell_type": "code",
   "execution_count": 520,
   "id": "70b80f97",
   "metadata": {},
   "outputs": [
    {
     "data": {
      "image/png": "[encoded data removed]"
     },
     "execution_count": 520,
     "metadata": {},
     "output_type": "execute_result"
    }
   ],
   "source": [
    "f = Figure()\n",
    "ax = f[1,1] = Axis(f;yscale=log10)\n",
    "\n",
    "scatter!(ax,nsens,map(Σ -> Σ[x_id,x_id],Σ_nsens))\n",
    "scatter!(ax,nsens,map(Σ -> Σ[y_id,y_id],Σ_nsens))\n",
    "scatter!(ax,nsens,map(Σ -> Σ[Γ_id,y_id],Σ_nsens))\n",
    "scatter!(ax,nsens,map(Σ -> Σ[Γ_id,x_id],Σ_nsens))\n",
    "f"
   ]
  },
  {
   "cell_type": "code",
   "execution_count": 971,
   "id": "5fcc9b8d",
   "metadata": {},
   "outputs": [
    {
     "data": {
      "image/png": "[encoded data removed]"
     },
     "execution_count": 971,
     "metadata": {},
     "output_type": "execute_result"
    }
   ],
   "source": [
    "f = Figure()\n",
    "ax = f[1,1] = Axis(f;yscale=log10)\n",
    "scatter!(ax,nsens,map(Σ -> Σ[y_id,Γ_id],Σ_nsens_1em3),label=L\"10^{-3}\")\n",
    "scatter!(ax,nsens,map(Σ -> Σ[y_id,Γ_id],Σ_nsens_8em4))\n",
    "scatter!(ax,nsens,map(Σ -> Σ[y_id,Γ_id],Σ_nsens_5em4))\n",
    "scatter!(ax,nsens,map(Σ -> Σ[y_id,Γ_id],Σ_nsens_25em4))\n",
    "\n",
    "f"
   ]
  },
  {
   "cell_type": "code",
   "execution_count": 804,
   "id": "f39a4e74",
   "metadata": {},
   "outputs": [
    {
     "data": {
      "text/plain": [
       "2.124175329434497"
      ]
     },
     "execution_count": 804,
     "metadata": {},
     "output_type": "execute_result"
    }
   ],
   "source": [
    "(log10(Σ_nsens_1em4[2][x_id,x_id])-log10(Σ_nsens_25em4[2][x_id,x_id]))/(log10(5e-4)-log10(2.5e-4))"
   ]
  },
  {
   "cell_type": "code",
   "execution_count": 954,
   "id": "7b434565",
   "metadata": {},
   "outputs": [
    {
     "data": {
      "text/plain": [
       "3.0609472818515906"
      ]
     },
     "execution_count": 954,
     "metadata": {},
     "output_type": "execute_result"
    }
   ],
   "source": [
    "(log10(Σ_nsens_1em3[2][y_id,Γ_id])-log10(Σ_nsens_5em4[2][y_id,Γ_id]))/(log10(1e-3)-log10(5e-4))"
   ]
  },
  {
   "cell_type": "code",
   "execution_count": 950,
   "id": "4a371aba",
   "metadata": {},
   "outputs": [
    {
     "data": {
      "text/plain": [
       "3.0210321977602916"
      ]
     },
     "execution_count": 950,
     "metadata": {},
     "output_type": "execute_result"
    }
   ],
   "source": [
    "(log10(Σ_nsens_8em4[2][y_id,y_id])-log10(Σ_nsens_5em4[2][y_id,y_id]))/(log10(8e-4)-log10(5e-4))"
   ]
  },
  {
   "cell_type": "code",
   "execution_count": 969,
   "id": "1ea05817",
   "metadata": {},
   "outputs": [
    {
     "data": {
      "text/plain": [
       "Eigen{Float64, Float64, Matrix{Float64}, Vector{Float64}}\n",
       "values:\n",
       "3-element Vector{Float64}:\n",
       " 1.7825873082014322e-5\n",
       " 0.0002845179122849064\n",
       " 0.0023778001377928026\n",
       "vectors:\n",
       "3×3 Matrix{Float64}:\n",
       " -0.0480913   0.971931  -0.230298\n",
       " -0.647487   -0.205895  -0.733735\n",
       "  0.760557   -0.113829  -0.639215"
      ]
     },
     "execution_count": 969,
     "metadata": {},
     "output_type": "execute_result"
    }
   ],
   "source": [
    "F = eigen(Σ_nsens_25em4[1])"
   ]
  },
  {
   "cell_type": "code",
   "execution_count": 963,
   "id": "6dfe0695",
   "metadata": {},
   "outputs": [
    {
     "data": {
      "text/plain": [
       "3-element Vector{Float64}:\n",
       " 0.3635\n",
       " 0.727\n",
       " 0.727"
      ]
     },
     "execution_count": 963,
     "metadata": {},
     "output_type": "execute_result"
    }
   ],
   "source": [
    "x_true"
   ]
  },
  {
   "cell_type": "code",
   "execution_count": 970,
   "id": "5a30d0a8",
   "metadata": {},
   "outputs": [
    {
     "data": {
      "text/plain": [
       "3-element Vector{Float64}:\n",
       "  0.08902467914190348\n",
       "  0.16624179899318392\n",
       " -1.4880988780222877"
      ]
     },
     "execution_count": 970,
     "metadata": {},
     "output_type": "execute_result"
    }
   ],
   "source": [
    "F.vectors'*x_true"
   ]
  },
  {
   "cell_type": "code",
   "execution_count": 966,
   "id": "0c4d678c",
   "metadata": {},
   "outputs": [
    {
     "name": "stdout",
     "output_type": "stream",
     "text": [
      "search: \u001b[0m\u001b[1me\u001b[22m\u001b[0m\u001b[1mi\u001b[22m\u001b[0m\u001b[1mg\u001b[22m\u001b[0m\u001b[1me\u001b[22m\u001b[0m\u001b[1mn\u001b[22m \u001b[0m\u001b[1me\u001b[22m\u001b[0m\u001b[1mi\u001b[22m\u001b[0m\u001b[1mg\u001b[22m\u001b[0m\u001b[1me\u001b[22m\u001b[0m\u001b[1mn\u001b[22m! \u001b[0m\u001b[1mE\u001b[22m\u001b[0m\u001b[1mi\u001b[22m\u001b[0m\u001b[1mg\u001b[22m\u001b[0m\u001b[1me\u001b[22m\u001b[0m\u001b[1mn\u001b[22m G\u001b[0m\u001b[1me\u001b[22mneral\u001b[0m\u001b[1mi\u001b[22mzedEi\u001b[0m\u001b[1mg\u001b[22m\u001b[0m\u001b[1me\u001b[22m\u001b[0m\u001b[1mn\u001b[22m w\u001b[0m\u001b[1me\u001b[22m\u001b[0m\u001b[1mi\u001b[22m\u001b[0m\u001b[1mg\u001b[22mht\u001b[0m\u001b[1me\u001b[22md_color_mea\u001b[0m\u001b[1mn\u001b[22m \u001b[0m\u001b[1me\u001b[22m\u001b[0m\u001b[1mi\u001b[22m\u001b[0m\u001b[1mg\u001b[22mv\u001b[0m\u001b[1me\u001b[22mcs\n",
      "\n"
     ]
    },
    {
     "data": {
      "text/latex": [
       "\\begin{verbatim}\n",
       "eigen(A; permute::Bool=true, scale::Bool=true, sortby) -> Eigen\n",
       "\\end{verbatim}\n",
       "Compute the eigenvalue decomposition of \\texttt{A}, returning an \\href{@ref}{\\texttt{Eigen}} factorization object \\texttt{F} which contains the eigenvalues in \\texttt{F.values} and the eigenvectors in the columns of the matrix \\texttt{F.vectors}. (The \\texttt{k}th eigenvector can be obtained from the slice \\texttt{F.vectors[:, k]}.)\n",
       "\n",
       "Iterating the decomposition produces the components \\texttt{F.values} and \\texttt{F.vectors}.\n",
       "\n",
       "The following functions are available for \\texttt{Eigen} objects: \\href{@ref}{\\texttt{inv}}, \\href{@ref}{\\texttt{det}}, and \\href{@ref}{\\texttt{isposdef}}.\n",
       "\n",
       "For general nonsymmetric matrices it is possible to specify how the matrix is balanced before the eigenvector calculation. The option \\texttt{permute=true} permutes the matrix to become closer to upper triangular, and \\texttt{scale=true} scales the matrix by its diagonal elements to make rows and columns more equal in norm. The default is \\texttt{true} for both options.\n",
       "\n",
       "By default, the eigenvalues and vectors are sorted lexicographically by \\texttt{(real(λ),imag(λ))}. A different comparison function \\texttt{by(λ)} can be passed to \\texttt{sortby}, or you can pass \\texttt{sortby=nothing} to leave the eigenvalues in an arbitrary order.   Some special matrix types (e.g. \\href{@ref}{\\texttt{Diagonal}} or \\href{@ref}{\\texttt{SymTridiagonal}}) may implement their own sorting convention and not accept a \\texttt{sortby} keyword.\n",
       "\n",
       "\\section{Examples}\n",
       "\\begin{verbatim}\n",
       "julia> F = eigen([1.0 0.0 0.0; 0.0 3.0 0.0; 0.0 0.0 18.0])\n",
       "Eigen{Float64, Float64, Matrix{Float64}, Vector{Float64}}\n",
       "values:\n",
       "3-element Vector{Float64}:\n",
       "  1.0\n",
       "  3.0\n",
       " 18.0\n",
       "vectors:\n",
       "3×3 Matrix{Float64}:\n",
       " 1.0  0.0  0.0\n",
       " 0.0  1.0  0.0\n",
       " 0.0  0.0  1.0\n",
       "\n",
       "julia> F.values\n",
       "3-element Vector{Float64}:\n",
       "  1.0\n",
       "  3.0\n",
       " 18.0\n",
       "\n",
       "julia> F.vectors\n",
       "3×3 Matrix{Float64}:\n",
       " 1.0  0.0  0.0\n",
       " 0.0  1.0  0.0\n",
       " 0.0  0.0  1.0\n",
       "\n",
       "julia> vals, vecs = F; # destructuring via iteration\n",
       "\n",
       "julia> vals == F.values && vecs == F.vectors\n",
       "true\n",
       "\\end{verbatim}\n",
       "\\rule{\\textwidth}{1pt}\n",
       "\\begin{verbatim}\n",
       "eigen(A, B; sortby) -> GeneralizedEigen\n",
       "\\end{verbatim}\n",
       "Compute the generalized eigenvalue decomposition of \\texttt{A} and \\texttt{B}, returning a \\href{@ref}{\\texttt{GeneralizedEigen}} factorization object \\texttt{F} which contains the generalized eigenvalues in \\texttt{F.values} and the generalized eigenvectors in the columns of the matrix \\texttt{F.vectors}. (The \\texttt{k}th generalized eigenvector can be obtained from the slice \\texttt{F.vectors[:, k]}.)\n",
       "\n",
       "Iterating the decomposition produces the components \\texttt{F.values} and \\texttt{F.vectors}.\n",
       "\n",
       "By default, the eigenvalues and vectors are sorted lexicographically by \\texttt{(real(λ),imag(λ))}. A different comparison function \\texttt{by(λ)} can be passed to \\texttt{sortby}, or you can pass \\texttt{sortby=nothing} to leave the eigenvalues in an arbitrary order.\n",
       "\n",
       "\\section{Examples}\n",
       "\\begin{verbatim}\n",
       "julia> A = [1 0; 0 -1]\n",
       "2×2 Matrix{Int64}:\n",
       " 1   0\n",
       " 0  -1\n",
       "\n",
       "julia> B = [0 1; 1 0]\n",
       "2×2 Matrix{Int64}:\n",
       " 0  1\n",
       " 1  0\n",
       "\n",
       "julia> F = eigen(A, B);\n",
       "\n",
       "julia> F.values\n",
       "2-element Vector{ComplexF64}:\n",
       " 0.0 - 1.0im\n",
       " 0.0 + 1.0im\n",
       "\n",
       "julia> F.vectors\n",
       "2×2 Matrix{ComplexF64}:\n",
       "  0.0+1.0im   0.0-1.0im\n",
       " -1.0+0.0im  -1.0-0.0im\n",
       "\n",
       "julia> vals, vecs = F; # destructuring via iteration\n",
       "\n",
       "julia> vals == F.values && vecs == F.vectors\n",
       "true\n",
       "\\end{verbatim}\n",
       "\\rule{\\textwidth}{1pt}\n",
       "\\begin{verbatim}\n",
       "eigen(A::Union{SymTridiagonal, Hermitian, Symmetric}, irange::UnitRange) -> Eigen\n",
       "\\end{verbatim}\n",
       "Compute the eigenvalue decomposition of \\texttt{A}, returning an \\href{@ref}{\\texttt{Eigen}} factorization object \\texttt{F} which contains the eigenvalues in \\texttt{F.values} and the eigenvectors in the columns of the matrix \\texttt{F.vectors}. (The \\texttt{k}th eigenvector can be obtained from the slice \\texttt{F.vectors[:, k]}.)\n",
       "\n",
       "Iterating the decomposition produces the components \\texttt{F.values} and \\texttt{F.vectors}.\n",
       "\n",
       "The following functions are available for \\texttt{Eigen} objects: \\href{@ref}{\\texttt{inv}}, \\href{@ref}{\\texttt{det}}, and \\href{@ref}{\\texttt{isposdef}}.\n",
       "\n",
       "The \\href{@ref}{\\texttt{UnitRange}} \\texttt{irange} specifies indices of the sorted eigenvalues to search for.\n",
       "\n",
       "\\begin{quote}\n",
       "\\textbf{note}\n",
       "\n",
       "Note\n",
       "\n",
       "If \\texttt{irange} is not \\texttt{1:n}, where \\texttt{n} is the dimension of \\texttt{A}, then the returned factorization will be a \\emph{truncated} factorization.\n",
       "\n",
       "\\end{quote}\n",
       "\\rule{\\textwidth}{1pt}\n",
       "\\begin{verbatim}\n",
       "eigen(A::Union{SymTridiagonal, Hermitian, Symmetric}, vl::Real, vu::Real) -> Eigen\n",
       "\\end{verbatim}\n",
       "Compute the eigenvalue decomposition of \\texttt{A}, returning an \\href{@ref}{\\texttt{Eigen}} factorization object \\texttt{F} which contains the eigenvalues in \\texttt{F.values} and the eigenvectors in the columns of the matrix \\texttt{F.vectors}. (The \\texttt{k}th eigenvector can be obtained from the slice \\texttt{F.vectors[:, k]}.)\n",
       "\n",
       "Iterating the decomposition produces the components \\texttt{F.values} and \\texttt{F.vectors}.\n",
       "\n",
       "The following functions are available for \\texttt{Eigen} objects: \\href{@ref}{\\texttt{inv}}, \\href{@ref}{\\texttt{det}}, and \\href{@ref}{\\texttt{isposdef}}.\n",
       "\n",
       "\\texttt{vl} is the lower bound of the window of eigenvalues to search for, and \\texttt{vu} is the upper bound.\n",
       "\n",
       "\\begin{quote}\n",
       "\\textbf{note}\n",
       "\n",
       "Note\n",
       "\n",
       "If [\\texttt{vl}, \\texttt{vu}] does not contain all eigenvalues of \\texttt{A}, then the returned factorization will be a \\emph{truncated} factorization.\n",
       "\n",
       "\\end{quote}\n"
      ],
      "text/markdown": [
       "```\n",
       "eigen(A; permute::Bool=true, scale::Bool=true, sortby) -> Eigen\n",
       "```\n",
       "\n",
       "Compute the eigenvalue decomposition of `A`, returning an [`Eigen`](@ref) factorization object `F` which contains the eigenvalues in `F.values` and the eigenvectors in the columns of the matrix `F.vectors`. (The `k`th eigenvector can be obtained from the slice `F.vectors[:, k]`.)\n",
       "\n",
       "Iterating the decomposition produces the components `F.values` and `F.vectors`.\n",
       "\n",
       "The following functions are available for `Eigen` objects: [`inv`](@ref), [`det`](@ref), and [`isposdef`](@ref).\n",
       "\n",
       "For general nonsymmetric matrices it is possible to specify how the matrix is balanced before the eigenvector calculation. The option `permute=true` permutes the matrix to become closer to upper triangular, and `scale=true` scales the matrix by its diagonal elements to make rows and columns more equal in norm. The default is `true` for both options.\n",
       "\n",
       "By default, the eigenvalues and vectors are sorted lexicographically by `(real(λ),imag(λ))`. A different comparison function `by(λ)` can be passed to `sortby`, or you can pass `sortby=nothing` to leave the eigenvalues in an arbitrary order.   Some special matrix types (e.g. [`Diagonal`](@ref) or [`SymTridiagonal`](@ref)) may implement their own sorting convention and not accept a `sortby` keyword.\n",
       "\n",
       "# Examples\n",
       "\n",
       "```jldoctest\n",
       "julia> F = eigen([1.0 0.0 0.0; 0.0 3.0 0.0; 0.0 0.0 18.0])\n",
       "Eigen{Float64, Float64, Matrix{Float64}, Vector{Float64}}\n",
       "values:\n",
       "3-element Vector{Float64}:\n",
       "  1.0\n",
       "  3.0\n",
       " 18.0\n",
       "vectors:\n",
       "3×3 Matrix{Float64}:\n",
       " 1.0  0.0  0.0\n",
       " 0.0  1.0  0.0\n",
       " 0.0  0.0  1.0\n",
       "\n",
       "julia> F.values\n",
       "3-element Vector{Float64}:\n",
       "  1.0\n",
       "  3.0\n",
       " 18.0\n",
       "\n",
       "julia> F.vectors\n",
       "3×3 Matrix{Float64}:\n",
       " 1.0  0.0  0.0\n",
       " 0.0  1.0  0.0\n",
       " 0.0  0.0  1.0\n",
       "\n",
       "julia> vals, vecs = F; # destructuring via iteration\n",
       "\n",
       "julia> vals == F.values && vecs == F.vectors\n",
       "true\n",
       "```\n",
       "\n",
       "---\n",
       "\n",
       "```\n",
       "eigen(A, B; sortby) -> GeneralizedEigen\n",
       "```\n",
       "\n",
       "Compute the generalized eigenvalue decomposition of `A` and `B`, returning a [`GeneralizedEigen`](@ref) factorization object `F` which contains the generalized eigenvalues in `F.values` and the generalized eigenvectors in the columns of the matrix `F.vectors`. (The `k`th generalized eigenvector can be obtained from the slice `F.vectors[:, k]`.)\n",
       "\n",
       "Iterating the decomposition produces the components `F.values` and `F.vectors`.\n",
       "\n",
       "By default, the eigenvalues and vectors are sorted lexicographically by `(real(λ),imag(λ))`. A different comparison function `by(λ)` can be passed to `sortby`, or you can pass `sortby=nothing` to leave the eigenvalues in an arbitrary order.\n",
       "\n",
       "# Examples\n",
       "\n",
       "```jldoctest\n",
       "julia> A = [1 0; 0 -1]\n",
       "2×2 Matrix{Int64}:\n",
       " 1   0\n",
       " 0  -1\n",
       "\n",
       "julia> B = [0 1; 1 0]\n",
       "2×2 Matrix{Int64}:\n",
       " 0  1\n",
       " 1  0\n",
       "\n",
       "julia> F = eigen(A, B);\n",
       "\n",
       "julia> F.values\n",
       "2-element Vector{ComplexF64}:\n",
       " 0.0 - 1.0im\n",
       " 0.0 + 1.0im\n",
       "\n",
       "julia> F.vectors\n",
       "2×2 Matrix{ComplexF64}:\n",
       "  0.0+1.0im   0.0-1.0im\n",
       " -1.0+0.0im  -1.0-0.0im\n",
       "\n",
       "julia> vals, vecs = F; # destructuring via iteration\n",
       "\n",
       "julia> vals == F.values && vecs == F.vectors\n",
       "true\n",
       "```\n",
       "\n",
       "---\n",
       "\n",
       "```\n",
       "eigen(A::Union{SymTridiagonal, Hermitian, Symmetric}, irange::UnitRange) -> Eigen\n",
       "```\n",
       "\n",
       "Compute the eigenvalue decomposition of `A`, returning an [`Eigen`](@ref) factorization object `F` which contains the eigenvalues in `F.values` and the eigenvectors in the columns of the matrix `F.vectors`. (The `k`th eigenvector can be obtained from the slice `F.vectors[:, k]`.)\n",
       "\n",
       "Iterating the decomposition produces the components `F.values` and `F.vectors`.\n",
       "\n",
       "The following functions are available for `Eigen` objects: [`inv`](@ref), [`det`](@ref), and [`isposdef`](@ref).\n",
       "\n",
       "The [`UnitRange`](@ref) `irange` specifies indices of the sorted eigenvalues to search for.\n",
       "\n",
       "!!! note\n",
       "    If `irange` is not `1:n`, where `n` is the dimension of `A`, then the returned factorization will be a *truncated* factorization.\n",
       "\n",
       "\n",
       "---\n",
       "\n",
       "```\n",
       "eigen(A::Union{SymTridiagonal, Hermitian, Symmetric}, vl::Real, vu::Real) -> Eigen\n",
       "```\n",
       "\n",
       "Compute the eigenvalue decomposition of `A`, returning an [`Eigen`](@ref) factorization object `F` which contains the eigenvalues in `F.values` and the eigenvectors in the columns of the matrix `F.vectors`. (The `k`th eigenvector can be obtained from the slice `F.vectors[:, k]`.)\n",
       "\n",
       "Iterating the decomposition produces the components `F.values` and `F.vectors`.\n",
       "\n",
       "The following functions are available for `Eigen` objects: [`inv`](@ref), [`det`](@ref), and [`isposdef`](@ref).\n",
       "\n",
       "`vl` is the lower bound of the window of eigenvalues to search for, and `vu` is the upper bound.\n",
       "\n",
       "!!! note\n",
       "    If [`vl`, `vu`] does not contain all eigenvalues of `A`, then the returned factorization will be a *truncated* factorization.\n",
       "\n"
      ],
      "text/plain": [
       "\u001b[36m  eigen(A; permute::Bool=true, scale::Bool=true, sortby) -> Eigen\u001b[39m\n",
       "\n",
       "  Compute the eigenvalue decomposition of \u001b[36mA\u001b[39m, returning an \u001b[36mEigen\u001b[39m factorization\n",
       "  object \u001b[36mF\u001b[39m which contains the eigenvalues in \u001b[36mF.values\u001b[39m and the eigenvectors in\n",
       "  the columns of the matrix \u001b[36mF.vectors\u001b[39m. (The \u001b[36mk\u001b[39mth eigenvector can be obtained\n",
       "  from the slice \u001b[36mF.vectors[:, k]\u001b[39m.)\n",
       "\n",
       "  Iterating the decomposition produces the components \u001b[36mF.values\u001b[39m and \u001b[36mF.vectors\u001b[39m.\n",
       "\n",
       "  The following functions are available for \u001b[36mEigen\u001b[39m objects: \u001b[36minv\u001b[39m, \u001b[36mdet\u001b[39m, and\n",
       "  \u001b[36misposdef\u001b[39m.\n",
       "\n",
       "  For general nonsymmetric matrices it is possible to specify how the matrix\n",
       "  is balanced before the eigenvector calculation. The option \u001b[36mpermute=true\u001b[39m\n",
       "  permutes the matrix to become closer to upper triangular, and \u001b[36mscale=true\u001b[39m\n",
       "  scales the matrix by its diagonal elements to make rows and columns more\n",
       "  equal in norm. The default is \u001b[36mtrue\u001b[39m for both options.\n",
       "\n",
       "  By default, the eigenvalues and vectors are sorted lexicographically by\n",
       "  \u001b[36m(real(λ),imag(λ))\u001b[39m. A different comparison function \u001b[36mby(λ)\u001b[39m can be passed to\n",
       "  \u001b[36msortby\u001b[39m, or you can pass \u001b[36msortby=nothing\u001b[39m to leave the eigenvalues in an\n",
       "  arbitrary order. Some special matrix types (e.g. \u001b[36mDiagonal\u001b[39m or \u001b[36mSymTridiagonal\u001b[39m)\n",
       "  may implement their own sorting convention and not accept a \u001b[36msortby\u001b[39m keyword.\n",
       "\n",
       "\u001b[1m  Examples\u001b[22m\n",
       "\u001b[1m  ≡≡≡≡≡≡≡≡≡≡\u001b[22m\n",
       "\n",
       "\u001b[36m  julia> F = eigen([1.0 0.0 0.0; 0.0 3.0 0.0; 0.0 0.0 18.0])\u001b[39m\n",
       "\u001b[36m  Eigen{Float64, Float64, Matrix{Float64}, Vector{Float64}}\u001b[39m\n",
       "\u001b[36m  values:\u001b[39m\n",
       "\u001b[36m  3-element Vector{Float64}:\u001b[39m\n",
       "\u001b[36m    1.0\u001b[39m\n",
       "\u001b[36m    3.0\u001b[39m\n",
       "\u001b[36m   18.0\u001b[39m\n",
       "\u001b[36m  vectors:\u001b[39m\n",
       "\u001b[36m  3×3 Matrix{Float64}:\u001b[39m\n",
       "\u001b[36m   1.0  0.0  0.0\u001b[39m\n",
       "\u001b[36m   0.0  1.0  0.0\u001b[39m\n",
       "\u001b[36m   0.0  0.0  1.0\u001b[39m\n",
       "\u001b[36m  \u001b[39m\n",
       "\u001b[36m  julia> F.values\u001b[39m\n",
       "\u001b[36m  3-element Vector{Float64}:\u001b[39m\n",
       "\u001b[36m    1.0\u001b[39m\n",
       "\u001b[36m    3.0\u001b[39m\n",
       "\u001b[36m   18.0\u001b[39m\n",
       "\u001b[36m  \u001b[39m\n",
       "\u001b[36m  julia> F.vectors\u001b[39m\n",
       "\u001b[36m  3×3 Matrix{Float64}:\u001b[39m\n",
       "\u001b[36m   1.0  0.0  0.0\u001b[39m\n",
       "\u001b[36m   0.0  1.0  0.0\u001b[39m\n",
       "\u001b[36m   0.0  0.0  1.0\u001b[39m\n",
       "\u001b[36m  \u001b[39m\n",
       "\u001b[36m  julia> vals, vecs = F; # destructuring via iteration\u001b[39m\n",
       "\u001b[36m  \u001b[39m\n",
       "\u001b[36m  julia> vals == F.values && vecs == F.vectors\u001b[39m\n",
       "\u001b[36m  true\u001b[39m\n",
       "\n",
       "  ────────────────────────────────────────────────────────────────────────────\n",
       "\n",
       "\u001b[36m  eigen(A, B; sortby) -> GeneralizedEigen\u001b[39m\n",
       "\n",
       "  Compute the generalized eigenvalue decomposition of \u001b[36mA\u001b[39m and \u001b[36mB\u001b[39m, returning a\n",
       "  \u001b[36mGeneralizedEigen\u001b[39m factorization object \u001b[36mF\u001b[39m which contains the generalized\n",
       "  eigenvalues in \u001b[36mF.values\u001b[39m and the generalized eigenvectors in the columns of\n",
       "  the matrix \u001b[36mF.vectors\u001b[39m. (The \u001b[36mk\u001b[39mth generalized eigenvector can be obtained from\n",
       "  the slice \u001b[36mF.vectors[:, k]\u001b[39m.)\n",
       "\n",
       "  Iterating the decomposition produces the components \u001b[36mF.values\u001b[39m and \u001b[36mF.vectors\u001b[39m.\n",
       "\n",
       "  By default, the eigenvalues and vectors are sorted lexicographically by\n",
       "  \u001b[36m(real(λ),imag(λ))\u001b[39m. A different comparison function \u001b[36mby(λ)\u001b[39m can be passed to\n",
       "  \u001b[36msortby\u001b[39m, or you can pass \u001b[36msortby=nothing\u001b[39m to leave the eigenvalues in an\n",
       "  arbitrary order.\n",
       "\n",
       "\u001b[1m  Examples\u001b[22m\n",
       "\u001b[1m  ≡≡≡≡≡≡≡≡≡≡\u001b[22m\n",
       "\n",
       "\u001b[36m  julia> A = [1 0; 0 -1]\u001b[39m\n",
       "\u001b[36m  2×2 Matrix{Int64}:\u001b[39m\n",
       "\u001b[36m   1   0\u001b[39m\n",
       "\u001b[36m   0  -1\u001b[39m\n",
       "\u001b[36m  \u001b[39m\n",
       "\u001b[36m  julia> B = [0 1; 1 0]\u001b[39m\n",
       "\u001b[36m  2×2 Matrix{Int64}:\u001b[39m\n",
       "\u001b[36m   0  1\u001b[39m\n",
       "\u001b[36m   1  0\u001b[39m\n",
       "\u001b[36m  \u001b[39m\n",
       "\u001b[36m  julia> F = eigen(A, B);\u001b[39m\n",
       "\u001b[36m  \u001b[39m\n",
       "\u001b[36m  julia> F.values\u001b[39m\n",
       "\u001b[36m  2-element Vector{ComplexF64}:\u001b[39m\n",
       "\u001b[36m   0.0 - 1.0im\u001b[39m\n",
       "\u001b[36m   0.0 + 1.0im\u001b[39m\n",
       "\u001b[36m  \u001b[39m\n",
       "\u001b[36m  julia> F.vectors\u001b[39m\n",
       "\u001b[36m  2×2 Matrix{ComplexF64}:\u001b[39m\n",
       "\u001b[36m    0.0+1.0im   0.0-1.0im\u001b[39m\n",
       "\u001b[36m   -1.0+0.0im  -1.0-0.0im\u001b[39m\n",
       "\u001b[36m  \u001b[39m\n",
       "\u001b[36m  julia> vals, vecs = F; # destructuring via iteration\u001b[39m\n",
       "\u001b[36m  \u001b[39m\n",
       "\u001b[36m  julia> vals == F.values && vecs == F.vectors\u001b[39m\n",
       "\u001b[36m  true\u001b[39m\n",
       "\n",
       "  ────────────────────────────────────────────────────────────────────────────\n",
       "\n",
       "\u001b[36m  eigen(A::Union{SymTridiagonal, Hermitian, Symmetric}, irange::UnitRange) -> Eigen\u001b[39m\n",
       "\n",
       "  Compute the eigenvalue decomposition of \u001b[36mA\u001b[39m, returning an \u001b[36mEigen\u001b[39m factorization\n",
       "  object \u001b[36mF\u001b[39m which contains the eigenvalues in \u001b[36mF.values\u001b[39m and the eigenvectors in\n",
       "  the columns of the matrix \u001b[36mF.vectors\u001b[39m. (The \u001b[36mk\u001b[39mth eigenvector can be obtained\n",
       "  from the slice \u001b[36mF.vectors[:, k]\u001b[39m.)\n",
       "\n",
       "  Iterating the decomposition produces the components \u001b[36mF.values\u001b[39m and \u001b[36mF.vectors\u001b[39m.\n",
       "\n",
       "  The following functions are available for \u001b[36mEigen\u001b[39m objects: \u001b[36minv\u001b[39m, \u001b[36mdet\u001b[39m, and\n",
       "  \u001b[36misposdef\u001b[39m.\n",
       "\n",
       "  The \u001b[36mUnitRange\u001b[39m \u001b[36mirange\u001b[39m specifies indices of the sorted eigenvalues to search\n",
       "  for.\n",
       "\n",
       "\u001b[36m\u001b[1m  │ \u001b[22m\u001b[39m\u001b[36m\u001b[1mNote\u001b[22m\u001b[39m\n",
       "\u001b[36m\u001b[1m  │\u001b[22m\u001b[39m\n",
       "\u001b[36m\u001b[1m  │\u001b[22m\u001b[39m  If \u001b[36mirange\u001b[39m is not \u001b[36m1:n\u001b[39m, where \u001b[36mn\u001b[39m is the dimension of \u001b[36mA\u001b[39m, then the\n",
       "\u001b[36m\u001b[1m  │\u001b[22m\u001b[39m  returned factorization will be a \u001b[4mtruncated\u001b[24m factorization.\n",
       "\n",
       "  ────────────────────────────────────────────────────────────────────────────\n",
       "\n",
       "\u001b[36m  eigen(A::Union{SymTridiagonal, Hermitian, Symmetric}, vl::Real, vu::Real) -> Eigen\u001b[39m\n",
       "\n",
       "  Compute the eigenvalue decomposition of \u001b[36mA\u001b[39m, returning an \u001b[36mEigen\u001b[39m factorization\n",
       "  object \u001b[36mF\u001b[39m which contains the eigenvalues in \u001b[36mF.values\u001b[39m and the eigenvectors in\n",
       "  the columns of the matrix \u001b[36mF.vectors\u001b[39m. (The \u001b[36mk\u001b[39mth eigenvector can be obtained\n",
       "  from the slice \u001b[36mF.vectors[:, k]\u001b[39m.)\n",
       "\n",
       "  Iterating the decomposition produces the components \u001b[36mF.values\u001b[39m and \u001b[36mF.vectors\u001b[39m.\n",
       "\n",
       "  The following functions are available for \u001b[36mEigen\u001b[39m objects: \u001b[36minv\u001b[39m, \u001b[36mdet\u001b[39m, and\n",
       "  \u001b[36misposdef\u001b[39m.\n",
       "\n",
       "  \u001b[36mvl\u001b[39m is the lower bound of the window of eigenvalues to search for, and \u001b[36mvu\u001b[39m is\n",
       "  the upper bound.\n",
       "\n",
       "\u001b[36m\u001b[1m  │ \u001b[22m\u001b[39m\u001b[36m\u001b[1mNote\u001b[22m\u001b[39m\n",
       "\u001b[36m\u001b[1m  │\u001b[22m\u001b[39m\n",
       "\u001b[36m\u001b[1m  │\u001b[22m\u001b[39m  If [\u001b[36mvl\u001b[39m, \u001b[36mvu\u001b[39m] does not contain all eigenvalues of \u001b[36mA\u001b[39m, then the\n",
       "\u001b[36m\u001b[1m  │\u001b[22m\u001b[39m  returned factorization will be a \u001b[4mtruncated\u001b[24m factorization."
      ]
     },
     "execution_count": 966,
     "metadata": {},
     "output_type": "execute_result"
    }
   ],
   "source": [
    "eigen"
   ]
  },
  {
   "cell_type": "code",
   "execution_count": null,
   "id": "8f57f57b",
   "metadata": {},
   "outputs": [],
   "source": []
  }
 ],
 "metadata": {
  "@webio": {
   "lastCommId": null,
   "lastKernelId": null
  },
  "kernelspec": {
   "display_name": "Julia 1.8.2",
   "language": "julia",
   "name": "julia-1.8"
  },
  "language_info": {
   "file_extension": ".jl",
   "mimetype": "application/julia",
   "name": "julia",
   "version": "1.8.2"
  }
 },
 "nbformat": 4,
 "nbformat_minor": 5
}

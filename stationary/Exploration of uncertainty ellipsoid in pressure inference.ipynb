{
 "cells": [
  {
   "cell_type": "markdown",
   "id": "12871f40",
   "metadata": {},
   "source": [
    "# Uncertainty ellipsoid"
   ]
  },
  {
   "cell_type": "code",
   "execution_count": 1,
   "id": "43491054",
   "metadata": {},
   "outputs": [],
   "source": [
    "using Revise"
   ]
  },
  {
   "cell_type": "code",
   "execution_count": 2,
   "id": "3aafc837",
   "metadata": {},
   "outputs": [
    {
     "name": "stderr",
     "output_type": "stream",
     "text": [
      "\u001b[36m\u001b[1m[ \u001b[22m\u001b[39m\u001b[36m\u001b[1mInfo: \u001b[22m\u001b[39mPrecompiling LowRankVortex [fdf095b8-6f21-420b-9d49-8e692abb03d1]\n"
     ]
    }
   ],
   "source": [
    "using LowRankVortex"
   ]
  },
  {
   "cell_type": "code",
   "execution_count": 3,
   "id": "3284abec",
   "metadata": {},
   "outputs": [],
   "source": [
    "using PotentialFlow"
   ]
  },
  {
   "cell_type": "code",
   "execution_count": 4,
   "id": "9e4ffb11",
   "metadata": {},
   "outputs": [],
   "source": [
    "using CairoMakie\n",
    "#using Plots\n",
    "#pyplot()"
   ]
  },
  {
   "cell_type": "code",
   "execution_count": 5,
   "id": "a639fdf5",
   "metadata": {},
   "outputs": [],
   "source": [
    "using LaTeXStrings"
   ]
  },
  {
   "cell_type": "code",
   "execution_count": 6,
   "id": "bec4e8c2",
   "metadata": {},
   "outputs": [],
   "source": [
    "using Distributions\n",
    "using Random\n",
    "using LinearAlgebra\n",
    "using GaussianMixtures\n",
    "using Statistics"
   ]
  },
  {
   "cell_type": "markdown",
   "id": "c44f9593",
   "metadata": {},
   "source": [
    "### Truth"
   ]
  },
  {
   "cell_type": "code",
   "execution_count": 50,
   "id": "0c8bf215",
   "metadata": {},
   "outputs": [
    {
     "data": {
      "text/plain": [
       "_default_vortex (generic function with 3 methods)"
      ]
     },
     "execution_count": 50,
     "metadata": {},
     "output_type": "execute_result"
    }
   ],
   "source": [
    "LowRankVortex.get_config_and_state(Nv;kwargs...) = get_config_and_state(default_vortex(Nv)...;kwargs...)\n",
    "\n",
    "default_vortex(Nv) = _default_vortex(Val(Nv))\n",
    "\n",
    "function _default_vortex(::Val{1})\n",
    "    zv = [0.5+1.0im]\n",
    "    Γv = [1.0] \n",
    "    return zv, Γv\n",
    "end\n",
    "\n",
    "function _default_vortex(::Val{2})\n",
    "    zv = [-1.0+0.75im,0.75+0.5im]  # [-1.0+0.75im,0.75+0.5im]\n",
    "    Γv = [1.2,0.4] #[1.2,0.4] #[1.2,-1.0] \n",
    "    return zv, Γv\n",
    "end\n",
    "\n",
    "function _default_vortex(::Val{3})\n",
    "    zv = [-1.0+0.75im,0.25+0.5im,0.75+0.75im]\n",
    "    Γv = [1.0,-1.2,1.4]\n",
    "    return zv, Γv\n",
    "end"
   ]
  },
  {
   "cell_type": "code",
   "execution_count": 54,
   "id": "dce8c154",
   "metadata": {},
   "outputs": [],
   "source": []
  },
  {
   "cell_type": "markdown",
   "id": "3154cd97",
   "metadata": {},
   "source": [
    "### Set some plotting themes"
   ]
  },
  {
   "cell_type": "code",
   "execution_count": 10,
   "id": "1f569c58",
   "metadata": {},
   "outputs": [],
   "source": [
    "xytheme = Theme(\n",
    "        Axis = (aspect=DataAspect(),xlabel=L\"x\",ylabel=L\"y\"),\n",
    "        palette = (color = Makie.wong_colors(),),\n",
    "        Lines = (cycle = [:color],),\n",
    "        Scatter = (cycle = [:color],)\n",
    "    );\n",
    "\n",
    "sensortheme = Theme(\n",
    "    Axis = (xlabel=\"Sensor no.\",ylabel=L\"p-p_\\infty\")\n",
    ");"
   ]
  },
  {
   "cell_type": "markdown",
   "id": "316a9145",
   "metadata": {},
   "source": [
    "#### Set up the observer for the truth data"
   ]
  },
  {
   "cell_type": "code",
   "execution_count": 56,
   "id": "2088ac60",
   "metadata": {},
   "outputs": [],
   "source": [
    "Nv_true = 2\n",
    "Nsens = 6\n",
    "\n",
    "ϵmeas_data = [2.5e-4,3.75e-4,5e-4,6.25e-4,8e-4,1e-3,1.5e-3,2e-3,3e-3,4e-3];\n",
    "ϵmeas = ϵmeas_data[3] #5e-4 #1e-3\n",
    "\n",
    "config_true, x_true = get_config_and_state(Nv_true)\n",
    "obs_true, ystar, H, Σϵ, Σx = get_truth_data(Nsens,ϵmeas,x_true,config_true);"
   ]
  },
  {
   "cell_type": "code",
   "execution_count": 57,
   "id": "e8a484ce",
   "metadata": {},
   "outputs": [
    {
     "data": {
      "image/png": "[encoded data removed]"
     },
     "execution_count": 57,
     "metadata": {},
     "output_type": "execute_result"
    }
   ],
   "source": [
    "with_theme(xytheme) do\n",
    "    f = Figure(;resolution = (400, 400))\n",
    "    ax = f[1,1] = Axis(f;limits=(-2,2,-1,2))\n",
    "    show_singularities!(ax,x_true,obs_true)\n",
    "    plot_sensors!(ax,obs_true)\n",
    "    f\n",
    "end"
   ]
  },
  {
   "cell_type": "markdown",
   "id": "43f931f2",
   "metadata": {},
   "source": [
    "### Evaluate the true sensor data and add noise"
   ]
  },
  {
   "cell_type": "code",
   "execution_count": 58,
   "id": "22d7c61d",
   "metadata": {},
   "outputs": [
    {
     "data": {
      "image/png": "[encoded data removed]"
     },
     "execution_count": 58,
     "metadata": {},
     "output_type": "execute_result"
    }
   ],
   "source": [
    "with_theme(sensortheme) do\n",
    "    f = Figure(;resolution = (400, 200))\n",
    "    ax = f[1,1] = Axis(f)\n",
    "    plot_sensor_data!(ax,ystar,obs_true;sensor_noise=ϵmeas*ones(length(ystar)))\n",
    "    f\n",
    "end"
   ]
  },
  {
   "cell_type": "code",
   "execution_count": 59,
   "id": "7efed14a",
   "metadata": {},
   "outputs": [
    {
     "data": {
      "text/plain": [
       "([1, 4], [2, 5], [3, 6])"
      ]
     },
     "execution_count": 59,
     "metadata": {},
     "output_type": "execute_result"
    }
   ],
   "source": [
    "xid, yid, Γid = get_singularity_ids(obs_true.config)"
   ]
  },
  {
   "cell_type": "markdown",
   "id": "80fe9a86",
   "metadata": {},
   "source": [
    "### Get the Jacobian"
   ]
  },
  {
   "cell_type": "code",
   "execution_count": 18,
   "id": "6d85bf2f",
   "metadata": {},
   "outputs": [],
   "source": [
    "#Σx = inv(H'*inv(Σϵ)*H)"
   ]
  },
  {
   "cell_type": "code",
   "execution_count": 61,
   "id": "58d4e495",
   "metadata": {},
   "outputs": [],
   "source": [
    "Nsens = 6\n",
    "zv, Γv = default_vortex(2)\n",
    "zv .+= 0.42*[1,-1]\n",
    "#Γv = [1.2,-1.0]\n",
    "config_true, x_true = get_config_and_state(zv,Γv)\n",
    "obs_true, ystar, H, Σϵ, Σx = get_truth_data(Nsens,ϵmeas,x_true,config_true)\n",
    "F = eigen(Σx);"
   ]
  },
  {
   "cell_type": "code",
   "execution_count": 62,
   "id": "677ce957",
   "metadata": {},
   "outputs": [
    {
     "data": {
      "text/plain": [
       "6-element Vector{Float64}:\n",
       " -0.3094324533010946\n",
       " -0.11329820316660916\n",
       " -0.6470583809343575\n",
       " -0.29860930266781305\n",
       "  0.3536563271913714\n",
       "  0.5084193271932564"
      ]
     },
     "execution_count": 62,
     "metadata": {},
     "output_type": "execute_result"
    }
   ],
   "source": [
    "F.vectors[:,end]"
   ]
  },
  {
   "cell_type": "code",
   "execution_count": 63,
   "id": "d0eb6c0c",
   "metadata": {},
   "outputs": [
    {
     "data": {
      "image/png": "[encoded data removed]"
     },
     "execution_count": 63,
     "metadata": {},
     "output_type": "execute_result"
    }
   ],
   "source": [
    "with_theme(xytheme) do\n",
    "    f = Figure(;resolution = (400, 400))\n",
    "    ax = f[1,1] = Axis(f;limits=(-2,2,-1,2))\n",
    "    show_singularities!(ax,x_true,obs_true,color=:black)\n",
    "    plot_sensors!(ax,obs_true,color=:sienna)\n",
    "    f\n",
    "end"
   ]
  },
  {
   "cell_type": "code",
   "execution_count": 64,
   "id": "675cbe94",
   "metadata": {},
   "outputs": [
    {
     "data": {
      "image/png": "[encoded data removed]"
     },
     "execution_count": 64,
     "metadata": {},
     "output_type": "execute_result"
    }
   ],
   "source": [
    "with_theme(sensortheme) do\n",
    "    f = Figure(;resolution = (400, 200))\n",
    "    ax = f[1,1] = Axis(f)\n",
    "    plot_sensor_data!(ax,ystar,obs_true;sensor_noise=ϵmeas*ones(length(ystar)))\n",
    "    f\n",
    "end"
   ]
  },
  {
   "cell_type": "code",
   "execution_count": 103,
   "id": "4a05ad2d",
   "metadata": {},
   "outputs": [],
   "source": [
    "\n",
    "Nsenslist = 6:10\n",
    "dzvlist = -0.75:0.005:0.875\n",
    "zv, Γv = default_vortex(2)\n",
    "zv .+= 0.75*[1,-1]\n",
    "#Γv = [1.2,-1.0]\n",
    "Γv = [1.2,0.4]\n",
    "Flist8 = Eigen[]\n",
    "xseplist = Float64[]\n",
    "for Nsens in Nsenslist[[3]]\n",
    "    for dzv in dzvlist\n",
    "        zv, Γv = default_vortex(2)\n",
    "        zv .+= dzv*[1,-1]\n",
    "        config_true, x_true = get_config_and_state(zv,Γv)\n",
    "        obs_true, ystar, H, Σϵ, Σx = get_truth_data(Nsens,ϵmeas,x_true,config_true)\n",
    "        F = eigen(Σx)\n",
    "        push!(Flist8,deepcopy(F))\n",
    "        push!(xseplist,real(zv[2]-zv[1]))\n",
    "    end\n",
    "end"
   ]
  },
  {
   "cell_type": "code",
   "execution_count": 86,
   "id": "303a56b4",
   "metadata": {},
   "outputs": [
    {
     "data": {
      "text/plain": [
       "1-element Vector{Float64}:\n",
       " 0.0"
      ]
     },
     "execution_count": 86,
     "metadata": {},
     "output_type": "execute_result"
    }
   ],
   "source": [
    "zv, Γv = default_vortex(2)\n",
    "real(diff(zv + dzvlist[end]*[1,-1]))"
   ]
  },
  {
   "cell_type": "code",
   "execution_count": 27,
   "id": "bebc875f",
   "metadata": {},
   "outputs": [
    {
     "data": {
      "text/plain": [
       "6-element Vector{Float64}:\n",
       " 0.0018390859031132125\n",
       " 0.003974657520569904\n",
       " 0.009899202257695727\n",
       " 0.01874704437543853\n",
       " 0.0348451017304946\n",
       " 0.6850984184351113"
      ]
     },
     "execution_count": 27,
     "metadata": {},
     "output_type": "execute_result"
    }
   ],
   "source": [
    "sqrt.(Flist[1].values)"
   ]
  },
  {
   "cell_type": "code",
   "execution_count": 15,
   "id": "9071fe3b",
   "metadata": {},
   "outputs": [
    {
     "data": {
      "text/plain": [
       "2×2 Matrix{Float64}:\n",
       "  0.00186177   -0.000915458\n",
       " -0.000915458   0.00115836"
      ]
     },
     "execution_count": 15,
     "metadata": {},
     "output_type": "execute_result"
    }
   ],
   "source": [
    "Σx[[xid[1],xid[2]],[xid[1],xid[2]]]"
   ]
  },
  {
   "cell_type": "code",
   "execution_count": 27,
   "id": "4e717ae2",
   "metadata": {},
   "outputs": [
    {
     "data": {
      "image/png": "[encoded data removed]"
     },
     "execution_count": 27,
     "metadata": {},
     "output_type": "execute_result"
    }
   ],
   "source": [
    "f = Figure(;resolution=(700,500))\n",
    "\n",
    "ga = f[1,1] = GridLayout()\n",
    "gb = f[2,1] = GridLayout()\n",
    "gb1 = gb[1,1] = GridLayout()\n",
    "gb2 = gb[1,2] = GridLayout()\n",
    "gb3 = gb[1,3] = GridLayout()\n",
    "\n",
    "axleft = Axis(ga[1,1];xticks=(1:6,[L\"x_1\",L\"y_1\",L\"\\Gamma_1\",L\"x_2\",L\"y_2\",L\"\\Gamma_2\"]),ylabel=L\"(\\sigma_\\epsilon/\\lambda_n^{1/2})v_n\")\n",
    "for j in [1,2,3]\n",
    "    scatter!(axleft,sqrt(Flist[j].values[end])*Flist[j].vectors[:,end],label=L\"d=%$(Nsenslist[j])\")\n",
    "end\n",
    "ylims!(axleft,(-0.75,0.75))\n",
    "#axislegend(axleft,position=:rb)\n",
    "with_theme(xytheme) do\n",
    "    axright = [Axis(gb[1,1];limits=(-2,2,-1,2)),Axis(gb[1,2];limits=(-2,2,-1,2)),Axis(gb[1,3];limits=(-2,2,-1,2))]\n",
    "    for j in [1,2,3]\n",
    "        ystar, H, F, x_true, Σϵ, obs_true = get_observations_and_jacobian(zv,Γv,Nsenslist[j],ϵmeas)\n",
    "        show_singularities!(axright[j],x_true,obs_true,markersize=8)\n",
    "        plot_sensors!(axright[j],obs_true,color=Makie.wong_colors()[j])\n",
    "    end\n",
    "end\n",
    "save(\"maxvariance-2vortex-varyd-G1p-G2p-case4.svg\",f)\n",
    "f"
   ]
  },
  {
   "cell_type": "code",
   "execution_count": 115,
   "id": "d81e5e32",
   "metadata": {},
   "outputs": [
    {
     "data": {
      "image/png": "[encoded data removed]"
     },
     "execution_count": 115,
     "metadata": {},
     "output_type": "execute_result"
    }
   ],
   "source": [
    "f = Figure(;resolution=(400,400))\n",
    "\n",
    "ax = f[1,1] = Axis(f;yscale=log10,xlabel=L\"x_2 - x_1\",ylabel=L\"\\sigma_\\epsilon/\\lambda_n^{1/2}\")\n",
    "λrootmax6 = [sqrt(Flist6[j].values[end]) for j in 1:length(Flist6)]\n",
    "λrootmax7 = [sqrt(Flist7[j].values[end]) for j in 1:length(Flist7)]\n",
    "λrootmax8 = [sqrt(Flist8[j].values[end]) for j in 1:length(Flist8)]\n",
    "\n",
    "\n",
    "#axleft = Axis(ga[1,1];xticks=(1:6,[L\"x_1\",L\"y_1\",L\"\\Gamma_1\",L\"x_2\",L\"y_2\",L\"\\Gamma_2\"]),ylabel=L\"(\\sigma_\\epsilon/\\lambda_n^{1/2})v_n\")\n",
    "lines!(ax,xseplist,λrootmax6,label=L\"d=6\")\n",
    "lines!(ax,xseplist,λrootmax7,label=L\"d=7\")\n",
    "lines!(ax,xseplist,λrootmax8,label=L\"d=8\")\n",
    "\n",
    "axislegend(ax,position=:rt)\n",
    "xlims!(ax,(0,3.25))\n",
    "\n",
    "f"
   ]
  },
  {
   "cell_type": "code",
   "execution_count": 91,
   "id": "e279cd84",
   "metadata": {},
   "outputs": [
    {
     "data": {
      "text/plain": [
       "1-element Vector{ComplexF64}:\n",
       " 0.0 - 0.25im"
      ]
     },
     "execution_count": 91,
     "metadata": {},
     "output_type": "execute_result"
    }
   ],
   "source": [
    "diff(zv + dzvlist[end]*[1,-1])"
   ]
  },
  {
   "cell_type": "code",
   "execution_count": 39,
   "id": "2468fe83",
   "metadata": {},
   "outputs": [
    {
     "data": {
      "text/plain": [
       "2-element Vector{Float64}:\n",
       " 1.2\n",
       " 0.4"
      ]
     },
     "execution_count": 39,
     "metadata": {},
     "output_type": "execute_result"
    }
   ],
   "source": [
    "val, idx = findmax(λrootmax)\n",
    "dzvlist[idx]\n",
    "zv, Γv = default_vortex(2)\n",
    "zv .+= dzvlist[idx]*[1,-1]\n",
    "Γv"
   ]
  },
  {
   "cell_type": "code",
   "execution_count": 209,
   "id": "df308d9e",
   "metadata": {},
   "outputs": [
    {
     "data": {
      "text/plain": [
       "3-element Vector{Float64}:\n",
       " 0.4693598429422909\n",
       " 0.170406351410646\n",
       " 0.11111368853815623"
      ]
     },
     "execution_count": 209,
     "metadata": {},
     "output_type": "execute_result"
    }
   ],
   "source": [
    "[Fxset2[j].values[end] for j in 1:3]"
   ]
  },
  {
   "cell_type": "code",
   "execution_count": 283,
   "id": "4f5b91dc",
   "metadata": {},
   "outputs": [
    {
     "data": {
      "text/plain": [
       "4-element Vector{Float64}:\n",
       " 0.003690817551896042\n",
       " 0.003607489876942493\n",
       " 0.004169919627930807\n",
       " 0.00449458504692916"
      ]
     },
     "execution_count": 283,
     "metadata": {},
     "output_type": "execute_result"
    }
   ],
   "source": [
    "[Fset[j].S[end] for j in 1:length(Fset2)]"
   ]
  },
  {
   "cell_type": "code",
   "execution_count": 246,
   "id": "ac91d6f8",
   "metadata": {},
   "outputs": [
    {
     "data": {
      "text/plain": [
       "4-element Vector{Float64}:\n",
       " 0.0007298221489723243\n",
       " 0.001211231384550885\n",
       " 0.0014999826026703762\n",
       " 0.0015139537261882957"
      ]
     },
     "execution_count": 246,
     "metadata": {},
     "output_type": "execute_result"
    }
   ],
   "source": [
    "[Fset2[j].S[end] for j in 1:length(Fset2)]"
   ]
  },
  {
   "cell_type": "code",
   "execution_count": 88,
   "id": "a8f29e67",
   "metadata": {},
   "outputs": [
    {
     "data": {
      "image/png": "[encoded data removed]"
     },
     "execution_count": 88,
     "metadata": {},
     "output_type": "execute_result"
    }
   ],
   "source": [
    "f = Figure(;resolution=(900,300))\n",
    "f[1, 1] = GridLayout()\n",
    "f[1, 2] = GridLayout()\n",
    "f[1, 3] = GridLayout()\n",
    "\n",
    "vort1, vort2 = 1, 1\n",
    "ax11 = Axis(f[1,1];xlabel=L\"x_%$vort1\",ylabel=L\"y_%$vort2\",aspect=DataAspect())\n",
    "\n",
    "vec = [xid[vort1],yid[vort2]]\n",
    "draw_ellipse!(ax11,zeros(2),Σx[vec,vec])\n",
    "ylims!(ax11,(-0.2,0.2))\n",
    "xlims!(ax11,(-0.2,0.2))\n",
    "\n",
    "ax12 = Axis(f[1,2];xlabel=L\"y_%$vort1\",ylabel=L\"\\Gamma_%$vort2\",aspect=DataAspect())\n",
    "\n",
    "vec = [yid[vort1],Γid[vort2]]\n",
    "draw_ellipse!(ax12,zeros(2),Σx[vec,vec])\n",
    "ylims!(ax12,(-0.2,0.2))\n",
    "xlims!(ax12,(-0.2,0.2))\n",
    "\n",
    "ax13 = Axis(f[1,3];xlabel=L\"x_%$vort1\",ylabel=L\"\\Gamma_%$vort2\",aspect=DataAspect())\n",
    "\n",
    "vec = [xid[vort1],Γid[vort2]]\n",
    "draw_ellipse!(ax13,zeros(2),Σx[vec,vec])\n",
    "ylims!(ax13,(-0.2,0.2))\n",
    "xlims!(ax13,(-0.2,0.2))\n",
    "f"
   ]
  },
  {
   "cell_type": "code",
   "execution_count": null,
   "id": "0891f9ff",
   "metadata": {},
   "outputs": [],
   "source": []
  }
 ],
 "metadata": {
  "@webio": {
   "lastCommId": null,
   "lastKernelId": null
  },
  "kernelspec": {
   "display_name": "Julia 1.8.2",
   "language": "julia",
   "name": "julia-1.8"
  },
  "language_info": {
   "file_extension": ".jl",
   "mimetype": "application/julia",
   "name": "julia",
   "version": "1.8.2"
  }
 },
 "nbformat": 4,
 "nbformat_minor": 5
}

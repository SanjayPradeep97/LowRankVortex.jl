{
 "cells": [
  {
   "cell_type": "markdown",
   "id": "12871f40",
   "metadata": {},
   "source": [
    "# MCMC-GMM inference of vortices from pressure"
   ]
  },
  {
   "cell_type": "code",
   "execution_count": 1,
   "id": "43491054",
   "metadata": {},
   "outputs": [],
   "source": [
    "using Revise"
   ]
  },
  {
   "cell_type": "code",
   "execution_count": 2,
   "id": "3aafc837",
   "metadata": {},
   "outputs": [
    {
     "name": "stderr",
     "output_type": "stream",
     "text": [
      "\u001b[36m\u001b[1m[ \u001b[22m\u001b[39m\u001b[36m\u001b[1mInfo: \u001b[22m\u001b[39mPrecompiling LowRankVortex [fdf095b8-6f21-420b-9d49-8e692abb03d1]\n"
     ]
    }
   ],
   "source": [
    "using LowRankVortex"
   ]
  },
  {
   "cell_type": "code",
   "execution_count": 3,
   "id": "3284abec",
   "metadata": {},
   "outputs": [],
   "source": [
    "using PotentialFlow"
   ]
  },
  {
   "cell_type": "code",
   "execution_count": 4,
   "id": "9e4ffb11",
   "metadata": {},
   "outputs": [],
   "source": [
    "using CairoMakie\n",
    "#using Plots\n",
    "#pyplot()"
   ]
  },
  {
   "cell_type": "code",
   "execution_count": 5,
   "id": "a639fdf5",
   "metadata": {},
   "outputs": [],
   "source": [
    "using LaTeXStrings"
   ]
  },
  {
   "cell_type": "code",
   "execution_count": 6,
   "id": "bec4e8c2",
   "metadata": {},
   "outputs": [],
   "source": [
    "using Distributions\n",
    "using Random\n",
    "using LinearAlgebra\n",
    "using GaussianMixtures\n",
    "using Statistics"
   ]
  },
  {
   "cell_type": "markdown",
   "id": "c44f9593",
   "metadata": {},
   "source": [
    "### Truth"
   ]
  },
  {
   "cell_type": "code",
   "execution_count": 108,
   "id": "0c8bf215",
   "metadata": {},
   "outputs": [],
   "source": [
    "δ_true = 0.01\n",
    "\n",
    "\n",
    "#=\n",
    "# For placing the vortices randomly\n",
    "=#\n",
    "#=\n",
    "Nv_cluster = 5\n",
    "Nv_per_cluster = 1\n",
    "Nv_true = Nv_cluster*Nv_per_cluster \n",
    "\n",
    "xr = (-1.5,1.5)\n",
    "yr = (-1.0,1.0)\n",
    "Γr = (-2.0,2.0)\n",
    "\n",
    "σx = 0.03\n",
    "σΓ = 0.03\n",
    "zv, Γv = createclusters(Nv_cluster,Nv_per_cluster,xr,yr,Γr,σx,σΓ,each_cluster_radius=1.5*σx)\n",
    "=#\n",
    "\n",
    "#=\n",
    "Prescribed placement\n",
    "=#\n",
    "#zv = [0.5+1.0im]\n",
    "#Γv = [1.0]\n",
    "#zv = [-0.58+0.75im,0.33+0.5im]  # [-1.0+0.75im,0.75+0.5im]\n",
    "#Γv = [1.2,0.4] #[1.2,0.4] #[1.2,-1.0]\n",
    "zv = [-0.75+0.75im,0.25+0.5im,0.75+0.75im]\n",
    "Γv = [1.0,-1.2,1.4]\n",
    "Nv_true = length(zv);\n",
    "\n",
    "#=\n",
    "x_true = [-0.7611581857580003,\n",
    "  0.7266716391085539,\n",
    "  0.04730897238217636,\n",
    "  0.4637373841856715,\n",
    "  0.6347931827658125,\n",
    "  1.6466841098688845];\n",
    "  zv, Γv = state_to_positions_and_strengths(x_true)\n",
    "  Nv_true =  length(zv)\n",
    "=#\n"
   ]
  },
  {
   "cell_type": "markdown",
   "id": "3154cd97",
   "metadata": {},
   "source": [
    "### Set some plotting themes"
   ]
  },
  {
   "cell_type": "code",
   "execution_count": 109,
   "id": "1f569c58",
   "metadata": {},
   "outputs": [],
   "source": [
    "xytheme = Theme(\n",
    "        Axis = (aspect=DataAspect(),xlabel=L\"x\",ylabel=L\"y\"),\n",
    "        palette = (color = Makie.wong_colors(),),\n",
    "        Lines = (cycle = [:color],),\n",
    "        Scatter = (cycle = [:color],)\n",
    "    );\n",
    "\n",
    "sensortheme = Theme(\n",
    "    Axis = (xlabel=\"Sensor no.\",ylabel=L\"p-p_\\infty\") # xticks=1:length(sens),\n",
    ");"
   ]
  },
  {
   "cell_type": "markdown",
   "id": "316a9145",
   "metadata": {},
   "source": [
    "#### Set up the observer for the truth data"
   ]
  },
  {
   "cell_type": "code",
   "execution_count": 110,
   "id": "2088ac60",
   "metadata": {},
   "outputs": [],
   "source": [
    "config_true, x_true = get_config_and_state(zv,Γv;δ=δ_true)\n",
    "\n",
    "ϵmeas_data = [1e-5,1e-4,2.5e-4,3.75e-4,5e-4,6.25e-4,8e-4,1e-3,1.5e-3,2e-3,3e-3,4e-3];"
   ]
  },
  {
   "cell_type": "markdown",
   "id": "ff12a55f",
   "metadata": {},
   "source": [
    "## Vortex estimation"
   ]
  },
  {
   "cell_type": "code",
   "execution_count": 111,
   "id": "7b559084",
   "metadata": {},
   "outputs": [],
   "source": [
    "Nv_estimator = 3\n",
    "δ = 0.01\n",
    "\n",
    "config_estimator = VortexConfig(Nv_estimator, δ, body=LowRankVortex.NoWall)\n",
    "\n",
    "\n",
    "# ranges to confine the prior mean to\n",
    "xr = (-2,2)\n",
    "yr = (0.01,4) #(0.01,4) #(0.01,2.0)\n",
    "#dΓr = (-4,4)\n",
    "#Γtotr = (0.01,2)\n",
    "Γr = (-2,2)\n",
    "bounds = create_state_bounds(xr,yr,Γr,config_estimator);"
   ]
  },
  {
   "cell_type": "markdown",
   "id": "1d924571",
   "metadata": {},
   "source": [
    "### Set up the MCMC parameters"
   ]
  },
  {
   "cell_type": "code",
   "execution_count": 125,
   "id": "9f1d08ab",
   "metadata": {},
   "outputs": [],
   "source": [
    "## Parallel tempering ##\n",
    "propvarX_coarse = 0.01^2 \n",
    "propvarY_coarse = 0.01^2\n",
    "propvarΓ_coarse = 0.01^2 #0.05^2\n",
    "\n",
    "propvarX_fine = 0.005^2 # 0.01^2\n",
    "propvarY_fine = 0.005^2 # 0.01^2\n",
    "propvarΓ_fine = 0.005^2 # 0.005^2 # 0.01^2\n",
    "\n",
    "Ntrial = [10000, 600000]\n",
    "propvar = [state_covariance(propvarX_coarse,propvarY_coarse,propvarΓ_coarse,config_estimator),\n",
    "           state_covariance(propvarX_fine,propvarY_fine,propvarΓ_fine,config_estimator)];"
   ]
  },
  {
   "cell_type": "markdown",
   "id": "44215121",
   "metadata": {},
   "source": [
    "### Loop through cases"
   ]
  },
  {
   "cell_type": "code",
   "execution_count": 120,
   "id": "feb06672",
   "metadata": {},
   "outputs": [],
   "source": [
    "#=\n",
    "gm4_array = GMM[]\n",
    "Ns4_array = Int[]\n",
    "ϵ4_array = Float64[]\n",
    "for ϵmeas in ϵmeas_data\n",
    "    for Nsens in 4:4\n",
    "        @info \"Parameters\" Nsens ϵmeas\n",
    "        obs_true, ystar, H, Σϵ, Σx = get_truth_data(Nsens,ϵmeas,x_true,config_true)\n",
    "        logp̃_fcn, obs = setup_estimator(obs_true.sens,bounds,config_estimator,ystar,Σϵ)\n",
    "\n",
    "        #logp̃_fcn, obs, _ = setup_for_sensors(Nsens,ϵmeas)\n",
    "        xseed = generate_random_state(bounds,obs.config)\n",
    "\n",
    "        gm, x_decorr_data = find_gmm(1,logp̃_fcn,obs,xseed,Ntrial,propvar)\n",
    "        push!(gm4_array,deepcopy(gm))\n",
    "        push!(Ns4_array,Nsens)\n",
    "        push!(ϵ4_array,ϵmeas)\n",
    "    end\n",
    "end\n",
    "=#"
   ]
  },
  {
   "cell_type": "markdown",
   "id": "fc8da682",
   "metadata": {},
   "source": [
    "### For two sensors\n",
    "There is a circular manifold of possible solutions. Create this circle here (`zc`)"
   ]
  },
  {
   "cell_type": "code",
   "execution_count": 42,
   "id": "6ab127cd",
   "metadata": {},
   "outputs": [
    {
     "ename": "LoadError",
     "evalue": "UndefVarError: x_id not defined\n\nSome of the types have been truncated in the stacktrace for improved reading. To emit complete information\nin the stack trace, evaluate `TruncatedStacktraces.VERBOSE[] = true` and re-run the code.\n",
     "output_type": "error",
     "traceback": [
      "UndefVarError: x_id not defined\n\nSome of the types have been truncated in the stacktrace for improved reading. To emit complete information\nin the stack trace, evaluate `TruncatedStacktraces.VERBOSE[] = true` and re-run the code.\n",
      "",
      "Stacktrace:",
      " [1] top-level scope",
      "   @ In[42]:4"
     ]
    }
   ],
   "source": [
    "#=\n",
    "# The circle of solutions with 2 sensors\n",
    "logp̃_fcn, obs, _ = setup_for_sensors(2,ϵmeas_data[5])\n",
    "\n",
    "z0 = x_true[x_id] + im*x_true[y_id]\n",
    "s = [obs.sens[1],obs.sens[end]]\n",
    "\n",
    "cent = (abs2(z0-s[1])*s[2] - abs2(z0-s[2])*s[1])/(abs2(z0-s[1]) - abs2(z0-s[2]))\n",
    "rad2 = abs2(z0-s[1])*abs2(z0-s[2])*abs2(s[1]-s[2])/(abs2(z0-s[1]) - abs2(z0-s[2]))^2\n",
    "\n",
    "dzdΓ = 0.5*im/x_true[Γ_id]*(abs2(z0-s[2]) - abs2(z0-s[1]))*(z0-cent)/imag(conj(s[2]-s[1])*z0)\n",
    "dxdΓ = [real(dzdΓ),imag(dzdΓ),1.0]\n",
    "dxdΓ /= norm(dxdΓ)\n",
    "\n",
    "θ = range(0,2π,length=100)\n",
    "zc = cent .+ sqrt(rad2)*exp.(im*θ);\n",
    "=#"
   ]
  },
  {
   "cell_type": "markdown",
   "id": "91113c74",
   "metadata": {},
   "source": [
    "### Generate results for a specific case"
   ]
  },
  {
   "cell_type": "code",
   "execution_count": 126,
   "id": "7540f169",
   "metadata": {},
   "outputs": [
    {
     "name": "stdout",
     "output_type": "stream",
     "text": [
      "K-means converged with 36 iterations (objv = 403.2579703704817)\n"
     ]
    },
    {
     "name": "stderr",
     "output_type": "stream",
     "text": [
      "\u001b[36m\u001b[1m[ \u001b[22m\u001b[39m\u001b[36m\u001b[1mInfo: \u001b[22m\u001b[39mInitializing GMM, 8 Gaussians diag covariance 9 dimensions using 3001 data points\n",
      "\u001b[36m\u001b[1m┌ \u001b[22m\u001b[39m\u001b[36m\u001b[1mInfo: \u001b[22m\u001b[39mK-means with 3001 data points using 36 iterations\n",
      "\u001b[36m\u001b[1m└ \u001b[22m\u001b[39m37.5 data points per parameter\n"
     ]
    }
   ],
   "source": [
    "K = 8\n",
    "Nsens = 11\n",
    "ϵmeas = 5e-4\n",
    "obs_true, ystar, H, Σϵ, Σx = get_truth_data(Nsens,ϵmeas,x_true,config_true)\n",
    "logp̃_fcn, obs = setup_estimator(obs_true.sens,bounds,config_estimator,ystar,Σϵ)\n",
    "\n",
    "xseed = generate_random_state(bounds,obs.config)\n",
    "gm, x_decorr_data = find_gmm(K,logp̃_fcn,obs,xseed,Ntrial,propvar);"
   ]
  },
  {
   "cell_type": "code",
   "execution_count": 127,
   "id": "869b5f27",
   "metadata": {},
   "outputs": [],
   "source": [
    "xm, Σ, wts = means_and_covariances(gm,config_estimator);\n",
    "\n",
    "Σ_0 = state_covariance(δ^2,δ^2,0.0,config_estimator);\n",
    "Σv = [Σ[j] .+ Σ_0 for j = 1:length(Σ)]; # add the blob size to the covariance for vorticity field"
   ]
  },
  {
   "cell_type": "code",
   "execution_count": 128,
   "id": "fb09ab5e",
   "metadata": {},
   "outputs": [
    {
     "data": {
      "text/plain": [
       "\"3vortex-3truth-K8-delta001-11sensor-ds020-noise5em4\""
      ]
     },
     "execution_count": 128,
     "metadata": {},
     "output_type": "execute_result"
    }
   ],
   "source": [
    "plottype = :samples\n",
    "#plottype = :vorticity\n",
    "\n",
    "saveplot = false\n",
    "\n",
    "ds_string = string(1000+round(Int,100*abs(obs.sens[end]-obs.sens[1])/(length(obs.sens)-1)))[2:end]\n",
    "ns_string = string(length(obs.sens))\n",
    "nv_string = string(obs.config.Nv)\n",
    "K_string = string(K)\n",
    "\n",
    "delta_string = string(round(Int,1000+100*δ_true))[2:4]\n",
    "\n",
    "filename = nv_string*\"vortex-3truth-K\"*K_string*\"-delta\"*delta_string*\"-\"*ns_string*\"sensor-ds\"*ds_string*\"-noise5em4\"\n",
    "#filename = nv_string*\"vortex-1truth-K\"*K_string*\"-delta\"*delta_string*\"-\"*ns_string*\"sensorcirc-ds\"*ds_string*\"-noise5em4\""
   ]
  },
  {
   "cell_type": "code",
   "execution_count": 129,
   "id": "2db7b789",
   "metadata": {},
   "outputs": [
    {
     "data": {
      "image/png": "[encoded data removed]"
     },
     "execution_count": 129,
     "metadata": {},
     "output_type": "execute_result"
    }
   ],
   "source": [
    "with_theme(xytheme) do\n",
    "    f = Figure(;resolution=(450,300))\n",
    "    ax = f[1,1] = Axis(f)\n",
    "\n",
    "    if plottype == :samples\n",
    "        show_singularity_samples!(ax,x_decorr_data,obs,nskip=1,markersize=3) #colormap=:Set1_3:RdBu_3,nskip=1)\n",
    "        #singularity_ellipses!(ax,xm[:,best_comp],Σ[best_comp],obs,color=:red)\n",
    "        singularity_ellipses!(ax,xm,Σ,wts,obs)\n",
    "        \n",
    "        # Draw some lines to indicate maximum uncertainty direction at true state\n",
    "        #=\n",
    "        xid, yid, Γid = get_singularity_ids(obs_true.config)\n",
    "        F = eigen(Σx)\n",
    "        vmax = F.vectors[:,end]\n",
    "        for j = 1:number_of_singularities(obs_true.config)\n",
    "            lines!(ax,[real(zv)[j]-vmax[xid[j]],real(zv)[j]+vmax[xid[j]]],[imag(zv)[j]-vmax[yid[j]],imag(zv)[j]+vmax[yid[j]]],color=:black,linewidth=0.5)\n",
    "        end\n",
    "        =#\n",
    "    \n",
    "    elseif plottype == :vorticity\n",
    "        wmin, wmax = -0.2,0.2\n",
    "        lev = range(wmin,wmax,length=20)\n",
    "        plot_expected_sourcefield!(ax,xm,Σv,wts,obs,xlims=(-2,2),ylims=(-1,2.5),colormap=cgrad(:lighttemperaturemap,rev=true),linewidth=2,colorrange=(wmin,wmax),levels=lev)\n",
    "        #plot_expected_sourcefield!(ax,xm[:,best_comp],Σ[best_comp],obs,ylims=(-1,2.5),colormap=:lighttemperaturemap,linewidth=2,levels=range(-1,1,length=14))\n",
    "\n",
    "        Σ_true = state_covariance(δ_true^2,δ_true^2,0.0,config_true);        \n",
    "        plot_expected_sourcefield!(ax,x_true,Σ_true,obs_true,ylims=(-1,2),colormap=cgrad(:lighttemperaturemap,rev=true),linestyle=:dot,linewidth=1,colorrange=(wmin,wmax),llevels=lev)\n",
    "        \n",
    "    end\n",
    "    \n",
    "    #lines!(ax,real(zc),imag(zc);marker=:none,color=:gray)\n",
    "    #lines!(ax,[0.0,real(z0)],[0.0,imag(z0)],marker=:none,color=:gray)\n",
    "\n",
    "    scatter!(ax,real(zv),imag(zv),marker=:circle,markersize=4,color=:black,strokewidth=1)\n",
    "  \n",
    "    plot_sensors!(ax,obs,color=:sienna)\n",
    "    #ylims!(ax,(-0.5,2))\n",
    "    #xlims!(ax,(-1.5,1.5))\n",
    "    ylims!(ax,(-0.5,2.5))\n",
    "    xlims!(ax,(-2,2))\n",
    "    \n",
    "    fullname = String(plottype)*\"-\"*filename*\".svg\" \n",
    "    saveplot && save(fullname,f)\n",
    "    f\n",
    "end"
   ]
  },
  {
   "cell_type": "code",
   "execution_count": 118,
   "id": "92aadc3b",
   "metadata": {},
   "outputs": [
    {
     "data": {
      "image/png": "[encoded data removed]"
     },
     "execution_count": 118,
     "metadata": {},
     "output_type": "execute_result"
    }
   ],
   "source": [
    "t = 0.0\n",
    "_, best_comp = findmax(wts)\n",
    "l = range(-0.5,0.01,length=21)\n",
    "cl = (-0.5,0.01)\n",
    "f = Figure(;resolution=(1200,300))\n",
    "ga = f[1, 1] = GridLayout()\n",
    "gb = f[1, 2] = GridLayout()\n",
    "gc = f[1, 3] = GridLayout()\n",
    "axleft = Axis(ga[1,1];xlabel=L\"x\",ylabel=L\"y\",limits=(-2,2,-1,2),aspect=DataAspect(),title=L\"\\textrm{truth}\")\n",
    "axright = Axis(gc[1,1];xlabel=L\"x\",ylabel=L\"y\",limits=(-2,2,-1,2),aspect=DataAspect(),title=L\"\\textrm{estimate}\")\n",
    "linkaxes!(axright,axleft)\n",
    "pmin, pmax = -5,0.01\n",
    "plot_pressure_field!(axleft,x_true,obs_true,colormap=cgrad(:lighttemperaturemap,rev=true),colorrange=(pmin,pmax),levels=range(pmin,pmax,length=15),linewidth=2)\n",
    "plot_sensors!(axleft,obs_true,color=:sienna)\n",
    "plot_pressure_field!(axright,xm[:,best_comp],obs,mode=:relative,colormap=cgrad(:lighttemperaturemap,rev=true),colorrange=(pmin,pmax),levels=range(pmin,pmax,length=15),linewidth=2)\n",
    "plot_sensors!(axright,obs,color=:sienna)\n",
    "\n",
    "\n",
    "# Sensor plot\n",
    "axcenter = Axis(gb[1,1];xticks=1:length(obs.sens),xlabel=\"Sensor no.\",ylabel=L\"p-p_\\infty\") \n",
    "plot_sensor_data!(axcenter,ystar,xm[:,best_comp],t,obs;sensor_noise=ϵmeas*ones(length(ystar)))\n",
    "axislegend(axcenter,position=:rb)\n",
    "\n",
    "\n",
    "for (label, layout) in zip([\"(a)\", \"(b)\", \"(c)\"], [ga, gb, gc])\n",
    "    Label(layout[1, 1, TopLeft()], label,\n",
    "        fontsize = 15,\n",
    "        font = \"TeX Heros Italic\",\n",
    "        padding = (0, 5, 5, 0),\n",
    "        halign = :right)\n",
    "end\n",
    "saveplot && save(\"pressurefield-\"*filename*\".svg\",f)\n",
    "\n",
    "f"
   ]
  },
  {
   "cell_type": "markdown",
   "id": "163e5134",
   "metadata": {},
   "source": [
    "### Plot covariances"
   ]
  },
  {
   "cell_type": "code",
   "execution_count": 148,
   "id": "6eca9797",
   "metadata": {},
   "outputs": [],
   "source": [
    "Σ4_array = Matrix[]\n",
    "xm4_array = Matrix[]\n",
    "wts4_array = Float64[]\n",
    "for gm in gm4_array\n",
    "    xm, Σ, wts = means_and_covariances(gm,config_estimator)\n",
    "    push!(xm4_array,deepcopy(xm))\n",
    "    push!(Σ4_array,deepcopy(Σ[1]))\n",
    "    push!(wts4_array,deepcopy(wts[1]))\n",
    "end"
   ]
  },
  {
   "cell_type": "code",
   "execution_count": 82,
   "id": "e091814b",
   "metadata": {},
   "outputs": [
    {
     "data": {
      "text/plain": [
       "(1, 2, 3)"
      ]
     },
     "execution_count": 82,
     "metadata": {},
     "output_type": "execute_result"
    }
   ],
   "source": [
    "x_id, y_id, Γ_id = get_singularity_ids(1,config_estimator)"
   ]
  },
  {
   "cell_type": "code",
   "execution_count": 149,
   "id": "95c3ddcf",
   "metadata": {},
   "outputs": [
    {
     "data": {
      "text/plain": [
       "12-element Vector{Float64}:\n",
       " 4.921006717240011e-6\n",
       " 0.0004437522716796398\n",
       " 0.003108372679460184\n",
       " 0.00677170133892477\n",
       " 0.013392983580305927\n",
       " 0.026020371774627467\n",
       " 0.06341514521672803\n",
       " 0.12458755101732785\n",
       " 0.2905768682605969\n",
       " 0.3096226022044285\n",
       " 0.35378168314802616\n",
       " 0.5494957957996457"
      ]
     },
     "execution_count": 149,
     "metadata": {},
     "output_type": "execute_result"
    }
   ],
   "source": [
    "# varying noise levels\n",
    "ϵ = ϵ4_array[Ns4_array.==4]\n",
    "Σ = Σ4_array[Ns4_array.==4]\n",
    "λ1 = map(Σj -> eigen(Σj).values[1],Σ)\n",
    "λ2 = map(Σj -> eigen(Σj).values[2],Σ)\n",
    "λ3 = map(Σj -> eigen(Σj).values[3],Σ)"
   ]
  },
  {
   "cell_type": "code",
   "execution_count": 188,
   "id": "97e6118a",
   "metadata": {},
   "outputs": [
    {
     "data": {
      "text/plain": [
       "5-element Vector{Float64}:\n",
       " 0.4396233639673928\n",
       " 0.04301967153210292\n",
       " 0.014315931603408787\n",
       " 0.011954884183194365\n",
       " 0.010335621247728357"
      ]
     },
     "execution_count": 188,
     "metadata": {},
     "output_type": "execute_result"
    }
   ],
   "source": [
    "# varying number of sensors\n",
    "Ns = Ns_array[ϵ_array.==5e-4]\n",
    "Σ = Σ_array[ϵ_array.==5e-4]\n",
    "λ1 = map(Σj -> eigen(Σj).values[1],Σ)\n",
    "λ2 = map(Σj -> eigen(Σj).values[2],Σ)\n",
    "λ3 = map(Σj -> eigen(Σj).values[3],Σ)"
   ]
  },
  {
   "cell_type": "code",
   "execution_count": 155,
   "id": "a008135f",
   "metadata": {},
   "outputs": [
    {
     "data": {
      "image/png": "[encoded data removed]"
     },
     "execution_count": 155,
     "metadata": {},
     "output_type": "execute_result"
    }
   ],
   "source": [
    "f = Figure(;resolution=(400,400))\n",
    "ax = f[1,1] = Axis(f;yscale=log10,xscale=log10,xlabel=L\"\\sigma_{\\epsilon}\",ylabel=L\"\\lambda(\\Sigma_x)^{1/2}\",\n",
    "                                  yticks=([1e-3,1e-2,1e-1],[L\"10^{-3}\",L\"10^{-2}\",L\"10^{-1}\"]),\n",
    "                                  xticks=([1e-5,1e-4,1e-3],[L\"10^{-5}\",L\"10^{-4}\",L\"10^{-3}\"]))\n",
    "\n",
    "scatter!(ax,ϵ,sqrt.(λ1))\n",
    "scatter!(ax,ϵ,sqrt.(λ2))\n",
    "scatter!(ax,ϵ,sqrt.(λ3))\n",
    "#xlims!(ax,(1e-6,2.25e-3))\n",
    "#ylims!(ax,(1e-4,1e0))\n",
    "\n",
    "ϵ_2pt = [1e-5,2e-3]\n",
    "lines!(ax,ϵ_2pt,(2e-2/1e-4).*ϵ_2pt,marker=:none)\n",
    "text!(ax,2e-5,1e-2,text=L\"\\sim \\sigma_{\\epsilon}\")\n",
    "save(\"covar-eigen-vs-noise-1vortex-4sensor.svg\",f)\n",
    "f"
   ]
  },
  {
   "cell_type": "code",
   "execution_count": 154,
   "id": "ec54d8f3",
   "metadata": {},
   "outputs": [
    {
     "ename": "LoadError",
     "evalue": "UndefVarError: Ns not defined\n\nSome of the types have been truncated in the stacktrace for improved reading. To emit complete information\nin the stack trace, evaluate `TruncatedStacktraces.VERBOSE[] = true` and re-run the code.\n",
     "output_type": "error",
     "traceback": [
      "UndefVarError: Ns not defined\n\nSome of the types have been truncated in the stacktrace for improved reading. To emit complete information\nin the stack trace, evaluate `TruncatedStacktraces.VERBOSE[] = true` and re-run the code.\n",
      "",
      "Stacktrace:",
      " [1] top-level scope",
      "   @ In[154]:4"
     ]
    }
   ],
   "source": [
    "f = Figure(;resolution=(400,400))\n",
    "ax = f[1,1] = Axis(f;yscale=log10,xlabel=L\"N_s\",ylabel=L\"\\lambda^{1/2}\")\n",
    "\n",
    "scatter!(ax,Ns,sqrt.(λ1))\n",
    "scatter!(ax,Ns,sqrt.(λ2))\n",
    "scatter!(ax,Ns,sqrt.(λ3))\n",
    "#xlims!(ax,(2e-4,1.2e-3))\n",
    "ylims!(ax,(2e-3,1e0))\n",
    "save(\"covar-eigen-vs-sensors-1vortex-noise5em4.svg\",f)\n",
    "f"
   ]
  },
  {
   "cell_type": "code",
   "execution_count": null,
   "id": "52a5592b",
   "metadata": {},
   "outputs": [],
   "source": []
  }
 ],
 "metadata": {
  "@webio": {
   "lastCommId": null,
   "lastKernelId": null
  },
  "kernelspec": {
   "display_name": "Julia 1.8.2",
   "language": "julia",
   "name": "julia-1.8"
  },
  "language_info": {
   "file_extension": ".jl",
   "mimetype": "application/julia",
   "name": "julia",
   "version": "1.8.2"
  }
 },
 "nbformat": 4,
 "nbformat_minor": 5
}

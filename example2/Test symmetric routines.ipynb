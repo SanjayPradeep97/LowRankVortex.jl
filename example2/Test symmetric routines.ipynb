{
 "cells": [
  {
   "cell_type": "code",
   "execution_count": 1,
   "metadata": {},
   "outputs": [
    {
     "name": "stderr",
     "output_type": "stream",
     "text": [
      "\u001b[32m\u001b[1m  Activating\u001b[22m\u001b[39m environment at `/media/mat/HDD/LowRankVortex.jl/Project.toml`\n"
     ]
    }
   ],
   "source": [
    "using Pkg\n",
    "Pkg.activate(\"/media/mat/HDD/LowRankVortex.jl/\")"
   ]
  },
  {
   "cell_type": "code",
   "execution_count": 2,
   "metadata": {},
   "outputs": [],
   "source": [
    "using Revise\n",
    "using LowRankVortex\n",
    "using LinearAlgebra\n",
    "using Statistics\n",
    "using PotentialFlow\n",
    "import PotentialFlow.Plates: Plate, Points, Blobs\n",
    "import PotentialFlow.Motions: reset_velocity!\n",
    "import PotentialFlow.Elements\n",
    "import PotentialFlow.Properties: @property\n",
    "using Interpolations\n",
    "using Distributions\n",
    "using Test"
   ]
  },
  {
   "cell_type": "code",
   "execution_count": 7,
   "metadata": {},
   "outputs": [
    {
     "name": "stdout",
     "output_type": "stream",
     "text": [
      "\u001b[91m\u001b[1mTest Failed\u001b[22m\u001b[39m at \u001b[39m\u001b[1mIn[7]:38\u001b[22m\n",
      "  Expression: isapprox(dpdz, dpdzsym, atol = atol)\n",
      "   Evaluated: isapprox(ComplexF64[0.010116669015784882 - 0.001624575611869388im 0.03592779764518648 - 0.05135363091744791im … -0.028157837853816897 - 0.01817309913285102im 0.004913511767017745 + 0.007512147557164304im; 0.016663542847656365 + 0.00010994340467217092im 0.06140510756333271 - 0.08837236784278667im … -0.04954893792532211 - 0.03214801382260435im 0.006771889996225514 + 0.010515034942172511im; … ; 0.0002836906772077744 - 0.0003815797417723631im 0.0018508955682711005 - 0.0023832060738016346im … -0.0012758115345755817 - 0.0008588043106442114im 0.0006427867616858862 + 0.0003993426018343213im; 0.00026097196281252126 - 0.00034578753175291065im 0.0016682016512970569 - 0.0021515145563959217im … -0.0011513152571690272 - 0.0007742701284639813im 0.0005751113160865112 + 0.00036567984317612635im], ComplexF64[-0.001574259947994273 - 0.014688738406241922im 0.03457318872655599 - 0.0723856518836482im … -0.028609043870593993 - 0.012443478743228395im -0.001973759108519624 + 0.02154409223366164im; -0.004245927750450431 - 0.016185171146761497im 0.05825257834257477 - 0.1252596358274125im … -0.050603928955387435 - 0.022074378283907514im -0.005669802405833181 + 0.030328461401146332im; … ; 0.0005177683165697716 - 0.0015982654572012465im 0.0018643670376622676 - 0.003357439318026336im … -0.001271410109143097 - 0.0005965801151707125im 0.0008268179771547743 + 0.0017618659067184432im; 0.00046106081338656677 - 0.00144331443880163im 0.0016797455947027212 - 0.003030454381876961im … -0.0011475429037341202 - 0.0005376652141586431im 0.0007315055812587033 + 0.0015890801785335552im]; atol = 2.220446049250313e-13)\n"
     ]
    },
    {
     "ename": "LoadError",
     "evalue": "\u001b[91mThere was an error during testing\u001b[39m",
     "output_type": "error",
     "traceback": [
      "\u001b[91mThere was an error during testing\u001b[39m",
      "",
      "Stacktrace:",
      " [1] record(ts::Test.FallbackTestSet, t::Union{Test.Error, Test.Fail})",
      "   @ Test /buildworker/worker/package_linux64/build/usr/share/julia/stdlib/v1.6/Test/src/Test.jl:772",
      " [2] do_test(result::Test.ExecutionResult, orig_expr::Any)",
      "   @ Test /buildworker/worker/package_linux64/build/usr/share/julia/stdlib/v1.6/Test/src/Test.jl:555",
      " [3] top-level scope",
      "   @ In[7]:38",
      " [4] eval",
      "   @ ./boot.jl:360 [inlined]",
      " [5] include_string(mapexpr::typeof(REPL.softscope), mod::Module, code::String, filename::String)",
      "   @ Base ./loading.jl:1116"
     ]
    }
   ],
   "source": [
    "# @testset \"Test symmetric_analytical_jacobian_position for point vortices with real freestream\" begin\n",
    "\n",
    "    atol = 1000*eps()\n",
    "\n",
    "    Nv = 10\n",
    "    Nx = 3*Nv\n",
    "\n",
    "    x = rand(Nx)\n",
    "    x0 = deepcopy(x)\n",
    "\n",
    "    xsensors = collect(-2.0:0.5:10)\n",
    "    sensors = complex(xsensors)\n",
    "    Ny = length(sensors)\n",
    "#     U = 0.0 + 0.0*im\n",
    "    U = randn() + 0.0*im\n",
    "\n",
    "    #     U = randn(ComplexF64)\n",
    "    freestream = Freestream(U);\n",
    "\n",
    "    config = let Nv = Nv,\n",
    "             U = U,\n",
    "             ss = sensors, Δt = 1e-3, δ = 5e-2,\n",
    "             ϵX = 1e-3, ϵΓ = 1e-4,\n",
    "             β = 1.0,\n",
    "             ϵY = 1e-16\n",
    "            VortexConfig(Nv, U, ss, Δt, δ, ϵX, ϵΓ, β, ϵY)\n",
    "    end\n",
    "\n",
    "    sys = state_to_lagrange(x, config; isblob = false)\n",
    "    @test typeof(sys[1][1])<:Vortex.Point{Float64, Float64}\n",
    "\n",
    "    sys = vcat(sys...)\n",
    "\n",
    "    dpdz, dpdzstar = analytical_jacobian_position(sensors, sys, freestream, 0.0)\n",
    "\n",
    "    dpdzsym, dpdzstarsym = symmetric_analytical_jacobian_position(xsensors, sys, freestream, 0.0)\n",
    "\n",
    "    @test isapprox(dpdz, dpdzsym, atol = atol)\n",
    "    @test isapprox(dpdzstar, dpdzstarsym, atol = atol)\n",
    "# end"
   ]
  },
  {
   "cell_type": "code",
   "execution_count": null,
   "metadata": {},
   "outputs": [],
   "source": []
  }
 ],
 "metadata": {
  "kernelspec": {
   "display_name": "Julia 1.6.2",
   "language": "julia",
   "name": "julia-1.6"
  },
  "language_info": {
   "file_extension": ".jl",
   "mimetype": "application/julia",
   "name": "julia",
   "version": "1.6.2"
  }
 },
 "nbformat": 4,
 "nbformat_minor": 4
}

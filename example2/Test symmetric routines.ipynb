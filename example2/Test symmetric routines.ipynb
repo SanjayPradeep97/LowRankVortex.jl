{
 "cells": [
  {
   "cell_type": "code",
   "execution_count": 1,
   "metadata": {},
   "outputs": [
    {
     "name": "stderr",
     "output_type": "stream",
     "text": [
      "\u001b[32m\u001b[1m  Activating\u001b[22m\u001b[39m environment at `/media/mat/HDD/LowRankVortex.jl/Project.toml`\n"
     ]
    }
   ],
   "source": [
    "using Pkg\n",
    "Pkg.activate(\"/media/mat/HDD/LowRankVortex.jl/\")"
   ]
  },
  {
   "cell_type": "code",
   "execution_count": 5,
   "metadata": {},
   "outputs": [],
   "source": [
    "using Revise\n",
    "using LowRankVortex\n",
    "using LinearAlgebra\n",
    "using Statistics\n",
    "using PotentialFlow\n",
    "import PotentialFlow.Plates: Plate, Points, Blobs\n",
    "import PotentialFlow.Motions: reset_velocity!\n",
    "import PotentialFlow.Elements\n",
    "import PotentialFlow.Properties: @property\n",
    "using Interpolations\n",
    "using Distributions\n",
    "using Test"
   ]
  },
  {
   "cell_type": "code",
   "execution_count": 9,
   "metadata": {},
   "outputs": [
    {
     "name": "stdout",
     "output_type": "stream",
     "text": [
      "\u001b[37m\u001b[1mTest Summary:                        | \u001b[22m\u001b[39m\u001b[32m\u001b[1mPass  \u001b[22m\u001b[39m\u001b[36m\u001b[1mTotal\u001b[22m\u001b[39m\n",
      "Validate vortex and symmetric_vortex | \u001b[32m   8  \u001b[39m\u001b[36m    8\u001b[39m\n"
     ]
    },
    {
     "data": {
      "text/plain": [
       "Test.DefaultTestSet(\"Validate vortex and symmetric_vortex\", Any[], 8, false, false)"
      ]
     },
     "execution_count": 9,
     "metadata": {},
     "output_type": "execute_result"
    }
   ],
   "source": [
    "@testset \"Validate vortex and symmetric_vortex\" begin\n",
    "    atol = 1000*eps()\n",
    "\n",
    "    Nv = 20\n",
    "    Nx = 3*Nv\n",
    "    Ne = 5\n",
    "\n",
    "    sensors = -11.0:0.5:10.0\n",
    "    U = complex(0.0)\n",
    "\n",
    "    config = let Nv = Nv,\n",
    "                 U = U,\n",
    "                 ss = sensors, Δt = 5e-3, δ = 1e-1,\n",
    "                 ϵX = 1e-3, ϵΓ = 1e-3,\n",
    "                 β = 1.0,\n",
    "                 ϵY = 1e-2\n",
    "        VortexConfig(Nv, U, ss, Δt, δ, ϵX, ϵΓ, β, ϵY)\n",
    "    end\n",
    "    # Test vortex routine\n",
    "    x = rand(Nx)\n",
    "    X = repeat(x, 1, Ne)\n",
    "    X0 = deepcopy(X)\n",
    "    t0 = 1.8\n",
    "    sys = state_to_lagrange(x, config)\n",
    "    sys0 = deepcopy(sys)\n",
    "    sys₊ = deepcopy(sys)\n",
    "    vels = self_induce_velocity(sys, t0)\n",
    "\n",
    "    advect!(sys₊, sys0, vels, config.Δt)\n",
    "\n",
    "    cachevels = allocate_velocity(state_to_lagrange(zeros(Nx), config))\n",
    "    X1, t1 = vortex(deepcopy(X0), t0, 0, Nx, cachevels, config)\n",
    "\n",
    "    for i=1:Ne\n",
    "        @test isapprox(X1[:,i], lagrange_to_state(sys₊, config), atol = atol)\n",
    "    end\n",
    "\n",
    "    # Test that the symmetry is correclty enforced\n",
    "    X = rand(Nx, Ne)\n",
    "    X0 = deepcopy(X)\n",
    "    t0 = 1.5\n",
    "\n",
    "    cachevels = allocate_velocity(state_to_lagrange(zeros(Nx), config))\n",
    "\n",
    "    X1, t1 = vortex(deepcopy(X0), t0, 0, Nx, cachevels, config)\n",
    "\n",
    "    X2, t2 = symmetric_vortex(deepcopy(X0), t0, 0, Nx, cachevels, config)\n",
    "\n",
    "    @test isapprox(X1, X2, atol = atol)\n",
    "    @test isapprox(t1, t0 + config.Δt, atol = atol)\n",
    "    @test isapprox(t2, t0 + config.Δt, atol = atol)\n",
    "end"
   ]
  },
  {
   "cell_type": "code",
   "execution_count": 14,
   "metadata": {},
   "outputs": [
    {
     "name": "stdout",
     "output_type": "stream",
     "text": [
      "\u001b[37m\u001b[1mTest Summary:                                        | \u001b[22m\u001b[39m\u001b[32m\u001b[1mPass  \u001b[22m\u001b[39m\u001b[36m\u001b[1mTotal\u001b[22m\u001b[39m\n",
      "Validate vortex and symmetric_vortex with freestream | \u001b[32m   8  \u001b[39m\u001b[36m    8\u001b[39m\n"
     ]
    },
    {
     "data": {
      "text/plain": [
       "Test.DefaultTestSet(\"Validate vortex and symmetric_vortex with freestream\", Any[], 8, false, false)"
      ]
     },
     "execution_count": 14,
     "metadata": {},
     "output_type": "execute_result"
    }
   ],
   "source": [
    "@testset \"Validate vortex and symmetric_vortex with freestream\" begin\n",
    "    atol = 1000*eps()\n",
    "\n",
    "    Nv = 20\n",
    "    Nx = 3*Nv\n",
    "    Ne = 5\n",
    "\n",
    "    sensors = -11.0:0.5:10.0\n",
    "    U = rand(ComplexF64)\n",
    "    freestream = Freestream(U)\n",
    "\n",
    "    config = let Nv = Nv,\n",
    "                 U = U,\n",
    "                 ss = sensors, Δt = 5e-3, δ = 1e-1,\n",
    "                 ϵX = 1e-3, ϵΓ = 1e-3,\n",
    "                 β = 1.0,\n",
    "                 ϵY = 1e-2\n",
    "        VortexConfig(Nv, U, ss, Δt, δ, ϵX, ϵΓ, β, ϵY)\n",
    "    end\n",
    "    # Test vortex routine\n",
    "    x = rand(Nx)\n",
    "    X = repeat(x, 1, Ne)\n",
    "    X0 = deepcopy(X)\n",
    "    t0 = 1.8\n",
    "    sys = state_to_lagrange(x, config)\n",
    "    sys0 = deepcopy(sys)\n",
    "    sys₊ = deepcopy(sys)\n",
    "    vels = self_induce_velocity(sys, t0)\n",
    "    induce_velocity!(vels, sys, freestream, t0)\n",
    "\n",
    "    advect!(sys₊, sys0, vels, config.Δt)\n",
    "\n",
    "    cachevels = allocate_velocity(state_to_lagrange(zeros(Nx), config))\n",
    "    X1, t1 = vortex(deepcopy(X0), t0, 0, Nx, cachevels, config, withfreestream = true)\n",
    "    X2, t1 = vortex(deepcopy(X0), t0, 0, Nx, cachevels, config, withfreestream = false)\n",
    "\n",
    "#     X2[1:3:end,:]\n",
    "    \n",
    "\n",
    "    for i=1:Ne\n",
    "        @test isapprox(X1[:,i], lagrange_to_state(sys₊, config), atol = atol)\n",
    "        \n",
    "    end\n",
    "\n",
    "    # Test that the symmetry is correclty enforced\n",
    "    X = rand(Nx, Ne)\n",
    "    X0 = deepcopy(X)\n",
    "    t0 = 1.5\n",
    "\n",
    "    cachevels = allocate_velocity(state_to_lagrange(zeros(Nx), config))\n",
    "\n",
    "    X1, t1 = vortex(deepcopy(X0), t0, 0, Nx, cachevels, config; withfreestream = true)\n",
    "\n",
    "    X2, t2 = symmetric_vortex(deepcopy(X0), t0, 0, Nx, cachevels, config; withfreestream = true)\n",
    "\n",
    "    @test isapprox(X1, X2, atol = atol)\n",
    "    @test isapprox(t1, t0 + config.Δt, atol = atol)\n",
    "    @test isapprox(t2, t0 + config.Δt, atol = atol)\n",
    "end"
   ]
  },
  {
   "cell_type": "code",
   "execution_count": null,
   "metadata": {},
   "outputs": [],
   "source": []
  }
 ],
 "metadata": {
  "kernelspec": {
   "display_name": "Julia 1.6.2",
   "language": "julia",
   "name": "julia-1.6"
  },
  "language_info": {
   "file_extension": ".jl",
   "mimetype": "application/julia",
   "name": "julia",
   "version": "1.6.2"
  }
 },
 "nbformat": 4,
 "nbformat_minor": 4
}

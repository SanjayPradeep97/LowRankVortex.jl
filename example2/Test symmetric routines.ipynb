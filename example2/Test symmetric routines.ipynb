{
 "cells": [
  {
   "cell_type": "code",
   "execution_count": 1,
   "metadata": {},
   "outputs": [
    {
     "name": "stderr",
     "output_type": "stream",
     "text": [
      "\u001b[32m\u001b[1m  Activating\u001b[22m\u001b[39m environment at `/media/mat/HDD/LowRankVortex.jl/Project.toml`\n"
     ]
    }
   ],
   "source": [
    "using Pkg\n",
    "Pkg.activate(\"/media/mat/HDD/LowRankVortex.jl/\")"
   ]
  },
  {
   "cell_type": "code",
   "execution_count": 2,
   "metadata": {},
   "outputs": [],
   "source": [
    "using Revise\n",
    "using LowRankVortex\n",
    "using LinearAlgebra\n",
    "using Statistics\n",
    "using PotentialFlow\n",
    "import PotentialFlow.Plates: Plate, Points, Blobs\n",
    "import PotentialFlow.Motions: reset_velocity!\n",
    "import PotentialFlow.Elements\n",
    "import PotentialFlow.Properties: @property\n",
    "using Interpolations\n",
    "using Distributions\n",
    "using Test"
   ]
  },
  {
   "cell_type": "code",
   "execution_count": 45,
   "metadata": {},
   "outputs": [
    {
     "name": "stdout",
     "output_type": "stream",
     "text": [
      "\u001b[37mTest routine symmetric_analytical_jacobian_pressure with real freestream: \u001b[39m\u001b[91m\u001b[1mTest Failed\u001b[22m\u001b[39m at \u001b[39m\u001b[1mIn[45]:34\u001b[22m\n",
      "  Expression: isapprox(Jfull, Jsymfull, atol = atol)\n",
      "   Evaluated: isapprox([-0.020228454352891324 -0.007320144512090477 … 0.00197139710740587 -0.021288790515288057; -0.030199460823862632 -0.011570524383773564 … 0.002298185870687682 -0.03067035848623708; … ; -0.0006218481276477345 -0.0011333723538668984 … 0.0005197590991284208 -0.0020249091567650676; -0.0005774987663901541 -0.001003887054412158 … 0.0004613650913501403 -0.001816220007420058], [-0.020219586149881976 -0.007325876005703322 … 0.0019733589609384414 -0.021283681609322282; -0.03017740419558086 -0.011580152228055692 … 0.002302182026930913 -0.03065914735681174; … ; -0.0006218776119599744 -0.001133453650782906 … 0.0005197801094441001 -0.0020248609348558974; -0.0005775211921539401 -0.0010039525637101916 … 0.00046138196778051487 -0.001816181324952718]; atol = 2.220446049250313e-13)\n",
      "Stacktrace:\n",
      " [1] \u001b[0m\u001b[1mmacro expansion\u001b[22m\n",
      "\u001b[90m   @ \u001b[39m\u001b[90;4mIn[45]:34\u001b[0m\u001b[90m [inlined]\u001b[39m\n",
      " [2] \u001b[0m\u001b[1mmacro expansion\u001b[22m\n",
      "\u001b[90m   @ \u001b[39m\u001b[90m/buildworker/worker/package_linux64/build/usr/share/julia/stdlib/v1.6/Test/src/\u001b[39m\u001b[90;4mTest.jl:1151\u001b[0m\u001b[90m [inlined]\u001b[39m\n",
      " [3] top-level scope\n",
      "\u001b[90m   @ \u001b[39m\u001b[90;4mIn[45]:2\u001b[0m\n",
      "\u001b[37mTest routine symmetric_analytical_jacobian_pressure with real freestream: \u001b[39m\u001b[91m\u001b[1mTest Failed\u001b[22m\u001b[39m at \u001b[39m\u001b[1mIn[45]:42\u001b[22m\n",
      "  Expression: isapprox(Jsym[:, 1:3Nv], Jfull[:, 1:3Nv], atol = atol)\n",
      "   Evaluated: isapprox([-0.020219586149881976 -0.007325876005703322 … -0.0019733589609384453 0.021283681609322275; -0.03017740419558086 -0.011580152228055692 … -0.0023021820269309105 0.03065914735681172; … ; -0.0006218776119599744 -0.001133453650782906 … -0.0005197801094440988 0.0020248609348559017; -0.0005775211921539401 -0.0010039525637101916 … -0.00046138196778051346 0.0018161813249527208], [-0.020228454352891324 -0.007320144512090477 … -0.0019713971074058747 0.02128879051528806; -0.030199460823862632 -0.011570524383773564 … -0.002298185870687695 0.030670358486237063; … ; -0.0006218481276477345 -0.0011333723538668984 … -0.0005197590991284222 0.0020249091567650698; -0.0005774987663901541 -0.001003887054412158 … -0.00046136509135014125 0.0018162200074200582]; atol = 2.220446049250313e-13)\n",
      "Stacktrace:\n",
      " [1] \u001b[0m\u001b[1mmacro expansion\u001b[22m\n",
      "\u001b[90m   @ \u001b[39m\u001b[90;4mIn[45]:42\u001b[0m\u001b[90m [inlined]\u001b[39m\n",
      " [2] \u001b[0m\u001b[1mmacro expansion\u001b[22m\n",
      "\u001b[90m   @ \u001b[39m\u001b[90m/buildworker/worker/package_linux64/build/usr/share/julia/stdlib/v1.6/Test/src/\u001b[39m\u001b[90;4mTest.jl:1151\u001b[0m\u001b[90m [inlined]\u001b[39m\n",
      " [3] top-level scope\n",
      "\u001b[90m   @ \u001b[39m\u001b[90;4mIn[45]:2\u001b[0m\n",
      "\u001b[37m\u001b[1mTest Summary:                                                            | \u001b[22m\u001b[39m\u001b[32m\u001b[1mPass  \u001b[22m\u001b[39m\u001b[91m\u001b[1mFail  \u001b[22m\u001b[39m\u001b[36m\u001b[1mTotal\u001b[22m\u001b[39m\n",
      "Test routine symmetric_analytical_jacobian_pressure with real freestream | \u001b[32m   4  \u001b[39m\u001b[91m   2  \u001b[39m\u001b[36m    6\u001b[39m\n"
     ]
    },
    {
     "ename": "LoadError",
     "evalue": "\u001b[91mSome tests did not pass: 4 passed, 2 failed, 0 errored, 0 broken.\u001b[39m",
     "output_type": "error",
     "traceback": [
      "\u001b[91mSome tests did not pass: 4 passed, 2 failed, 0 errored, 0 broken.\u001b[39m",
      "",
      "Stacktrace:",
      " [1] finish(ts::Test.DefaultTestSet)",
      "   @ Test /buildworker/worker/package_linux64/build/usr/share/julia/stdlib/v1.6/Test/src/Test.jl:913",
      " [2] macro expansion",
      "   @ /buildworker/worker/package_linux64/build/usr/share/julia/stdlib/v1.6/Test/src/Test.jl:1161 [inlined]",
      " [3] top-level scope",
      "   @ In[45]:2",
      " [4] eval",
      "   @ ./boot.jl:360 [inlined]",
      " [5] include_string(mapexpr::typeof(REPL.softscope), mod::Module, code::String, filename::String)",
      "   @ Base ./loading.jl:1116"
     ]
    }
   ],
   "source": [
    "@testset \"Test routine symmetric_analytical_jacobian_pressure with real freestream\" begin\n",
    "    atol = 1000*eps()\n",
    "\n",
    "    Nv = 10\n",
    "    Nx = 3*Nv\n",
    "\n",
    "    x = rand(Nx)\n",
    "    x0 = deepcopy(x)\n",
    "\n",
    "    xsensors = collect(-2.0:0.5:10)\n",
    "    sensors = complex(xsensors)\n",
    "    Ny = length(sensors)\n",
    "\n",
    "    U = randn() + 0.0*im\n",
    "    freestream = Freestream(U);\n",
    "\n",
    "    config = let Nv = Nv,\n",
    "             U = U,\n",
    "             ss = sensors, Δt = 1e-3, δ = 5e-2,\n",
    "             ϵX = 1e-3, ϵΓ = 1e-4,\n",
    "             β = 1.0,\n",
    "             ϵY = 1e-16\n",
    "            VortexConfig(Nv, U, ss, Δt, δ, ϵX, ϵΓ, β, ϵY)\n",
    "    end\n",
    "\n",
    "    sys = state_to_lagrange(x, config; isblob = true)\n",
    "    @test typeof(sys[1][1])<:Vortex.Blob{Float64, Float64}\n",
    "\n",
    "    sys = vcat(sys...)\n",
    "\n",
    "    Jfull = analytical_jacobian_pressure(sensors, sys, freestream, 0.0)\n",
    "    Jsymfull = symmetric_analytical_jacobian_pressure(xsensors, sys, freestream, 0.0)\n",
    "\n",
    "    @test isapprox(Jfull, Jsymfull, atol = atol)\n",
    "\n",
    "    # Test only on a subset of the vortices\n",
    "\n",
    "    J = analytical_jacobian_pressure(sensors, sys, freestream, 1:Nv, 0.0)\n",
    "    Jsym = symmetric_analytical_jacobian_pressure(xsensors, sys, freestream, 1:Nv, 0.0)\n",
    "\n",
    "    @test isapprox(J[:,1:3*Nv], Jfull[:,1:3*Nv], atol = atol)\n",
    "    @test isapprox(Jsym[:,1:3*Nv], Jfull[:,1:3*Nv], atol = atol)\n",
    "\n",
    "    @test norm(J[:,3*Nv+1:end]) < atol\n",
    "    @test norm(Jsym[:,3*Nv+1:end]) < atol\n",
    "end"
   ]
  },
  {
   "cell_type": "code",
   "execution_count": null,
   "metadata": {},
   "outputs": [],
   "source": []
  }
 ],
 "metadata": {
  "kernelspec": {
   "display_name": "Julia 1.6.2",
   "language": "julia",
   "name": "julia-1.6"
  },
  "language_info": {
   "file_extension": ".jl",
   "mimetype": "application/julia",
   "name": "julia",
   "version": "1.6.2"
  }
 },
 "nbformat": 4,
 "nbformat_minor": 4
}

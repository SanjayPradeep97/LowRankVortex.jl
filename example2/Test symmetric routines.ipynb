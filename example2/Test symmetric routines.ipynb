{
 "cells": [
  {
   "cell_type": "code",
   "execution_count": 1,
   "metadata": {},
   "outputs": [
    {
     "name": "stderr",
     "output_type": "stream",
     "text": [
      "\u001b[32m\u001b[1m  Activating\u001b[22m\u001b[39m environment at `/media/mat/HDD/LowRankVortex.jl/Project.toml`\n"
     ]
    }
   ],
   "source": [
    "using Pkg\n",
    "Pkg.activate(\"/media/mat/HDD/LowRankVortex.jl/\")"
   ]
  },
  {
   "cell_type": "code",
   "execution_count": 5,
   "metadata": {},
   "outputs": [],
   "source": [
    "using Revise\n",
    "using LowRankVortex\n",
    "using LinearAlgebra\n",
    "using Statistics\n",
    "using PotentialFlow\n",
    "import PotentialFlow.Plates: Plate, Points, Blobs\n",
    "import PotentialFlow.Motions: reset_velocity!\n",
    "import PotentialFlow.Elements\n",
    "import PotentialFlow.Properties: @property\n",
    "using Interpolations\n",
    "using Distributions\n",
    "using Test"
   ]
  },
  {
   "cell_type": "code",
   "execution_count": 17,
   "metadata": {},
   "outputs": [
    {
     "name": "stdout",
     "output_type": "stream",
     "text": [
      "\u001b[37m\u001b[1mTest Summary:                                         | \u001b[22m\u001b[39m\u001b[32m\u001b[1mPass  \u001b[22m\u001b[39m\u001b[36m\u001b[1mTotal\u001b[22m\u001b[39m\n",
      "Test symmetric version of pressure for point vortices | \u001b[32m   1  \u001b[39m\u001b[36m    1\u001b[39m\n"
     ]
    },
    {
     "data": {
      "text/plain": [
       "Test.DefaultTestSet(\"Test symmetric version of pressure for point vortices\", Any[], 1, false, false)"
      ]
     },
     "execution_count": 17,
     "metadata": {},
     "output_type": "execute_result"
    }
   ],
   "source": [
    "@testset \"Test symmetric version of pressure for point vortices\" begin\n",
    "    atol = 1000*eps()\n",
    "    Nv = 10\n",
    "    zv = randn(Nv) + im *(0.05 .+ rand(Nv))\n",
    "    Sv = randn(Nv)\n",
    "\n",
    "    points₊ = Vortex.Point.(zv, Sv)\n",
    "    points₋ = Vortex.Point.(conj(zv), -Sv)\n",
    "\n",
    "    sys = deepcopy(vcat(points₊, points₋))\n",
    "\n",
    "    xsensors = collect(-2.0:0.1:2.0)\n",
    "    sensors = complex(xsensors)\n",
    "    Ny = size(xsensors, 1)\n",
    "\n",
    "    press_sym = symmetric_pressure(xsensors, points₊, 0.0)\n",
    "\n",
    "    press = pressure_AD(sensors, deepcopy(sys), 0.0)\n",
    "    @test isapprox(press_sym, press, atol = atol)\n",
    "end"
   ]
  },
  {
   "cell_type": "code",
   "execution_count": 32,
   "metadata": {},
   "outputs": [
    {
     "name": "stdout",
     "output_type": "stream",
     "text": [
      "\u001b[37mTest symmetric version of pressure for point vortices with freestream: \u001b[39m\u001b[91m\u001b[1mTest Failed\u001b[22m\u001b[39m at \u001b[39m\u001b[1mIn[32]:25\u001b[22m\n",
      "  Expression: isapprox(press_sym, press, atol = atol)\n",
      "   Evaluated: isapprox([1.1018251405197745, 1.1088858272214372, 1.1167090348145141, 1.1286698557698782, 1.1514498994517215, 1.1969167273132344, 1.2848607851308207, 1.4481244780852596, 1.7420324816666772, 2.2217929479408216  …  0.7853036195633603, 0.7379862749158392, 0.8146070648803005, 0.9136640580047379, 0.8086577208010017, 0.6908790694451976, 0.6139500613514056, 0.5682801512602718, 0.5431653115327715, 0.5311960687166943], [-0.6273506913126075, -0.620223873430695, -0.6151282857342583, -0.6134507926190377, -0.6170523116662443, -0.6291672971822817, -0.6578241218906056, -0.7268223219187955, -0.9072574117754494, -1.3651568907420386  …  -0.7820309871598049, -0.7817170005351439, -0.816073653933382, -0.7965019801255261, -0.7305852789151673, -0.701018772872191, -0.6915002290330816, -0.6899619731655476, -0.6917878563240271, -0.6949821885850286]; atol = 2.220446049250313e-13)\n",
      "Stacktrace:\n",
      " [1] \u001b[0m\u001b[1mmacro expansion\u001b[22m\n",
      "\u001b[90m   @ \u001b[39m\u001b[90;4mIn[32]:25\u001b[0m\u001b[90m [inlined]\u001b[39m\n",
      " [2] \u001b[0m\u001b[1mmacro expansion\u001b[22m\n",
      "\u001b[90m   @ \u001b[39m\u001b[90m/buildworker/worker/package_linux64/build/usr/share/julia/stdlib/v1.6/Test/src/\u001b[39m\u001b[90;4mTest.jl:1151\u001b[0m\u001b[90m [inlined]\u001b[39m\n",
      " [3] top-level scope\n",
      "\u001b[90m   @ \u001b[39m\u001b[90;4mIn[32]:2\u001b[0m\n",
      "\u001b[37m\u001b[1mTest Summary:                                                         | \u001b[22m\u001b[39m\u001b[91m\u001b[1mFail  \u001b[22m\u001b[39m\u001b[36m\u001b[1mTotal\u001b[22m\u001b[39m\n",
      "Test symmetric version of pressure for point vortices with freestream | \u001b[91m   1  \u001b[39m\u001b[36m    1\u001b[39m\n"
     ]
    },
    {
     "ename": "LoadError",
     "evalue": "\u001b[91mSome tests did not pass: 0 passed, 1 failed, 0 errored, 0 broken.\u001b[39m",
     "output_type": "error",
     "traceback": [
      "\u001b[91mSome tests did not pass: 0 passed, 1 failed, 0 errored, 0 broken.\u001b[39m",
      "",
      "Stacktrace:",
      " [1] finish(ts::Test.DefaultTestSet)",
      "   @ Test /buildworker/worker/package_linux64/build/usr/share/julia/stdlib/v1.6/Test/src/Test.jl:913",
      " [2] macro expansion",
      "   @ /buildworker/worker/package_linux64/build/usr/share/julia/stdlib/v1.6/Test/src/Test.jl:1161 [inlined]",
      " [3] top-level scope",
      "   @ In[32]:2",
      " [4] eval",
      "   @ ./boot.jl:360 [inlined]",
      " [5] include_string(mapexpr::typeof(REPL.softscope), mod::Module, code::String, filename::String)",
      "   @ Base ./loading.jl:1116"
     ]
    }
   ],
   "source": [
    "@testset \"Test symmetric version of pressure for point vortices with freestream\" begin\n",
    "    atol = 1000*eps()\n",
    "    \n",
    "    U = randn(ComplexF64)\n",
    "    freestream = Freestream(U)\n",
    "    Nv = 10\n",
    "    zv = randn(Nv) + im *(0.05 .+ rand(Nv))\n",
    "    Sv = randn(Nv)\n",
    "\n",
    "    points₊ = Vortex.Point.(zv, Sv)\n",
    "    points₋ = Vortex.Point.(conj(zv), -Sv)\n",
    "\n",
    "    sys = deepcopy(vcat(points₊, points₋))\n",
    "\n",
    "    xsensors = collect(-2.0:0.1:2.0)\n",
    "    sensors = complex(xsensors)\n",
    "    Ny = size(xsensors, 1)\n",
    "\n",
    "    press_sym = symmetric_pressure(xsensors, points₊, freestream, 0.0)\n",
    "\n",
    "    press_AD = pressure_AD(sensors, deepcopy(sys), freestream, 0.0)\n",
    "    press = pressure(sensors, deepcopy(sys), freestream, 0.0)\n",
    "\n",
    "#     @test isapprox(press_AD, press, atol = atol)\n",
    "    @test isapprox(press_sym, press, atol = atol)\n",
    "\n",
    "end"
   ]
  },
  {
   "cell_type": "code",
   "execution_count": 19,
   "metadata": {},
   "outputs": [
    {
     "name": "stdout",
     "output_type": "stream",
     "text": [
      "\u001b[37m\u001b[1mTest Summary:                                                     | \u001b[22m\u001b[39m\u001b[32m\u001b[1mPass  \u001b[22m\u001b[39m\u001b[36m\u001b[1mTotal\u001b[22m\u001b[39m\n",
      "Test symmetric version of pressure for regularized point vortices | \u001b[32m   1  \u001b[39m\u001b[36m    1\u001b[39m\n"
     ]
    },
    {
     "data": {
      "text/plain": [
       "Test.DefaultTestSet(\"Test symmetric version of pressure for regularized point vortices\", Any[], 1, false, false)"
      ]
     },
     "execution_count": 19,
     "metadata": {},
     "output_type": "execute_result"
    }
   ],
   "source": [
    "@testset \"Test symmetric version of pressure for regularized point vortices\" begin\n",
    "    atol = 1000*eps()\n",
    "    Nv = 10\n",
    "    zv = randn(Nv) + im *rand(Nv)\n",
    "    Sv = randn(Nv)\n",
    "    δ = 0.5\n",
    "\n",
    "    blobs₊ = Vortex.Blob.(zv, Sv, δ*ones(Nv))\n",
    "    blobs₋ = Vortex.Blob.(conj(zv), -Sv, δ*ones(Nv))\n",
    "\n",
    "    sys = deepcopy(vcat(blobs₊, blobs₋))\n",
    "\n",
    "\n",
    "    xsensors = collect(-2.0:0.1:2.0)\n",
    "    sensors = complex(xsensors)\n",
    "    Ny = size(xsensors, 1)\n",
    "\n",
    "    press_sym = symmetric_pressure(xsensors, blobs₊, 0.0)\n",
    "\n",
    "    press = pressure_AD(sensors, deepcopy(sys), 0.0)\n",
    "    @test isapprox(press_sym, press, atol = atol)\n",
    "end"
   ]
  },
  {
   "cell_type": "code",
   "execution_count": null,
   "metadata": {},
   "outputs": [],
   "source": []
  }
 ],
 "metadata": {
  "kernelspec": {
   "display_name": "Julia 1.6.2",
   "language": "julia",
   "name": "julia-1.6"
  },
  "language_info": {
   "file_extension": ".jl",
   "mimetype": "application/julia",
   "name": "julia",
   "version": "1.6.2"
  }
 },
 "nbformat": 4,
 "nbformat_minor": 4
}

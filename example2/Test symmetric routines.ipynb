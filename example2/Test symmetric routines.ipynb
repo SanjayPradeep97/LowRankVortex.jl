{
 "cells": [
  {
   "cell_type": "code",
   "execution_count": 1,
   "metadata": {},
   "outputs": [
    {
     "name": "stderr",
     "output_type": "stream",
     "text": [
      "\u001b[32m\u001b[1m  Activating\u001b[22m\u001b[39m environment at `/media/mat/HDD/LowRankVortex.jl/Project.toml`\n"
     ]
    }
   ],
   "source": [
    "using Pkg\n",
    "Pkg.activate(\"/media/mat/HDD/LowRankVortex.jl/\")"
   ]
  },
  {
   "cell_type": "code",
   "execution_count": 2,
   "metadata": {},
   "outputs": [],
   "source": [
    "using Revise\n",
    "using LowRankVortex\n",
    "using LinearAlgebra\n",
    "using Statistics\n",
    "using PotentialFlow\n",
    "import PotentialFlow.Plates: Plate, Points, Blobs\n",
    "import PotentialFlow.Motions: reset_velocity!\n",
    "import PotentialFlow.Elements\n",
    "import PotentialFlow.Properties: @property\n",
    "using Interpolations\n",
    "using Distributions\n",
    "using Test"
   ]
  },
  {
   "cell_type": "code",
   "execution_count": 16,
   "metadata": {},
   "outputs": [
    {
     "name": "stdout",
     "output_type": "stream",
     "text": [
      "\u001b[37mTest symmetric_analytical_jacobian_position for regularized vortices with real freestream: \u001b[39m\u001b[91m\u001b[1mTest Failed\u001b[22m\u001b[39m at \u001b[39m\u001b[1mIn[16]:38\u001b[22m\n",
      "  Expression: isapprox(dpdz, dpdzsym, atol = atol)\n",
      "   Evaluated: isapprox(ComplexF64[-0.010114227176445662 + 0.0036600722560452383im -0.0015707431261411898 - 0.00869320600460579im … -0.0019372313971974583 - 0.006135482094892429im -0.00389124899678262 - 0.000985698553702935im; -0.015099730411931316 + 0.005785262191886782im -0.0025116896439446026 - 0.012156332426192249im … -0.005672865462103006 - 0.01587907706507375im -0.006312135704207519 - 0.001149092935343841im; … ; -0.00031092406382386727 + 0.0005666861769334492im 1.779035834662709e-5 - 0.0010232008116829174im … 0.00044443632741536504 + 0.0003616578817307229im -6.02059202024176e-5 - 0.0002598795495642104im; -0.00028874938319507705 + 0.000501943527206079im 1.360038998829912e-5 - 0.0009151644840659223im … 0.0003959379532260728 + 0.0003218384326424797im -5.779897244337514e-5 - 0.00023068254567507014im], ComplexF64[-0.0032295127492394833 + 0.014550814657281204im -0.00040154575557505663 - 0.0034274654335769376im … 0.005208876059491636 - 0.020355879512849555im -0.002700904500217517 - 0.004126913156568367im; -0.003296102924263725 + 0.020283081461357363im -0.00044333367483995146 - 0.004527122444950382im … 0.009643561158893409 - 0.03787681589508829im -0.004183108388638925 - 0.0056472539505000455im; … ; -0.0005385088924465514 + 0.0018418518762567584im -2.415149077677966e-5 - 0.00044009023542026626im … 0.00036410689759971244 - 0.0004191012156692395im -9.678554069626316e-5 - 0.0005841307302463961im; -0.00048190459058766066 + 0.0016465851676124952im -2.185312912222327e-5 - 0.0003937402006680123im … 0.0003270799179800742 - 0.0003830013156084718im -8.880970744126332e-5 - 0.000521287567483773im]; atol = 2.220446049250313e-13)\n",
      "Stacktrace:\n",
      " [1] \u001b[0m\u001b[1mmacro expansion\u001b[22m\n",
      "\u001b[90m   @ \u001b[39m\u001b[90;4mIn[16]:38\u001b[0m\u001b[90m [inlined]\u001b[39m\n",
      " [2] \u001b[0m\u001b[1mmacro expansion\u001b[22m\n",
      "\u001b[90m   @ \u001b[39m\u001b[90m/buildworker/worker/package_linux64/build/usr/share/julia/stdlib/v1.6/Test/src/\u001b[39m\u001b[90;4mTest.jl:1151\u001b[0m\u001b[90m [inlined]\u001b[39m\n",
      " [3] top-level scope\n",
      "\u001b[90m   @ \u001b[39m\u001b[90;4mIn[16]:3\u001b[0m\n",
      "\u001b[37mTest symmetric_analytical_jacobian_position for regularized vortices with real freestream: \u001b[39m\u001b[91m\u001b[1mTest Failed\u001b[22m\u001b[39m at \u001b[39m\u001b[1mIn[16]:39\u001b[22m\n",
      "  Expression: isapprox(dpdzstar, dpdzstarsym, atol = atol)\n",
      "   Evaluated: isapprox(ComplexF64[-0.010114227176445662 - 0.0036600722560452383im -0.0015707431261411898 + 0.00869320600460579im … -0.0019372313971974583 + 0.006135482094892429im -0.00389124899678262 + 0.000985698553702935im; -0.015099730411931316 - 0.005785262191886782im -0.0025116896439446026 + 0.012156332426192249im … -0.005672865462103006 + 0.01587907706507375im -0.006312135704207519 + 0.001149092935343841im; … ; -0.00031092406382386727 - 0.0005666861769334492im 1.779035834662709e-5 + 0.0010232008116829174im … 0.00044443632741536504 - 0.0003616578817307229im -6.02059202024176e-5 + 0.0002598795495642104im; -0.00028874938319507705 - 0.000501943527206079im 1.360038998829912e-5 + 0.0009151644840659223im … 0.0003959379532260728 - 0.0003218384326424797im -5.779897244337514e-5 + 0.00023068254567507014im], ComplexF64[-0.0032295127492394833 - 0.014550814657281204im -0.00040154575557505663 + 0.0034274654335769376im … 0.005208876059491636 + 0.020355879512849555im -0.002700904500217517 + 0.004126913156568367im; -0.003296102924263725 - 0.020283081461357363im -0.00044333367483995146 + 0.004527122444950382im … 0.009643561158893409 + 0.03787681589508829im -0.004183108388638925 + 0.0056472539505000455im; … ; -0.0005385088924465514 - 0.0018418518762567584im -2.415149077677966e-5 + 0.00044009023542026626im … 0.00036410689759971244 + 0.0004191012156692395im -9.678554069626316e-5 + 0.0005841307302463961im; -0.00048190459058766066 - 0.0016465851676124952im -2.185312912222327e-5 + 0.0003937402006680123im … 0.0003270799179800742 + 0.0003830013156084718im -8.880970744126332e-5 + 0.000521287567483773im]; atol = 2.220446049250313e-13)\n",
      "Stacktrace:\n",
      " [1] \u001b[0m\u001b[1mmacro expansion\u001b[22m\n",
      "\u001b[90m   @ \u001b[39m\u001b[90;4mIn[16]:39\u001b[0m\u001b[90m [inlined]\u001b[39m\n",
      " [2] \u001b[0m\u001b[1mmacro expansion\u001b[22m\n",
      "\u001b[90m   @ \u001b[39m\u001b[90m/buildworker/worker/package_linux64/build/usr/share/julia/stdlib/v1.6/Test/src/\u001b[39m\u001b[90;4mTest.jl:1151\u001b[0m\u001b[90m [inlined]\u001b[39m\n",
      " [3] top-level scope\n",
      "\u001b[90m   @ \u001b[39m\u001b[90;4mIn[16]:3\u001b[0m\n",
      "\u001b[37m\u001b[1mTest Summary:                                                                             | \u001b[22m\u001b[39m\u001b[32m\u001b[1mPass  \u001b[22m\u001b[39m\u001b[91m\u001b[1mFail  \u001b[22m\u001b[39m\u001b[36m\u001b[1mTotal\u001b[22m\u001b[39m\n",
      "Test symmetric_analytical_jacobian_position for regularized vortices with real freestream | \u001b[32m   1  \u001b[39m\u001b[91m   2  \u001b[39m\u001b[36m    3\u001b[39m\n"
     ]
    },
    {
     "ename": "LoadError",
     "evalue": "\u001b[91mSome tests did not pass: 1 passed, 2 failed, 0 errored, 0 broken.\u001b[39m",
     "output_type": "error",
     "traceback": [
      "\u001b[91mSome tests did not pass: 1 passed, 2 failed, 0 errored, 0 broken.\u001b[39m",
      "",
      "Stacktrace:",
      " [1] finish(ts::Test.DefaultTestSet)",
      "   @ Test /buildworker/worker/package_linux64/build/usr/share/julia/stdlib/v1.6/Test/src/Test.jl:913",
      " [2] macro expansion",
      "   @ /buildworker/worker/package_linux64/build/usr/share/julia/stdlib/v1.6/Test/src/Test.jl:1161 [inlined]",
      " [3] top-level scope",
      "   @ In[16]:3",
      " [4] eval",
      "   @ ./boot.jl:360 [inlined]",
      " [5] include_string(mapexpr::typeof(REPL.softscope), mod::Module, code::String, filename::String)",
      "   @ Base ./loading.jl:1116"
     ]
    }
   ],
   "source": [
    "@testset \"Test symmetric_analytical_jacobian_position for regularized vortices with real freestream\" begin\n",
    "\n",
    "    atol = 1000*eps()\n",
    "\n",
    "    Nv = 10\n",
    "    Nx = 3*Nv\n",
    "\n",
    "    x = rand(Nx)\n",
    "    x0 = deepcopy(x)\n",
    "\n",
    "    xsensors = collect(-2.0:0.5:10)\n",
    "    sensors = complex(xsensors)\n",
    "    Ny = length(sensors)\n",
    "#     U = 0.0 + 0.0*im\n",
    "    U = randn() + 0.0*im\n",
    "\n",
    "    #     U = randn(ComplexF64)\n",
    "    freestream = Freestream(U);\n",
    "\n",
    "    config = let Nv = Nv,\n",
    "             U = U,\n",
    "             ss = sensors, Δt = 1e-3, δ = 5e-2,\n",
    "             ϵX = 1e-3, ϵΓ = 1e-4,\n",
    "             β = 1.0,\n",
    "             ϵY = 1e-16\n",
    "            VortexConfig(Nv, U, ss, Δt, δ, ϵX, ϵΓ, β, ϵY)\n",
    "    end\n",
    "\n",
    "    sys = state_to_lagrange(x, config; isblob = true)\n",
    "    @test typeof(sys[1][1])<:Vortex.Blob{Float64, Float64}\n",
    "\n",
    "    sys = vcat(sys...)\n",
    "\n",
    "    dpdz, dpdzstar = analytical_jacobian_position(sensors, sys, freestream, 0.0)\n",
    "\n",
    "    dpdzsym, dpdzstarsym = symmetric_analytical_jacobian_position(xsensors, sys, freestream, 0.0)\n",
    "\n",
    "    @test isapprox(dpdz, dpdzsym, atol = atol)\n",
    "    @test isapprox(dpdzstar, dpdzstarsym, atol = atol)\n",
    "end"
   ]
  },
  {
   "cell_type": "code",
   "execution_count": null,
   "metadata": {},
   "outputs": [],
   "source": []
  }
 ],
 "metadata": {
  "kernelspec": {
   "display_name": "Julia 1.6.2",
   "language": "julia",
   "name": "julia-1.6"
  },
  "language_info": {
   "file_extension": ".jl",
   "mimetype": "application/julia",
   "name": "julia",
   "version": "1.6.2"
  }
 },
 "nbformat": 4,
 "nbformat_minor": 4
}

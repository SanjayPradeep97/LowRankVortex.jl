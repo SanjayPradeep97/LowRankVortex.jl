{
 "cells": [
  {
   "cell_type": "code",
   "execution_count": 1,
   "metadata": {},
   "outputs": [
    {
     "name": "stderr",
     "output_type": "stream",
     "text": [
      "\u001b[32m\u001b[1m  Activating\u001b[22m\u001b[39m environment at `/media/mat/HDD/LowRankVortex.jl/Project.toml`\n"
     ]
    }
   ],
   "source": [
    "using Pkg\n",
    "Pkg.activate(\"/media/mat/HDD/LowRankVortex.jl/\")"
   ]
  },
  {
   "cell_type": "code",
   "execution_count": 2,
   "metadata": {},
   "outputs": [
    {
     "name": "stderr",
     "output_type": "stream",
     "text": [
      "┌ Info: Precompiling LowRankVortex [fdf095b8-6f21-420b-9d49-8e692abb03d1]\n",
      "└ @ Base loading.jl:1342\n",
      "WARNING: Method definition Type##kw(Any, Type{Base.MPFR.BigFloat}, Base.Irrational{:quartπ}) in module IrrationalConstants at irrationals.jl:180 overwritten in module StatsFuns on the same line (check for duplicate calls to `include`).\n",
      "  ** incremental compilation may be fatally broken for this module **\n",
      "\n",
      "WARNING: Method definition Type##kw(Any, Type{Base.MPFR.BigFloat}, Base.Irrational{:sqrt2}) in module IrrationalConstants at irrationals.jl:180 overwritten in module StatsFuns on the same line (check for duplicate calls to `include`).\n",
      "  ** incremental compilation may be fatally broken for this module **\n",
      "\n",
      "WARNING: Method definition Type##kw(Any, Type{Base.MPFR.BigFloat}, Base.Irrational{:loghalf}) in module IrrationalConstants at irrationals.jl:180 overwritten in module StatsFuns on the same line (check for duplicate calls to `include`).\n",
      "  ** incremental compilation may be fatally broken for this module **\n",
      "\n",
      "WARNING: Method definition Type##kw(Any, Type{Base.MPFR.BigFloat}, Base.Irrational{:invπ}) in module IrrationalConstants at irrationals.jl:180 overwritten in module StatsFuns on the same line (check for duplicate calls to `include`).\n",
      "  ** incremental compilation may be fatally broken for this module **\n",
      "\n",
      "WARNING: Method definition Type##kw(Any, Type{Base.MPFR.BigFloat}, Base.Irrational{:fourinvπ}) in module IrrationalConstants at irrationals.jl:180 overwritten in module StatsFuns on the same line (check for duplicate calls to `include`).\n",
      "  ** incremental compilation may be fatally broken for this module **\n",
      "\n",
      "WARNING: Method definition Type##kw(Any, Type{Base.MPFR.BigFloat}, Base.Irrational{:twoinvπ}) in module IrrationalConstants at irrationals.jl:180 overwritten in module StatsFuns on the same line (check for duplicate calls to `include`).\n",
      "  ** incremental compilation may be fatally broken for this module **\n",
      "\n",
      "WARNING: Method definition Type##kw(Any, Type{Base.MPFR.BigFloat}, Base.Irrational{:logπ}) in module IrrationalConstants at irrationals.jl:180 overwritten in module StatsFuns on the same line (check for duplicate calls to `include`).\n",
      "  ** incremental compilation may be fatally broken for this module **\n",
      "\n",
      "WARNING: Method definition Type##kw(Any, Type{Base.MPFR.BigFloat}, Base.Irrational{:sqrthalfπ}) in module IrrationalConstants at irrationals.jl:180 overwritten in module StatsFuns on the same line (check for duplicate calls to `include`).\n",
      "  ** incremental compilation may be fatally broken for this module **\n",
      "\n",
      "WARNING: Method definition Type##kw(Any, Type{Base.MPFR.BigFloat}, Base.Irrational{:inv4π}) in module IrrationalConstants at irrationals.jl:180 overwritten in module StatsFuns on the same line (check for duplicate calls to `include`).\n",
      "  ** incremental compilation may be fatally broken for this module **\n",
      "\n",
      "WARNING: Method definition Type##kw(Any, Type{Base.MPFR.BigFloat}, Base.Irrational{:inv2π}) in module IrrationalConstants at irrationals.jl:180 overwritten in module StatsFuns on the same line (check for duplicate calls to `include`).\n",
      "  ** incremental compilation may be fatally broken for this module **\n",
      "\n",
      "WARNING: Method definition Type##kw(Any, Type{Base.MPFR.BigFloat}, Base.Irrational{:log2π}) in module IrrationalConstants at irrationals.jl:180 overwritten in module StatsFuns on the same line (check for duplicate calls to `include`).\n",
      "  ** incremental compilation may be fatally broken for this module **\n",
      "\n",
      "WARNING: Method definition Type##kw(Any, Type{Base.MPFR.BigFloat}, Base.Irrational{:logtwo}) in module IrrationalConstants at irrationals.jl:173 overwritten in module StatsFuns at irrationals.jl:180.\n",
      "  ** incremental compilation may be fatally broken for this module **\n",
      "\n",
      "WARNING: Method definition Type##kw(Any, Type{Base.MPFR.BigFloat}, Base.Irrational{:log4π}) in module IrrationalConstants at irrationals.jl:180 overwritten in module StatsFuns on the same line (check for duplicate calls to `include`).\n",
      "  ** incremental compilation may be fatally broken for this module **\n",
      "\n",
      "WARNING: Method definition Type##kw(Any, Type{Base.MPFR.BigFloat}, Base.Irrational{:sqrt2π}) in module IrrationalConstants at irrationals.jl:180 overwritten in module StatsFuns on the same line (check for duplicate calls to `include`).\n",
      "  ** incremental compilation may be fatally broken for this module **\n",
      "\n",
      "WARNING: Method definition Type##kw(Any, Type{Base.MPFR.BigFloat}, Base.Irrational{:sqrt3}) in module IrrationalConstants at irrationals.jl:180 overwritten in module StatsFuns on the same line (check for duplicate calls to `include`).\n",
      "  ** incremental compilation may be fatally broken for this module **\n",
      "\n",
      "WARNING: Method definition Type##kw(Any, Type{Base.MPFR.BigFloat}, Base.Irrational{:sqrtπ}) in module IrrationalConstants at irrationals.jl:180 overwritten in module StatsFuns on the same line (check for duplicate calls to `include`).\n",
      "  ** incremental compilation may be fatally broken for this module **\n",
      "\n",
      "WARNING: Method definition Type##kw(Any, Type{Base.MPFR.BigFloat}, Base.Irrational{:sqrt4π}) in module IrrationalConstants at irrationals.jl:180 overwritten in module StatsFuns on the same line (check for duplicate calls to `include`).\n",
      "  ** incremental compilation may be fatally broken for this module **\n",
      "\n",
      "WARNING: Method definition Type##kw(Any, Type{Base.MPFR.BigFloat}, Base.Irrational{:invsqrt2π}) in module IrrationalConstants at irrationals.jl:180 overwritten in module StatsFuns on the same line (check for duplicate calls to `include`).\n",
      "  ** incremental compilation may be fatally broken for this module **\n",
      "\n",
      "WARNING: Method definition Type##kw(Any, Type{Base.MPFR.BigFloat}, Base.Irrational{:fourπ}) in module IrrationalConstants at irrationals.jl:180 overwritten in module StatsFuns on the same line (check for duplicate calls to `include`).\n",
      "  ** incremental compilation may be fatally broken for this module **\n",
      "\n",
      "WARNING: Method definition Type##kw(Any, Type{Base.MPFR.BigFloat}, Base.Irrational{:halfπ}) in module IrrationalConstants at irrationals.jl:180 overwritten in module StatsFuns on the same line (check for duplicate calls to `include`).\n",
      "  ** incremental compilation may be fatally broken for this module **\n",
      "\n",
      "WARNING: Method definition Type##kw(Any, Type{Base.MPFR.BigFloat}, Base.Irrational{:invsqrt2}) in module IrrationalConstants at irrationals.jl:180 overwritten in module StatsFuns on the same line (check for duplicate calls to `include`).\n",
      "  ** incremental compilation may be fatally broken for this module **\n",
      "\n",
      "WARNING: Method definition Type##kw(Any, Type{Base.MPFR.BigFloat}, Base.Irrational{:twoπ}) in module IrrationalConstants at irrationals.jl:180 overwritten in module StatsFuns on the same line (check for duplicate calls to `include`).\n",
      "  ** incremental compilation may be fatally broken for this module **\n",
      "\n",
      "WARNING: Method definition (::Type{Float64})(Base.Irrational{:quartπ}) in module IrrationalConstants at irrationals.jl:189 overwritten in module StatsFuns on the same line (check for duplicate calls to `include`).\n",
      "  ** incremental compilation may be fatally broken for this module **\n",
      "\n",
      "WARNING: Method definition (::Type{Float64})(Base.Irrational{:sqrt2}) in module IrrationalConstants at irrationals.jl:189 overwritten in module StatsFuns on the same line (check for duplicate calls to `include`).\n",
      "  ** incremental compilation may be fatally broken for this module **\n",
      "\n",
      "WARNING: Method definition (::Type{Float64})(Base.Irrational{:loghalf}) in module IrrationalConstants at irrationals.jl:189 overwritten in module StatsFuns on the same line (check for duplicate calls to `include`).\n",
      "  ** incremental compilation may be fatally broken for this module **\n",
      "\n",
      "WARNING: Method definition (::Type{Float64})(Base.Irrational{:invπ}) in module IrrationalConstants at irrationals.jl:189 overwritten in module StatsFuns on the same line (check for duplicate calls to `include`).\n",
      "  ** incremental compilation may be fatally broken for this module **\n",
      "\n",
      "WARNING: Method definition (::Type{Float64})(Base.Irrational{:fourinvπ}) in module IrrationalConstants at irrationals.jl:189 overwritten in module StatsFuns on the same line (check for duplicate calls to `include`).\n",
      "  ** incremental compilation may be fatally broken for this module **\n",
      "\n",
      "WARNING: Method definition (::Type{Float64})(Base.Irrational{:twoinvπ}) in module IrrationalConstants at irrationals.jl:189 overwritten in module StatsFuns on the same line (check for duplicate calls to `include`).\n",
      "  ** incremental compilation may be fatally broken for this module **\n",
      "\n",
      "WARNING: Method definition (::Type{Float64})(Base.Irrational{:sqrthalfπ}) in module IrrationalConstants at irrationals.jl:189 overwritten in module StatsFuns on the same line (check for duplicate calls to `include`).\n",
      "  ** incremental compilation may be fatally broken for this module **\n",
      "\n",
      "WARNING: Method definition (::Type{Float64})(Base.Irrational{:inv4π}) in module IrrationalConstants at irrationals.jl:189 overwritten in module StatsFuns on the same line (check for duplicate calls to `include`).\n",
      "  ** incremental compilation may be fatally broken for this module **\n",
      "\n",
      "WARNING: Method definition (::Type{Float64})(Base.Irrational{:inv2π}) in module IrrationalConstants at irrationals.jl:189 overwritten in module StatsFuns on the same line (check for duplicate calls to `include`).\n",
      "  ** incremental compilation may be fatally broken for this module **\n",
      "\n",
      "WARNING: Method definition (::Type{Float64})(Base.Irrational{:logπ}) in module IrrationalConstants at irrationals.jl:189 overwritten in module StatsFuns on the same line (check for duplicate calls to `include`).\n",
      "  ** incremental compilation may be fatally broken for this module **\n",
      "\n",
      "WARNING: Method definition (::Type{Float64})(Base.Irrational{:log2π}) in module IrrationalConstants at irrationals.jl:189 overwritten in module StatsFuns on the same line (check for duplicate calls to `include`).\n",
      "  ** incremental compilation may be fatally broken for this module **\n",
      "\n",
      "WARNING: Method definition (::Type{Float64})(Base.Irrational{:logtwo}) in module IrrationalConstants at irrationals.jl:189 overwritten in module StatsFuns on the same line (check for duplicate calls to `include`).\n",
      "  ** incremental compilation may be fatally broken for this module **\n",
      "\n"
     ]
    },
    {
     "name": "stderr",
     "output_type": "stream",
     "text": [
      "WARNING: Method definition (::Type{Float64})(Base.Irrational{:log4π}) in module IrrationalConstants at irrationals.jl:189 overwritten in module StatsFuns on the same line (check for duplicate calls to `include`).\n",
      "  ** incremental compilation may be fatally broken for this module **\n",
      "\n",
      "WARNING: Method definition (::Type{Float64})(Base.Irrational{:sqrt2π}) in module IrrationalConstants at irrationals.jl:189 overwritten in module StatsFuns on the same line (check for duplicate calls to `include`).\n",
      "  ** incremental compilation may be fatally broken for this module **\n",
      "\n",
      "WARNING: Method definition (::Type{Float64})(Base.Irrational{:sqrt3}) in module IrrationalConstants at irrationals.jl:189 overwritten in module StatsFuns on the same line (check for duplicate calls to `include`).\n",
      "  ** incremental compilation may be fatally broken for this module **\n",
      "\n",
      "WARNING: Method definition (::Type{Float64})(Base.Irrational{:sqrtπ}) in module IrrationalConstants at irrationals.jl:189 overwritten in module StatsFuns on the same line (check for duplicate calls to `include`).\n",
      "  ** incremental compilation may be fatally broken for this module **\n",
      "\n",
      "WARNING: Method definition (::Type{Float64})(Base.Irrational{:sqrt4π}) in module IrrationalConstants at irrationals.jl:189 overwritten in module StatsFuns on the same line (check for duplicate calls to `include`).\n",
      "  ** incremental compilation may be fatally broken for this module **\n",
      "\n",
      "WARNING: Method definition (::Type{Float64})(Base.Irrational{:fourπ}) in module IrrationalConstants at irrationals.jl:189 overwritten in module StatsFuns on the same line (check for duplicate calls to `include`).\n",
      "  ** incremental compilation may be fatally broken for this module **\n",
      "\n",
      "WARNING: Method definition (::Type{Float64})(Base.Irrational{:invsqrt2π}) in module IrrationalConstants at irrationals.jl:189 overwritten in module StatsFuns on the same line (check for duplicate calls to `include`).\n",
      "  ** incremental compilation may be fatally broken for this module **\n",
      "\n",
      "WARNING: Method definition (::Type{Float64})(Base.Irrational{:halfπ}) in module IrrationalConstants at irrationals.jl:189 overwritten in module StatsFuns on the same line (check for duplicate calls to `include`).\n",
      "  ** incremental compilation may be fatally broken for this module **\n",
      "\n",
      "WARNING: Method definition (::Type{Float64})(Base.Irrational{:invsqrt2}) in module IrrationalConstants at irrationals.jl:189 overwritten in module StatsFuns on the same line (check for duplicate calls to `include`).\n",
      "  ** incremental compilation may be fatally broken for this module **\n",
      "\n",
      "WARNING: Method definition (::Type{Float64})(Base.Irrational{:twoπ}) in module IrrationalConstants at irrationals.jl:189 overwritten in module StatsFuns on the same line (check for duplicate calls to `include`).\n",
      "  ** incremental compilation may be fatally broken for this module **\n",
      "\n",
      "WARNING: Method definition (::Type{Float32})(Base.Irrational{:quartπ}) in module IrrationalConstants at irrationals.jl:190 overwritten in module StatsFuns on the same line (check for duplicate calls to `include`).\n",
      "  ** incremental compilation may be fatally broken for this module **\n",
      "\n",
      "WARNING: Method definition (::Type{Float32})(Base.Irrational{:sqrt2}) in module IrrationalConstants at irrationals.jl:190 overwritten in module StatsFuns on the same line (check for duplicate calls to `include`).\n",
      "  ** incremental compilation may be fatally broken for this module **\n",
      "\n",
      "WARNING: Method definition (::Type{Float32})(Base.Irrational{:loghalf}) in module IrrationalConstants at irrationals.jl:190 overwritten in module StatsFuns on the same line (check for duplicate calls to `include`).\n",
      "  ** incremental compilation may be fatally broken for this module **\n",
      "\n",
      "WARNING: Method definition (::Type{Float32})(Base.Irrational{:invπ}) in module IrrationalConstants at irrationals.jl:190 overwritten in module StatsFuns on the same line (check for duplicate calls to `include`).\n",
      "  ** incremental compilation may be fatally broken for this module **\n",
      "\n",
      "WARNING: Method definition (::Type{Float32})(Base.Irrational{:fourinvπ}) in module IrrationalConstants at irrationals.jl:190 overwritten in module StatsFuns on the same line (check for duplicate calls to `include`).\n",
      "  ** incremental compilation may be fatally broken for this module **\n",
      "\n",
      "WARNING: Method definition (::Type{Float32})(Base.Irrational{:twoinvπ}) in module IrrationalConstants at irrationals.jl:190 overwritten in module StatsFuns on the same line (check for duplicate calls to `include`).\n",
      "  ** incremental compilation may be fatally broken for this module **\n",
      "\n",
      "WARNING: Method definition (::Type{Float32})(Base.Irrational{:sqrthalfπ}) in module IrrationalConstants at irrationals.jl:190 overwritten in module StatsFuns on the same line (check for duplicate calls to `include`).\n",
      "  ** incremental compilation may be fatally broken for this module **\n",
      "\n",
      "WARNING: Method definition (::Type{Float32})(Base.Irrational{:inv4π}) in module IrrationalConstants at irrationals.jl:190 overwritten in module StatsFuns on the same line (check for duplicate calls to `include`).\n",
      "  ** incremental compilation may be fatally broken for this module **\n",
      "\n",
      "WARNING: Method definition (::Type{Float32})(Base.Irrational{:inv2π}) in module IrrationalConstants at irrationals.jl:190 overwritten in module StatsFuns on the same line (check for duplicate calls to `include`).\n",
      "  ** incremental compilation may be fatally broken for this module **\n",
      "\n",
      "WARNING: Method definition (::Type{Float32})(Base.Irrational{:logπ}) in module IrrationalConstants at irrationals.jl:190 overwritten in module StatsFuns on the same line (check for duplicate calls to `include`).\n",
      "  ** incremental compilation may be fatally broken for this module **\n",
      "\n",
      "WARNING: Method definition (::Type{Float32})(Base.Irrational{:log2π}) in module IrrationalConstants at irrationals.jl:190 overwritten in module StatsFuns on the same line (check for duplicate calls to `include`).\n",
      "  ** incremental compilation may be fatally broken for this module **\n",
      "\n",
      "WARNING: Method definition (::Type{Float32})(Base.Irrational{:logtwo}) in module IrrationalConstants at irrationals.jl:190 overwritten in module StatsFuns on the same line (check for duplicate calls to `include`).\n",
      "  ** incremental compilation may be fatally broken for this module **\n",
      "\n",
      "WARNING: Method definition (::Type{Float32})(Base.Irrational{:log4π}) in module IrrationalConstants at irrationals.jl:190 overwritten in module StatsFuns on the same line (check for duplicate calls to `include`).\n",
      "  ** incremental compilation may be fatally broken for this module **\n",
      "\n",
      "WARNING: Method definition (::Type{Float32})(Base.Irrational{:sqrt2π}) in module IrrationalConstants at irrationals.jl:190 overwritten in module StatsFuns on the same line (check for duplicate calls to `include`).\n",
      "  ** incremental compilation may be fatally broken for this module **\n",
      "\n",
      "WARNING: Method definition (::Type{Float32})(Base.Irrational{:sqrt3}) in module IrrationalConstants at irrationals.jl:190 overwritten in module StatsFuns on the same line (check for duplicate calls to `include`).\n",
      "  ** incremental compilation may be fatally broken for this module **\n",
      "\n",
      "WARNING: Method definition (::Type{Float32})(Base.Irrational{:sqrtπ}) in module IrrationalConstants at irrationals.jl:190 overwritten in module StatsFuns on the same line (check for duplicate calls to `include`).\n",
      "  ** incremental compilation may be fatally broken for this module **\n",
      "\n",
      "WARNING: Method definition (::Type{Float32})(Base.Irrational{:sqrt4π}) in module IrrationalConstants at irrationals.jl:190 overwritten in module StatsFuns on the same line (check for duplicate calls to `include`).\n",
      "  ** incremental compilation may be fatally broken for this module **\n",
      "\n",
      "WARNING: Method definition (::Type{Float32})(Base.Irrational{:fourπ}) in module IrrationalConstants at irrationals.jl:190 overwritten in module StatsFuns on the same line (check for duplicate calls to `include`).\n",
      "  ** incremental compilation may be fatally broken for this module **\n",
      "\n",
      "WARNING: Method definition (::Type{Float32})(Base.Irrational{:invsqrt2π}) in module IrrationalConstants at irrationals.jl:190 overwritten in module StatsFuns on the same line (check for duplicate calls to `include`).\n",
      "  ** incremental compilation may be fatally broken for this module **\n",
      "\n",
      "WARNING: Method definition (::Type{Float32})(Base.Irrational{:halfπ}) in module IrrationalConstants at irrationals.jl:190 overwritten in module StatsFuns on the same line (check for duplicate calls to `include`).\n",
      "  ** incremental compilation may be fatally broken for this module **\n",
      "\n",
      "WARNING: Method definition (::Type{Float32})(Base.Irrational{:invsqrt2}) in module IrrationalConstants at irrationals.jl:190 overwritten in module StatsFuns on the same line (check for duplicate calls to `include`).\n",
      "  ** incremental compilation may be fatally broken for this module **\n",
      "\n",
      "WARNING: Method definition (::Type{Float32})(Base.Irrational{:twoπ}) in module IrrationalConstants at irrationals.jl:190 overwritten in module StatsFuns on the same line (check for duplicate calls to `include`).\n",
      "  ** incremental compilation may be fatally broken for this module **\n",
      "\n",
      "WARNING: Method definition (::Type{Base.MPFR.BigFloat})(Base.Irrational{:quartπ}) in module IrrationalConstants at irrationals.jl:180 overwritten in module StatsFuns on the same line (check for duplicate calls to `include`).\n",
      "  ** incremental compilation may be fatally broken for this module **\n",
      "\n",
      "WARNING: Method definition (::Type{Base.MPFR.BigFloat})(Base.Irrational{:sqrt2}) in module IrrationalConstants at irrationals.jl:180 overwritten in module StatsFuns on the same line (check for duplicate calls to `include`).\n",
      "  ** incremental compilation may be fatally broken for this module **\n",
      "\n",
      "WARNING: Method definition (::Type{Base.MPFR.BigFloat})(Base.Irrational{:loghalf}) in module IrrationalConstants at irrationals.jl:180 overwritten in module StatsFuns on the same line (check for duplicate calls to `include`).\n",
      "  ** incremental compilation may be fatally broken for this module **\n",
      "\n",
      "WARNING: Method definition (::Type{Base.MPFR.BigFloat})(Base.Irrational{:invπ}) in module IrrationalConstants at irrationals.jl:180 overwritten in module StatsFuns on the same line (check for duplicate calls to `include`).\n",
      "  ** incremental compilation may be fatally broken for this module **\n",
      "\n"
     ]
    },
    {
     "name": "stderr",
     "output_type": "stream",
     "text": [
      "WARNING: Method definition (::Type{Base.MPFR.BigFloat})(Base.Irrational{:fourinvπ}) in module IrrationalConstants at irrationals.jl:180 overwritten in module StatsFuns on the same line (check for duplicate calls to `include`).\n",
      "  ** incremental compilation may be fatally broken for this module **\n",
      "\n",
      "WARNING: Method definition (::Type{Base.MPFR.BigFloat})(Base.Irrational{:twoinvπ}) in module IrrationalConstants at irrationals.jl:180 overwritten in module StatsFuns on the same line (check for duplicate calls to `include`).\n",
      "  ** incremental compilation may be fatally broken for this module **\n",
      "\n",
      "WARNING: Method definition (::Type{Base.MPFR.BigFloat})(Base.Irrational{:logπ}) in module IrrationalConstants at irrationals.jl:180 overwritten in module StatsFuns on the same line (check for duplicate calls to `include`).\n",
      "  ** incremental compilation may be fatally broken for this module **\n",
      "\n",
      "WARNING: Method definition (::Type{Base.MPFR.BigFloat})(Base.Irrational{:sqrthalfπ}) in module IrrationalConstants at irrationals.jl:180 overwritten in module StatsFuns on the same line (check for duplicate calls to `include`).\n",
      "  ** incremental compilation may be fatally broken for this module **\n",
      "\n",
      "WARNING: Method definition (::Type{Base.MPFR.BigFloat})(Base.Irrational{:inv4π}) in module IrrationalConstants at irrationals.jl:180 overwritten in module StatsFuns on the same line (check for duplicate calls to `include`).\n",
      "  ** incremental compilation may be fatally broken for this module **\n",
      "\n",
      "WARNING: Method definition (::Type{Base.MPFR.BigFloat})(Base.Irrational{:inv2π}) in module IrrationalConstants at irrationals.jl:180 overwritten in module StatsFuns on the same line (check for duplicate calls to `include`).\n",
      "  ** incremental compilation may be fatally broken for this module **\n",
      "\n",
      "WARNING: Method definition (::Type{Base.MPFR.BigFloat})(Base.Irrational{:log2π}) in module IrrationalConstants at irrationals.jl:180 overwritten in module StatsFuns on the same line (check for duplicate calls to `include`).\n",
      "  ** incremental compilation may be fatally broken for this module **\n",
      "\n",
      "WARNING: Method definition (::Type{Base.MPFR.BigFloat})(Base.Irrational{:logtwo}) in module IrrationalConstants at irrationals.jl:173 overwritten in module StatsFuns at irrationals.jl:180.\n",
      "  ** incremental compilation may be fatally broken for this module **\n",
      "\n",
      "WARNING: Method definition (::Type{Base.MPFR.BigFloat})(Base.Irrational{:log4π}) in module IrrationalConstants at irrationals.jl:180 overwritten in module StatsFuns on the same line (check for duplicate calls to `include`).\n",
      "  ** incremental compilation may be fatally broken for this module **\n",
      "\n",
      "WARNING: Method definition (::Type{Base.MPFR.BigFloat})(Base.Irrational{:sqrt2π}) in module IrrationalConstants at irrationals.jl:180 overwritten in module StatsFuns on the same line (check for duplicate calls to `include`).\n",
      "  ** incremental compilation may be fatally broken for this module **\n",
      "\n",
      "WARNING: Method definition (::Type{Base.MPFR.BigFloat})(Base.Irrational{:sqrt3}) in module IrrationalConstants at irrationals.jl:180 overwritten in module StatsFuns on the same line (check for duplicate calls to `include`).\n",
      "  ** incremental compilation may be fatally broken for this module **\n",
      "\n",
      "WARNING: Method definition (::Type{Base.MPFR.BigFloat})(Base.Irrational{:sqrtπ}) in module IrrationalConstants at irrationals.jl:180 overwritten in module StatsFuns on the same line (check for duplicate calls to `include`).\n",
      "  ** incremental compilation may be fatally broken for this module **\n",
      "\n",
      "WARNING: Method definition (::Type{Base.MPFR.BigFloat})(Base.Irrational{:sqrt4π}) in module IrrationalConstants at irrationals.jl:180 overwritten in module StatsFuns on the same line (check for duplicate calls to `include`).\n",
      "  ** incremental compilation may be fatally broken for this module **\n",
      "\n",
      "WARNING: Method definition (::Type{Base.MPFR.BigFloat})(Base.Irrational{:invsqrt2π}) in module IrrationalConstants at irrationals.jl:180 overwritten in module StatsFuns on the same line (check for duplicate calls to `include`).\n",
      "  ** incremental compilation may be fatally broken for this module **\n",
      "\n",
      "WARNING: Method definition (::Type{Base.MPFR.BigFloat})(Base.Irrational{:fourπ}) in module IrrationalConstants at irrationals.jl:180 overwritten in module StatsFuns on the same line (check for duplicate calls to `include`).\n",
      "  ** incremental compilation may be fatally broken for this module **\n",
      "\n",
      "WARNING: Method definition (::Type{Base.MPFR.BigFloat})(Base.Irrational{:halfπ}) in module IrrationalConstants at irrationals.jl:180 overwritten in module StatsFuns on the same line (check for duplicate calls to `include`).\n",
      "  ** incremental compilation may be fatally broken for this module **\n",
      "\n",
      "WARNING: Method definition (::Type{Base.MPFR.BigFloat})(Base.Irrational{:invsqrt2}) in module IrrationalConstants at irrationals.jl:180 overwritten in module StatsFuns on the same line (check for duplicate calls to `include`).\n",
      "  ** incremental compilation may be fatally broken for this module **\n",
      "\n",
      "WARNING: Method definition (::Type{Base.MPFR.BigFloat})(Base.Irrational{:twoπ}) in module IrrationalConstants at irrationals.jl:180 overwritten in module StatsFuns on the same line (check for duplicate calls to `include`).\n",
      "  ** incremental compilation may be fatally broken for this module **\n",
      "\n"
     ]
    }
   ],
   "source": [
    "using Revise\n",
    "using LowRankVortex\n",
    "using TransportBasedInference\n",
    "using LinearAlgebra\n",
    "using Statistics\n",
    "using PotentialFlow\n",
    "import PotentialFlow.Plates: Plate, Points, Blobs\n",
    "import PotentialFlow.Motions: reset_velocity!\n",
    "import PotentialFlow.Elements\n",
    "import PotentialFlow.Properties: @property\n",
    "using JLD\n",
    "using BenchmarkTools\n",
    "using ProgressMeter\n",
    "using Interpolations\n",
    "using Distributions"
   ]
  },
  {
   "cell_type": "code",
   "execution_count": 3,
   "metadata": {},
   "outputs": [],
   "source": [
    "using Plots\n",
    "default(tickfont = font(\"CMU Serif\", 18), \n",
    "        titlefont = font(\"CMU Serif\", 18), \n",
    "        guidefont = font(\"CMU Serif\", 18),\n",
    "        legendfont = font(\"CMU Serif\", 18),\n",
    "        annotationfontsize = 18,\n",
    "        annotationfontfamily = \"CMU Serif\",\n",
    "        grid = false)\n",
    "# clibrary(:colorbrewer)\n",
    "pyplot()\n",
    "\n",
    "using LaTeXStrings\n",
    "PyPlot.rc(\"text\", usetex = \"true\")\n",
    "PyPlot.rc(\"font\", family = \"CMU Serif\")\n",
    "# gr()\n",
    "using ColorSchemes"
   ]
  },
  {
   "cell_type": "markdown",
   "metadata": {},
   "source": [
    "### Routines for the plots"
   ]
  },
  {
   "cell_type": "code",
   "execution_count": 4,
   "metadata": {},
   "outputs": [
    {
     "data": {
      "text/plain": [
       "routine_plotCx (generic function with 1 method)"
      ]
     },
     "execution_count": 4,
     "metadata": {},
     "output_type": "execute_result"
    }
   ],
   "source": [
    "function routine_plot(state, config::VortexConfig, X::StepRangeLen, Y::StepRangeLen; withvortices::Bool=true)\n",
    "    source = state_to_lagrange(state, config)\n",
    "    plt = streamlines(X, Y, source, colorbar = false, \n",
    "                      xlim = (-2.2, 15), \n",
    "                      ylim = (-2.0, 2.0); levels = 10)\n",
    "    if withvortices == true\n",
    "        plot!(plt, source, markersize = 12, markerstrokealpha = 0, \n",
    "            color = cgrad(reverse(colormap(\"RdBu\")[10:end-10])),\n",
    "              clim = (-0.8, 0.8), legend = false)#label = [\"Vortices\" \"Sources\"], legend = :outerleft)\n",
    "    end\n",
    "    hline!(plt, [0.0], legend = false, color = :black)\n",
    "    scatter!(plt, real.(sensors), imag.(sensors), color = :orangered2)#label = \"Sensors\", \n",
    "    plt\n",
    "end\n",
    "\n",
    "function routine_spectrum(Λ::Array{Float64,1})\n",
    "    Λ = sort(abs.(Λ); rev = true)\n",
    "\n",
    "    plt = plot(layout = grid(1,3), legend = false, margin = 5*Plots.px, size = (600, 300))\n",
    "\n",
    "    scatter!(plt[1,1], collect(1:length(Λ)), Λ, \n",
    "          yscale = :log10, xlabel = L\"i\", ylabel = L\"\\lambda_i\")\n",
    "    scatter!(plt[1,2], collect(1:length(Λ)), cumsum(Λ)./sum(Λ),\n",
    "           xlabel = L\"i\", ylabel = \"Normalized cumulative energy\")\n",
    "    scatter!(plt[1,3], Λ[1:end-1] - Λ[2:end], \n",
    "          yscale = :log10, xlabel = L\"i\", ylabel = L\"\\lambda_i - \\lambda_{i+1}\")\n",
    "    return plt\n",
    "end\n",
    "\n",
    "function routine_plotCx(state, Cx::Matrix{Float64}, rx::Int64, config::VortexConfig, X::StepRangeLen, Y::StepRangeLen; withvortices::Bool=true)\n",
    "    \n",
    "    U, S, _ = svd(Symmetric(Cx))\n",
    "    source = state_to_lagrange(state, config.zs, config)\n",
    "    \n",
    "    # Default julia colors\n",
    "    cur_colors = theme_palette(:auto)\n",
    "    \n",
    "    nlines = rx ÷ 3 + 1\n",
    "    if mod(rx, 3) == 0\n",
    "        nlines -= 1\n",
    "    end\n",
    "    \n",
    "    plt = plot(layout = grid(nlines, 3))\n",
    "    \n",
    "    for i = 1:rx\n",
    "        idxlines = (i÷3) + 1\n",
    "        idxcols  = i - 3*(i÷3) \n",
    "        if mod(i, 3) == 0\n",
    "            idxlines -= 1\n",
    "            idxcols = 3\n",
    "        end\n",
    "        \n",
    "        if withvortices == true\n",
    "            for j=1:config.Nv\n",
    "                # Put circles to show strength change\n",
    "                scatter!(plt[idxlines, idxcols], \n",
    "                      [state[(j-1)*3+1]],\n",
    "                      [state[(j-1)*3+2]],\n",
    "                      markersize = 50*abs.(U[3*j,i]), markerstrokecolor = cur_colors[i],\n",
    "                      markeralpha = 1.0, \n",
    "                      markerstrokewidth = 3,\n",
    "                      markercolor = :white, legend = false)\n",
    "            end\n",
    "#             plot!(plt[idxlines, idxcols], source, markersize = 12, markeralpha = 0.5, \n",
    "#                   color = cgrad(reverse(colormap(\"RdBu\")[10:end-10])),\n",
    "#                   clim = (-1.0, 1.0), label = [\"Vortices\" \"Sources\"], legend = false, colorbar = false)\n",
    "            plot!(plt[idxlines, idxcols],  xlim = (-2.0, 2.0), xticks = -2.0:1.0:2.0, \n",
    "                  ylim = (0, 1.2*maximum(imag.(config.zs))))\n",
    "\n",
    "            for j=1:config.Nv\n",
    "                # Put arrows to indicate directions of change\n",
    "                plot!(plt[idxlines, idxcols], \n",
    "                      [state[(j-1)*3+1], state[(j-1)*3+1] - U[(j-1)*3+1,i]],\n",
    "                      [state[(j-1)*3+2], state[(j-1)*3+2] - U[(j-1)*3+2,i]], \n",
    "                      linewidth = 2, arrow=(:closed, 0.5), arrowsize = 0.5, color = cur_colors[i], legend = false)\n",
    "                plot!(plt[idxlines, idxcols], \n",
    "                      [state[(j-1)*3+1], state[(j-1)*3+1] + U[(j-1)*3+1,i]],\n",
    "                      [state[(j-1)*3+2], state[(j-1)*3+2] + U[(j-1)*3+2,i]], \n",
    "                      linewidth = 2, arrow=(:closed, 0.5), arrowsize = 0.5, color = cur_colors[i], legend = false)\n",
    "            end\n",
    "        end\n",
    "    end\n",
    "    plt\n",
    "end"
   ]
  },
  {
   "cell_type": "markdown",
   "metadata": {},
   "source": [
    "### Configuration setup"
   ]
  },
  {
   "cell_type": "code",
   "execution_count": 5,
   "metadata": {},
   "outputs": [
    {
     "data": {
      "text/plain": [
       "(0.0, 12.0)"
      ]
     },
     "execution_count": 5,
     "metadata": {},
     "output_type": "execute_result"
    }
   ],
   "source": [
    "Δtgif = 0.1\n",
    "\n",
    "# Pressure sensors\n",
    "Δs = 0.5\n",
    "sensors = complex.(-2.0:Δs:16.0)\n",
    "Ny = length(sensors)\n",
    "\n",
    "Nclusters = 5\n",
    "# Standard deviation for the radial position of the vortices from the center of the clusters\n",
    "σr = 0.1\n",
    "zclusters = [-2.0 + 0.3*im; -1.9 + 1.9*im; -1.8 + 1.1*im; -1.3 + 1.4*im;\n",
    "             -1.4 + 0.8*im; -1.5 + 1.7*im; -1.2 + 0.2*im]\n",
    "Nset = 1\n",
    "\n",
    "config_data = let Nv = Nclusters*Nset, U = complex(1.0), \n",
    "             ss = sensors, Δt = 1e-3, δ = 1e-1,\n",
    "             ϵX = 1e-4, ϵΓ = 1e-4,\n",
    "             β = 1.0,\n",
    "             ϵY = 1e-2\n",
    "    VortexConfig(Nv, U, ss, Δt, δ, ϵX, ϵΓ, β, ϵY)\n",
    "end\n",
    "\n",
    "Nv = config_data.Nv\n",
    "\n",
    "xgrid = range(-3, 15, length=100)\n",
    "ygrid = range(-2.0, 2.0, length=100)\n",
    "\n",
    "t0 = 0.0\n",
    "tf = 12.0\n",
    "tspan = (t0, tf)"
   ]
  },
  {
   "cell_type": "markdown",
   "metadata": {},
   "source": [
    "### Generate the truth used in the twin experiment"
   ]
  },
  {
   "cell_type": "code",
   "execution_count": 6,
   "metadata": {},
   "outputs": [
    {
     "data": {
      "image/png": "[encoded data removed]"
     },
     "execution_count": 6,
     "metadata": {},
     "output_type": "execute_result"
    }
   ],
   "source": [
    "scatter(real.(zclusters)[1:Nclusters], imag.(zclusters)[1:Nclusters], xlims = (-2.5, 2.0), ylims = (0, 2.0))"
   ]
  },
  {
   "cell_type": "code",
   "execution_count": 7,
   "metadata": {},
   "outputs": [
    {
     "data": {
      "text/plain": [
       "SyntheticData([0.0, 0.001, 0.002, 0.003, 0.004, 0.005, 0.006, 0.007, 0.008, 0.009000000000000001  …  11.991, 11.992, 11.993, 11.994, 11.995000000000001, 11.996, 11.997, 11.998000000000001, 11.999, 12.0], 0.001, [-1.9685097578084725, 0.2158698824108603, 0.44470477722605245, -1.8965712265526309, 1.9721612306912126, 0.32295646826685215, -1.7701483387165924, 1.0676957743213307, 0.3600232521764078, -1.3051659404439242, 1.4882062051902039, 0.45158131372065413, -1.443100296302688, 0.7500196795243632, 0.32783518388798866], [-1.9685518107125792 -1.9670302847760721 … 13.433283902144659 13.434436131552385; 0.21592940987485693 0.21588356600206043 … 0.8806603123540508 0.8806832287657697; … ; 0.7501358482923609 0.7501407684505967 … 1.1011273299033102 1.1010222704117485; 0.32774023685000564 0.32783971347125757 … 0.33035787229772284 0.33041674978034374], [-0.41691929804175887 -0.4227298945948861 … -0.5061022958674709 -0.4938773795991547; -0.5120414096370234 -0.5233272318777836 … -0.48961282294410513 -0.49715039102512576; … ; -0.48531184886117784 -0.4924329007011297 … -0.4852348085967861 -0.4867994090467499; -0.510488444953356 -0.4941307171581023 … -0.5055573358309771 -0.4729977349594517])"
      ]
     },
     "execution_count": 7,
     "metadata": {},
     "output_type": "execute_result"
    }
   ],
   "source": [
    "freestream = Freestream(config_data.U)\n",
    "\n",
    "Nv = Nclusters*Nset\n",
    "zv = zeros(ComplexF64, Nv)\n",
    "\n",
    "for i=1:Nclusters\n",
    "    for j=1:Nset\n",
    "#         @show (σr/2 + σr/2*clamp(randn(), -3.0, 3.0)/3.0)\n",
    "        zv[(i-1)*Nset+j] = zclusters[i] + (σr/2 + σr/2*clamp(randn(), -3.0, 3.0)/3.0)*exp(im*2*π*rand())\n",
    "    end\n",
    "end\n",
    "\n",
    "# zv =  rand(Nv) + 0.8*im*maximum(imag.(config_data.zs))*rand(Nv)\n",
    "# zv .+= -2.0 + 0.1*im*maximum(imag.(config_data.zs))\n",
    "Γv = zeros(Nv)\n",
    "signclusters = [1; 1; 1; 1; 1; 1 ; 1]\n",
    "Γvmean = [   0.09598711763757772;\n",
    "             0.3942554457161529;\n",
    "             0.66223264972610867;\n",
    "             0.9718197621333651;\n",
    "             0.7859171016908615;\n",
    "             0.447930780784646;\n",
    "             0.5103719570003264]\n",
    "for i=1:Nclusters\n",
    "    for j=1:Nset\n",
    "        Γv[(i-1)*Nset+j] = signclusters[i]*abs.((0.4 + 0.1*randn()))\n",
    "#         Γv[(i-1)*Nset+j] = signclusters[i]*abs.((Γvmean[i] + 0.1*randn()))\n",
    "    end\n",
    "#         Γv[i*Nset] = signclusters[i]*abs.(1.3 + 0.2*randn())\n",
    "end\n",
    "# Γv = abs.(randn(Nv))\n",
    "\n",
    "blobs₊ = Nv >0 ? map(Vortex.Blob, zv, Γv, config_data.δ*ones(Nv)) : Vortex.Blob{Float64, Float64}[]\n",
    "blobs₋ = Nv >0 ? map(Vortex.Blob, conj.(zv), -Γv, config_data.δ*ones(Nv)) : Vortex.Blob{Float64, Float64}[]\n",
    "\n",
    "sys = (blobs₊, blobs₋)\n",
    "\n",
    "data = generate_vortex(deepcopy(sys), t0, tf, config_data, \"/media/mat/HDD/LowRankVortex.jl/example2/data/\");\n",
    "tt, x0, xt, yt = load(\"/media/mat/HDD/LowRankVortex.jl/example2/data/data_test.jld\", \"tt\", \"x0\", \"xt\", \"yt\")\n",
    "data = SyntheticData(tt, config_data.Δt, x0, xt, yt)"
   ]
  },
  {
   "cell_type": "code",
   "execution_count": 8,
   "metadata": {},
   "outputs": [
    {
     "data": {
      "image/png": "[encoded data removed]"
     },
     "execution_count": 8,
     "metadata": {},
     "output_type": "execute_result"
    }
   ],
   "source": [
    "scatter(real.(zv), imag.(zv), xlims = (-2.5, 2.0), ylims = (-2.0, 2.0), ratio = 1.0)"
   ]
  },
  {
   "cell_type": "code",
   "execution_count": 9,
   "metadata": {},
   "outputs": [
    {
     "data": {
      "image/png": "[encoded data removed]"
     },
     "execution_count": 9,
     "metadata": {},
     "output_type": "execute_result"
    }
   ],
   "source": [
    "heatmap(data.yt)"
   ]
  },
  {
   "cell_type": "code",
   "execution_count": 10,
   "metadata": {},
   "outputs": [
    {
     "data": {
      "image/png": "[encoded data removed]"
     },
     "execution_count": 10,
     "metadata": {},
     "output_type": "execute_result"
    },
    {
     "name": "stderr",
     "output_type": "stream",
     "text": [
      "sys:1: UserWarning: The following kwargs were not used by contour: 'label'\n",
      "sys:1: UserWarning: The following kwargs were not used by contour: 'label'\n"
     ]
    }
   ],
   "source": [
    "plt1 = routine_plot(data.xt[:,1], config_data, xgrid, ygrid; withvortices = true)\n",
    "plt2 = routine_plot(data.xt[:,end], config_data, xgrid, ygrid; withvortices = true)\n",
    "\n",
    "plot(plt1, plt2)"
   ]
  },
  {
   "cell_type": "code",
   "execution_count": 11,
   "metadata": {
    "scrolled": true
   },
   "outputs": [],
   "source": [
    "# prog = Progress(length(t0:Δtgif:tf))\n",
    "\n",
    "# @gif for tsnap in t0:Δtgif:tf\n",
    "#     nsnap = ceil(Int64, tsnap/config_data.Δt)+1\n",
    "#     plt1 = routine_plot(data.xt[:,nsnap], config_data, xgrid, ygrid; withvortices = true)\n",
    "#     plt2 = plot(real(config_data.ss), 2*measure_state(data.xt[:,nsnap], tsnap, config_data), xlim = (-Inf, Inf), \n",
    "#                 linewidth = 2, ylim = (-4.0, 0.0), color = :teal, legend = false, xlabel = L\"x\", ylabel = L\"p / 0.5 \\rho U^2\")\n",
    "#     plot(plt1, plt2)\n",
    "# #     next!(prog)\n",
    "# end"
   ]
  },
  {
   "cell_type": "markdown",
   "metadata": {},
   "source": [
    "### Setup the sequential filter"
   ]
  },
  {
   "cell_type": "code",
   "execution_count": 12,
   "metadata": {},
   "outputs": [
    {
     "data": {
      "text/plain": [
       "VortexConfig(5, 1.0 + 0.0im, ComplexF64[-2.0 + 0.0im, -1.5 + 0.0im, -1.0 + 0.0im, -0.5 + 0.0im, 0.0 + 0.0im, 0.5 + 0.0im, 1.0 + 0.0im, 1.5 + 0.0im, 2.0 + 0.0im, 2.5 + 0.0im  …  11.5 + 0.0im, 12.0 + 0.0im, 12.5 + 0.0im, 13.0 + 0.0im, 13.5 + 0.0im, 14.0 + 0.0im, 14.5 + 0.0im, 15.0 + 0.0im, 15.5 + 0.0im, 16.0 + 0.0im], 0.001, 0.1, 0.0001, 0.0001, 1.0, 0.01)"
      ]
     },
     "execution_count": 12,
     "metadata": {},
     "output_type": "execute_result"
    }
   ],
   "source": [
    "config = deepcopy(config_data)"
   ]
  },
  {
   "cell_type": "code",
   "execution_count": 13,
   "metadata": {},
   "outputs": [
    {
     "data": {
      "text/plain": [
       "AdditiveInflation(37, [0.0, 0.0, 0.0, 0.0, 0.0, 0.0, 0.0, 0.0, 0.0, 0.0  …  0.0, 0.0, 0.0, 0.0, 0.0, 0.0, 0.0, 0.0, 0.0, 0.0], [0.0001 0.0 … 0.0 0.0; 0.0 0.0001 … 0.0 0.0; … ; 0.0 0.0 … 0.0001 0.0; 0.0 0.0 … 0.0 0.0001], [0.01 0.0 … 0.0 0.0; 0.0 0.01 … 0.0 0.0; … ; 0.0 0.0 … 0.01 0.0; 0.0 0.0 … 0.0 0.01])"
      ]
     },
     "execution_count": 13,
     "metadata": {},
     "output_type": "execute_result"
    }
   ],
   "source": [
    "ϵy = AdditiveInflation(Ny, zeros(Ny), config.ϵY)"
   ]
  },
  {
   "cell_type": "code",
   "execution_count": 14,
   "metadata": {},
   "outputs": [
    {
     "data": {
      "text/plain": [
       "Stochastic EnKF  with filtered = true\n"
      ]
     },
     "execution_count": 14,
     "metadata": {},
     "output_type": "execute_result"
    }
   ],
   "source": [
    "enkf = StochEnKF(x-> x, ϵy, config.Δt, config.Δt; isfiltered = true)"
   ]
  },
  {
   "cell_type": "code",
   "execution_count": 15,
   "metadata": {},
   "outputs": [],
   "source": [
    "# save(\"ensemble_Ne_\"*string(Ne)*\".jld\", \"Xf\", Xf, \"Xa\", Xa)"
   ]
  },
  {
   "cell_type": "code",
   "execution_count": 21,
   "metadata": {},
   "outputs": [],
   "source": [
    "# Generate the initial condition\n",
    "\n",
    "Ne = 40\n",
    "Nx = 3*config.Nv\n",
    "Ny = length(config.ss)\n",
    "\n",
    "X0 = zeros(Ny+Nx, Ne)\n",
    "\n",
    "zv = zeros(ComplexF64, Nv)\n",
    "\n",
    "for k=1:Ne\n",
    "    for i=1:Nclusters\n",
    "        for j=1:Nset\n",
    "    #         @show (σr/2 + σr/2*clamp(randn(), -3.0, 3.0)/3.0)\n",
    "            zij = zclusters[i] + (σr/2 + σr/2*clamp(randn(), -3.0, 3.0)/3.0)*exp(im*2*π*rand())\n",
    "            X0[Ny + (i-1)*Nset*3 + (j-1)*3 + 1, k] = real(zij)\n",
    "            X0[Ny + (i-1)*Nset*3 + (j-1)*3 + 2, k] = imag(zij)\n",
    "        end\n",
    "    end\n",
    "end\n",
    "\n",
    "Γv = zeros(Nv)\n",
    "signclusters = [1; 1; 1; 1; 1; 1 ; 1]\n",
    "\n",
    "for k = 1:Ne\n",
    "    for i=1:Nclusters\n",
    "        for j=1:Nset\n",
    "            Γij = signclusters[i]*abs.((0.4 + 0.1*randn()))\n",
    "#             Γij = signclusters[i]*abs.((Γvmean[i] + 0.1*randn()))\n",
    "            X0[Ny + (i-1)*Nset*3 + (j-1)*3 + 3, k] = Γij\n",
    "        end\n",
    "    #         Γv[i*Nset] = signclusters[i]*abs.(1.3 + 0.2*randn())\n",
    "    end\n",
    "end"
   ]
  },
  {
   "cell_type": "code",
   "execution_count": 22,
   "metadata": {},
   "outputs": [
    {
     "name": "stderr",
     "output_type": "stream",
     "text": [
      "\u001b[32mProgress:  13%|█████▍                                   |  ETA: 0:00:49\u001b[39m"
     ]
    },
    {
     "ename": "LoadError",
     "evalue": "InterruptException:",
     "output_type": "error",
     "traceback": [
      "InterruptException:",
      "",
      "Stacktrace:",
      "  [1] deepcopy_internal(x::Any, stackdict::IdDict{Any, Any})",
      "    @ Base ./deepcopy.jl:75",
      "  [2] _deepcopy_array_t(x::Array, T::Type, stackdict::IdDict{Any, Any})",
      "    @ Base ./deepcopy.jl:105",
      "  [3] deepcopy_internal",
      "    @ ./deepcopy.jl:92 [inlined]",
      "  [4] #757",
      "    @ ./deepcopy.jl:32 [inlined]",
      "  [5] ntuple",
      "    @ ./ntuple.jl:19 [inlined]",
      "  [6] deepcopy_internal",
      "    @ ./deepcopy.jl:31 [inlined]",
      "  [7] deepcopy(x::Tuple{Vector{PotentialFlow.Blobs.Blob{Float64, Float64}}, Vector{PotentialFlow.Blobs.Blob{Float64, Float64}}})",
      "    @ Base ./deepcopy.jl:26",
      "  [8] pressure!(press::Vector{Float64}, targetvels::Vector{ComplexF64}, sourcevels::Tuple{Vector{ComplexF64}, Vector{ComplexF64}}, target::Vector{ComplexF64}, source::Tuple{Vector{PotentialFlow.Blobs.Blob{Float64, Float64}}, Vector{PotentialFlow.Blobs.Blob{Float64, Float64}}}, freestream::Freestream, t::Float64)",
      "    @ LowRankVortex /media/mat/HDD/LowRankVortex.jl/src/pressure.jl:40",
      "  [9] pressure(target::Vector{ComplexF64}, source::Tuple{Vector{PotentialFlow.Blobs.Blob{Float64, Float64}}, Vector{PotentialFlow.Blobs.Blob{Float64, Float64}}}, freestream::Freestream, t::Float64)",
      "    @ LowRankVortex /media/mat/HDD/LowRankVortex.jl/src/pressure.jl:58",
      " [10] measure_state(state::SubArray{Float64, 1, Matrix{Float64}, Tuple{UnitRange{Int64}, Int64}, true}, t::Float64, config::VortexConfig; withfreestream::Bool)",
      "    @ LowRankVortex /media/mat/HDD/LowRankVortex.jl/src/pressure.jl:11",
      " [11] h",
      "    @ /media/mat/HDD/LowRankVortex.jl/src/assimilation.jl:77 [inlined]",
      " [12] observe(h::LowRankVortex.var\"#h#47\"{Bool, VortexConfig}, X::Matrix{Float64}, t::Float64, Ny::Int64, Nx::Int64; P::Serial)",
      "    @ TransportBasedInference ~/.julia/packages/TransportBasedInference/92CIA/src/statespace/system.jl:57",
      " [13] macro expansion",
      "    @ /media/mat/HDD/LowRankVortex.jl/src/assimilation.jl:113 [inlined]",
      " [14] macro expansion",
      "    @ ~/.julia/packages/ProgressMeter/Vf8un/src/ProgressMeter.jl:940 [inlined]",
      " [15] vortexassim(algo::StochEnKF, X::Matrix{Float64}, tspan::Tuple{Float64, Float64}, config::VortexConfig, data::SyntheticData; withfreestream::Bool, P::Serial)",
      "    @ LowRankVortex /media/mat/HDD/LowRankVortex.jl/src/assimilation.jl:89",
      " [16] top-level scope",
      "    @ In[22]:1",
      " [17] eval",
      "    @ ./boot.jl:360 [inlined]",
      " [18] include_string(mapexpr::typeof(REPL.softscope), mod::Module, code::String, filename::String)",
      "    @ Base ./loading.jl:1116"
     ]
    }
   ],
   "source": [
    "Xf, Xa = vortexassim(enkf, deepcopy(X0), tspan, config, data; withfreestream  = true, P = serial)\n",
    "# save(\"ensemble_Ne_\"*string(Ne)*\".jld\", \"Xf\", Xf, \"Xa\", Xa)\n",
    "rmse_enkf = mean(norm.(eachcol(mean_hist(Xa)-data.xt))[8000:end]/sqrt(size(data.x0,1)))"
   ]
  },
  {
   "cell_type": "code",
   "execution_count": 25,
   "metadata": {},
   "outputs": [
    {
     "name": "stderr",
     "output_type": "stream",
     "text": [
      "\u001b[32mProgress: 100%|█████████████████████████████████████████| Time: 0:00:24\u001b[39m\n"
     ]
    },
    {
     "data": {
      "text/plain": [
       "0.9814931537963264"
      ]
     },
     "execution_count": 25,
     "metadata": {},
     "output_type": "execute_result"
    }
   ],
   "source": [
    "Xf, Xa = symmetric_vortexassim(enkf, deepcopy(X0), tspan, config, data; withfreestream  = true, P = serial)\n",
    "# save(\"ensemble_Ne_\"*string(Ne)*\".jld\", \"Xf\", Xf, \"Xa\", Xa)\n",
    "rmse_enkf = mean(norm.(eachcol(mean_hist(Xa)-data.xt))[8000:end]/sqrt(size(data.x0,1)))"
   ]
  },
  {
   "cell_type": "code",
   "execution_count": 31,
   "metadata": {},
   "outputs": [
    {
     "name": "stderr",
     "output_type": "stream",
     "text": [
      "\u001b[32mProgress: 100%|█████████████████████████████████████████| Time: 0:05:44\u001b[39m\n"
     ]
    },
    {
     "data": {
      "text/plain": [
       "0.0356991847955757"
      ]
     },
     "execution_count": 31,
     "metadata": {},
     "output_type": "execute_result"
    }
   ],
   "source": [
    "Xflowrank, Xalowrank = lowrankvortexassim(enkf, deepcopy(X0), tspan, config, data; withfreestream  = true, \n",
    "                                                  rxdefault = 10, rydefault = 8, P = serial)\n",
    "rmse_lowrankenkf = mean(norm.(eachcol(mean_hist(Xalowrank)-data.xt))[8000:end]/sqrt(size(data.x0,1)))"
   ]
  },
  {
   "cell_type": "code",
   "execution_count": 34,
   "metadata": {},
   "outputs": [
    {
     "name": "stderr",
     "output_type": "stream",
     "text": [
      "\u001b[32mProgress: 100%|█████████████████████████████████████████| Time: 0:00:35\u001b[39m\n"
     ]
    },
    {
     "data": {
      "text/plain": [
       "0.06565324665517241"
      ]
     },
     "execution_count": 34,
     "metadata": {},
     "output_type": "execute_result"
    }
   ],
   "source": [
    "Xflowrank, Xalowrank = symmetric_lowrankvortexassim(enkf, deepcopy(X0), tspan, config, data; \n",
    "                                                    withfreestream  = true, \n",
    "                                                    rxdefault = 10, rydefault = 8, P = serial)\n",
    "rmse_lowrankenkf = mean(norm.(eachcol(mean_hist(Xalowrank)-data.xt))[8000:end]/sqrt(size(data.x0,1)))"
   ]
  },
  {
   "cell_type": "code",
   "execution_count": null,
   "metadata": {},
   "outputs": [],
   "source": []
  }
 ],
 "metadata": {
  "kernelspec": {
   "display_name": "Julia 1.6.2",
   "language": "julia",
   "name": "julia-1.6"
  },
  "language_info": {
   "file_extension": ".jl",
   "mimetype": "application/julia",
   "name": "julia",
   "version": "1.6.2"
  }
 },
 "nbformat": 4,
 "nbformat_minor": 2
}
